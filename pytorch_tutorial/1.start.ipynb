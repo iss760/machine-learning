{
 "cells": [
  {
   "cell_type": "code",
   "execution_count": 1,
   "metadata": {},
   "outputs": [],
   "source": [
    "from __future__ import print_function\n",
    "import torch"
   ]
  },
  {
   "cell_type": "code",
   "execution_count": 2,
   "metadata": {},
   "outputs": [
    {
     "name": "stdout",
     "output_type": "stream",
     "text": [
      "tensor([[1.5414e-20, 9.2486e-43, 1.5408e-20],\n",
      "        [9.2486e-43, 1.5415e-20, 9.2486e-43],\n",
      "        [1.5415e-20, 9.2486e-43, 1.5408e-20],\n",
      "        [9.2486e-43, 1.5408e-20, 9.2486e-43],\n",
      "        [1.5408e-20, 9.2486e-43, 1.5408e-20]])\n"
     ]
    }
   ],
   "source": [
    "# 초기화되지 않은 5x3 행렬 생성\n",
    "# 초기화되지 않은 행령이 생성되면 그 시점에 할당 된 메모리에 존재하던 값들이 초기값으로 나타남  \n",
    "x = torch.empty(5, 3)\n",
    "print(x)"
   ]
  },
  {
   "cell_type": "code",
   "execution_count": 3,
   "metadata": {},
   "outputs": [
    {
     "name": "stdout",
     "output_type": "stream",
     "text": [
      "tensor([[0.4032, 0.6887, 0.7603],\n",
      "        [0.8735, 0.4901, 0.5736],\n",
      "        [0.5735, 0.9929, 0.1719],\n",
      "        [0.8787, 0.6925, 0.3965],\n",
      "        [0.7212, 0.6738, 0.2023]])\n"
     ]
    }
   ],
   "source": [
    "# 무작위로 초기화 된 행렬\n",
    "x = torch.rand(5, 3)\n",
    "print(x)"
   ]
  },
  {
   "cell_type": "code",
   "execution_count": 4,
   "metadata": {},
   "outputs": [
    {
     "name": "stdout",
     "output_type": "stream",
     "text": [
      "tensor([[0, 0, 0],\n",
      "        [0, 0, 0],\n",
      "        [0, 0, 0],\n",
      "        [0, 0, 0],\n",
      "        [0, 0, 0]])\n"
     ]
    }
   ],
   "source": [
    "# type이 long이고 0으로 채워진 행렬 생성\n",
    "x = torch.zeros(5, 3, dtype=torch.long)\n",
    "print(x)"
   ]
  },
  {
   "cell_type": "code",
   "execution_count": 5,
   "metadata": {},
   "outputs": [
    {
     "name": "stdout",
     "output_type": "stream",
     "text": [
      "tensor([5.5000, 3.0000])\n"
     ]
    }
   ],
   "source": [
    "# 데이터로부터 tensor를 직접 생성\n",
    "x = torch.tensor([5.5, 3])\n",
    "print(x)"
   ]
  },
  {
   "cell_type": "code",
   "execution_count": 6,
   "metadata": {},
   "outputs": [
    {
     "name": "stdout",
     "output_type": "stream",
     "text": [
      "tensor([[1., 1., 1.],\n",
      "        [1., 1., 1.],\n",
      "        [1., 1., 1.],\n",
      "        [1., 1., 1.],\n",
      "        [1., 1., 1.]], dtype=torch.float64)\n",
      "tensor([[0.7238, 0.3080, 0.5078],\n",
      "        [0.7136, 0.4991, 0.8521],\n",
      "        [0.2653, 0.9055, 0.0144],\n",
      "        [0.0148, 0.9083, 0.0334],\n",
      "        [0.5312, 0.2139, 0.7577]])\n"
     ]
    }
   ],
   "source": [
    "# 기존 tensor를 바탕으로 새로운 tensor를 생성\n",
    "# 이들 메소드(method)는 사용자로부터 새로운 값을 제공받지 않으면 입력 tensor의 속성돌(ex.dtype) 재사용\n",
    "x = x.new_ones(5, 3, dtype=torch.double)     # new_* 메소드는 크기를 받음\n",
    "print(x)\n",
    "\n",
    "x = torch.rand_like(x, dtype=torch.float)    # dtype을 오버라이드(Override) \n",
    "print(x)                                     # 결과는 동일한 크기를 가짐"
   ]
  },
  {
   "cell_type": "code",
   "execution_count": 7,
   "metadata": {},
   "outputs": [
    {
     "name": "stdout",
     "output_type": "stream",
     "text": [
      "torch.Size([5, 3])\n"
     ]
    }
   ],
   "source": [
    "# 행렬의 크기를 구함\n",
    "print(x.size())"
   ]
  },
  {
   "cell_type": "code",
   "execution_count": 8,
   "metadata": {},
   "outputs": [
    {
     "name": "stdout",
     "output_type": "stream",
     "text": [
      "tensor([[1.0959, 1.1878, 1.1214],\n",
      "        [1.6159, 0.8811, 1.6966],\n",
      "        [0.8122, 1.5858, 0.6287],\n",
      "        [0.7080, 1.3360, 0.9920],\n",
      "        [0.9402, 1.1328, 0.8275]])\n"
     ]
    }
   ],
   "source": [
    "# 덧셈 문법 1\n",
    "y = torch.rand(5, 3)\n",
    "print(x + y)"
   ]
  },
  {
   "cell_type": "code",
   "execution_count": 9,
   "metadata": {},
   "outputs": [
    {
     "name": "stdout",
     "output_type": "stream",
     "text": [
      "tensor([[1.0959, 1.1878, 1.1214],\n",
      "        [1.6159, 0.8811, 1.6966],\n",
      "        [0.8122, 1.5858, 0.6287],\n",
      "        [0.7080, 1.3360, 0.9920],\n",
      "        [0.9402, 1.1328, 0.8275]])\n"
     ]
    }
   ],
   "source": [
    "# 덧셈 문법 2\n",
    "print(torch.add(x, y))"
   ]
  },
  {
   "cell_type": "code",
   "execution_count": 10,
   "metadata": {},
   "outputs": [
    {
     "name": "stdout",
     "output_type": "stream",
     "text": [
      "tensor([[1.0959, 1.1878, 1.1214],\n",
      "        [1.6159, 0.8811, 1.6966],\n",
      "        [0.8122, 1.5858, 0.6287],\n",
      "        [0.7080, 1.3360, 0.9920],\n",
      "        [0.9402, 1.1328, 0.8275]])\n"
     ]
    }
   ],
   "source": [
    "# 덧셈 문법 3, 결과 tensor를 인자로 제공\n",
    "result = torch.empty(5, 3)\n",
    "torch.add(x, y, out=result)\n",
    "print(result)"
   ]
  },
  {
   "cell_type": "code",
   "execution_count": 11,
   "metadata": {},
   "outputs": [
    {
     "name": "stdout",
     "output_type": "stream",
     "text": [
      "tensor([[1.0959, 1.1878, 1.1214],\n",
      "        [1.6159, 0.8811, 1.6966],\n",
      "        [0.8122, 1.5858, 0.6287],\n",
      "        [0.7080, 1.3360, 0.9920],\n",
      "        [0.9402, 1.1328, 0.8275]])\n"
     ]
    }
   ],
   "source": [
    "# 덧셈 문법 4, In-place 방식\n",
    "# In-place 방식으로 tensor의 값을 변경하는 연산 뒤에는 _가 붙음. (ex. x.copy_(y))\n",
    "y.add_(x)\n",
    "print(y)"
   ]
  },
  {
   "cell_type": "code",
   "execution_count": 12,
   "metadata": {},
   "outputs": [
    {
     "name": "stdout",
     "output_type": "stream",
     "text": [
      "torch.Size([4, 4]) torch.Size([16]) torch.Size([2, 8])\n"
     ]
    }
   ],
   "source": [
    "# 크기변경\n",
    "x = torch.randn(4, 4)\n",
    "y = x.view(16)\n",
    "z= x.view(-1, 8)    # -1은 다른 차원을 보고 유추\n",
    "print(x.size(), y.size(), z.size())"
   ]
  },
  {
   "cell_type": "code",
   "execution_count": 13,
   "metadata": {},
   "outputs": [
    {
     "name": "stdout",
     "output_type": "stream",
     "text": [
      "tensor([0.5821])\n",
      "0.5820731520652771\n"
     ]
    }
   ],
   "source": [
    "# 만약 tensor에 값이 하나만 존재한다면, .item()을 통해 숫자 값을 얻을 수 있음\n",
    "x = torch.rand(1)\n",
    "print(x)\n",
    "print(x.item())"
   ]
  },
  {
   "cell_type": "code",
   "execution_count": 14,
   "metadata": {},
   "outputs": [
    {
     "name": "stdout",
     "output_type": "stream",
     "text": [
      "tensor([1., 1., 1., 1., 1.])\n",
      "[1. 1. 1. 1. 1.]\n"
     ]
    }
   ],
   "source": [
    "# torch tensor를 numpy 배열로 변환하기\n",
    "a = torch.ones(5)\n",
    "print(a)\n",
    "\n",
    "b = a.numpy()\n",
    "print(b)"
   ]
  },
  {
   "cell_type": "code",
   "execution_count": 15,
   "metadata": {},
   "outputs": [
    {
     "name": "stdout",
     "output_type": "stream",
     "text": [
      "tensor([2., 2., 2., 2., 2.])\n",
      "[2. 2. 2. 2. 2.]\n"
     ]
    }
   ],
   "source": [
    "# tensor를 변경하면 numpy 배열의 값도 자동으로 변경\n",
    "a.add_(1)\n",
    "print(a)\n",
    "print(b)"
   ]
  },
  {
   "cell_type": "code",
   "execution_count": 16,
   "metadata": {},
   "outputs": [
    {
     "name": "stdout",
     "output_type": "stream",
     "text": [
      "[2. 2. 2. 2. 2.]\n",
      "tensor([2., 2., 2., 2., 2.], dtype=torch.float64)\n"
     ]
    }
   ],
   "source": [
    "import numpy  as np\n",
    "\n",
    "# numpy 배열을 torch tensor로 변환하기\n",
    "# numpy 배열을 변경하면 tensor의 값도 자동으로 변경\n",
    "a = np.ones(5)\n",
    "b = torch.from_numpy(a)\n",
    "np.add(a, 1, out=a)\n",
    "print(a)\n",
    "print(b)"
   ]
  },
  {
   "cell_type": "code",
   "execution_count": 17,
   "metadata": {},
   "outputs": [],
   "source": [
    "# CUDA가 사용가능 한 환경에서만 실행 가능\n",
    "# 'torch.device'를 사용하여 tensor를 GPU 안팎으로 이동\n",
    "if torch.cuda.is_available():\n",
    "    device = torch.device(\"cuda\")            # CUDA 장치 객체(device object)로\n",
    "    y = torch.ones_like(x, device=device)    # GPU 상에 직접적으로 tensor를 생성하거나\n",
    "    x = x.to(device)                         # .to(cuda)를 사용하면 됨\n",
    "    z = x + y\n",
    "    print(z)\n",
    "    print(z.to(\"cpu\", torch.double))         # .to는 dtype도 함께 변경 가능"
   ]
  }
 ],
 "metadata": {
  "kernelspec": {
   "display_name": "Python 3",
   "language": "python",
   "name": "python3"
  },
  "language_info": {
   "codemirror_mode": {
    "name": "ipython",
    "version": 3
   },
   "file_extension": ".py",
   "mimetype": "text/x-python",
   "name": "python",
   "nbconvert_exporter": "python",
   "pygments_lexer": "ipython3",
   "version": "3.7.4"
  }
 },
 "nbformat": 4,
 "nbformat_minor": 4
}
