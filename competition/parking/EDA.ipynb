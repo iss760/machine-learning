{
 "cells": [
  {
   "cell_type": "code",
   "execution_count": 1,
   "metadata": {},
   "outputs": [],
   "source": [
    "import numpy as np\n",
    "import pandas as pd\n",
    "import sys\n",
    "sys.path.append(\"C:\\\\Users\\\\SHPark\\\\PycharmProjects\\\\DataAnalysisTool\")\n",
    "\n",
    "from information import Information"
   ]
  },
  {
   "cell_type": "code",
   "execution_count": 2,
   "metadata": {},
   "outputs": [],
   "source": [
    "FILE_PATH = \"./data/\"\n",
    "\n",
    "# 학습 데이터, 테스트 데이터, 제출 데이터 셈플 load\n",
    "train_data = pd.read_csv(FILE_PATH + 'train.csv')\n",
    "test_data = pd.read_csv(FILE_PATH + 'test.csv')\n",
    "sub_data = pd.read_csv(FILE_PATH + 'sample_submission.csv')\n",
    "age_gener_info_data = pd.read_csv(FILE_PATH + 'age_gender_info.csv')"
   ]
  },
  {
   "cell_type": "code",
   "execution_count": 3,
   "metadata": {},
   "outputs": [
    {
     "name": "stdout",
     "output_type": "stream",
     "text": [
      "Data shape :  (2952, 15)\n",
      "\n",
      "<class 'pandas.core.frame.DataFrame'>\n",
      "RangeIndex: 2952 entries, 0 to 2951\n",
      "Data columns (total 15 columns):\n",
      "단지코드                            2952 non-null object\n",
      "총세대수                            2952 non-null int64\n",
      "임대건물구분                          2952 non-null object\n",
      "지역                              2952 non-null object\n",
      "공급유형                            2952 non-null object\n",
      "전용면적                            2952 non-null float64\n",
      "전용면적별세대수                        2952 non-null int64\n",
      "공가수                             2952 non-null float64\n",
      "자격유형                            2952 non-null object\n",
      "임대보증금                           2383 non-null object\n",
      "임대료                             2383 non-null object\n",
      "도보 10분거리 내 지하철역 수(환승노선 수 반영)    2741 non-null float64\n",
      "도보 10분거리 내 버스정류장 수              2948 non-null float64\n",
      "단지내주차면수                         2952 non-null float64\n",
      "등록차량수                           2952 non-null float64\n",
      "dtypes: float64(6), int64(2), object(7)\n",
      "memory usage: 346.1+ KB\n",
      "None\n",
      "\n",
      "Data Null Sum Percent \n",
      " 단지코드                             0.00\n",
      "총세대수                             0.00\n",
      "임대건물구분                           0.00\n",
      "지역                               0.00\n",
      "공급유형                             0.00\n",
      "전용면적                             0.00\n",
      "전용면적별세대수                         0.00\n",
      "공가수                              0.00\n",
      "자격유형                             0.00\n",
      "임대보증금                           19.28\n",
      "임대료                             19.28\n",
      "도보 10분거리 내 지하철역 수(환승노선 수 반영)     7.15\n",
      "도보 10분거리 내 버스정류장 수               0.14\n",
      "단지내주차면수                          0.00\n",
      "등록차량수                            0.00\n",
      "dtype: float64\n",
      "\n"
     ]
    }
   ],
   "source": [
    "# info = Information()\n",
    "Information.print_basic_info(train_data)"
   ]
  },
  {
   "cell_type": "code",
   "execution_count": null,
   "metadata": {},
   "outputs": [],
   "source": []
  }
 ],
 "metadata": {
  "kernelspec": {
   "display_name": "Python 3",
   "language": "python",
   "name": "python3"
  },
  "language_info": {
   "codemirror_mode": {
    "name": "ipython",
    "version": 3
   },
   "file_extension": ".py",
   "mimetype": "text/x-python",
   "name": "python",
   "nbconvert_exporter": "python",
   "pygments_lexer": "ipython3",
   "version": "3.7.4"
  }
 },
 "nbformat": 4,
 "nbformat_minor": 4
}
