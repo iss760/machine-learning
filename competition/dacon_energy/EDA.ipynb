{
 "cells": [
  {
   "cell_type": "code",
   "execution_count": 3,
   "metadata": {},
   "outputs": [],
   "source": [
    "import numpy as np\n",
    "import pandas as pd\n",
    "\n",
    "import matplotlib.pyplot as plt\n",
    "from matplotlib import font_manager"
   ]
  },
  {
   "cell_type": "code",
   "execution_count": 4,
   "metadata": {},
   "outputs": [],
   "source": [
    "FILE_PATH = \"./data/\"\n",
    "\n",
    "# 학습 데이터, 테스트 데이터, 제출 데이터 셈플 load\n",
    "train_data = pd.read_csv(FILE_PATH + 'train.csv', encoding='cp949')\n",
    "test_data = pd.read_csv(FILE_PATH + 'test.csv', encoding='cp949')\n",
    "sub_data = pd.read_csv(FILE_PATH + 'sample_submission.csv', encoding='cp949')"
   ]
  },
  {
   "cell_type": "code",
   "execution_count": 31,
   "metadata": {},
   "outputs": [],
   "source": [
    "# 기본 정보 출력 클래스\n",
    "class Information:\n",
    "    def __init__(self):\n",
    "        self.SMALL_SIZE = 7\n",
    "\n",
    "    def _set_kor_font(self):\n",
    "        # 한글 폰트 설정\n",
    "        self.FONT_PATH = \"./NanumSquareB.ttf\"\n",
    "        self.FONT_NAME = font_manager.FontProperties(fname=self.FONT_PATH).get_name()\n",
    "        plt.rc('font', family=self.FONT_NAME)\n",
    "\n",
    "    # 데이터의 기본정보를 출력하는 함수\n",
    "    def print_basic_info(self, data):\n",
    "        \"\"\"\n",
    "        :param data: (DataFrame) data\n",
    "        :return: None\n",
    "        \"\"\"\n",
    "        # 한글 폰트 설정\n",
    "        self._set_kor_font()\n",
    "\n",
    "        print(\"Data shape : \", data.shape, end='\\n\\n')\n",
    "        print(data.info(), end='\\n\\n')\n",
    "        print(\"Data Null Sum Percent \\n\", round(data.isnull().sum()/data.shape[0] * 100, 2), end='\\n\\n')\n",
    "\n",
    "    # 수치형 데이터의 평균, 중위값 등 기본적 통계 지표를 출력하는 함수\n",
    "    def print_statistics_ind(self, data, col_name, qlt=False):\n",
    "        \"\"\"\n",
    "        :param data: (DataFrame) data\n",
    "        :param col_name: (str) Column name for which you want to see indicators\n",
    "        :param qlt: (bool) If column is qualitative variable, this parameter is true\n",
    "        :return: None\n",
    "        \"\"\"\n",
    "        # 한글 폰트 설정\n",
    "        self._set_kor_font()\n",
    "\n",
    "        # 질적변수인 경우\n",
    "        if qlt:\n",
    "            print(\"Data category: \", data[col_name].unique())\n",
    "            print(\"Data category: \", data[col_name].value_counts(sort=False).values)\n",
    "\n",
    "            x_feature_ratio = data[col_name].value_counts(sort=False)\n",
    "            x_feature_index = x_feature_ratio.index\n",
    "\n",
    "            # x값 시각화\n",
    "            plt.plot(aspect='auto')\n",
    "            plt.pie(x_feature_ratio, labels=x_feature_index, autopct='%1.1f%%')\n",
    "            plt.title(str(col_name) + '\\'s ratio in total')\n",
    "\n",
    "            plt.show()\n",
    "\n",
    "        # 양적 변수인 경우\n",
    "        else:\n",
    "            print(\"Data Max : \", data[col_name].max())\n",
    "            print(\"Data Min : \", data[col_name].min())\n",
    "            print(\"Data Mean : \", data[col_name].mean())\n",
    "            print(\"Data Median : \", data[col_name].median())\n",
    "            print(\"Data Top 05% : \", np.percentile(data[col_name].values, 95))\n",
    "            print(\"Data Top 25% : \", np.percentile(data[col_name].values, 75))\n",
    "            print(\"Data Top 75% : \", np.percentile(data[col_name].values, 25))\n",
    "            print(\"Data Top 95% : \", np.percentile(data[col_name].values, 5))\n",
    "            print(\"Data Variance : {0: .3f}\".format(data[col_name].var()))\n",
    "            print(\"Data Standard deviation: {0: .3f}\".format(data[col_name].std()))\n",
    "            print()\n",
    "\n",
    "            plt.plot()\n",
    "            plt.boxplot(data[col_name])\n",
    "\n",
    "            plt.show()"
   ]
  },
  {
   "cell_type": "code",
   "execution_count": 6,
   "metadata": {},
   "outputs": [
    {
     "data": {
      "text/html": [
       "<div>\n",
       "<style scoped>\n",
       "    .dataframe tbody tr th:only-of-type {\n",
       "        vertical-align: middle;\n",
       "    }\n",
       "\n",
       "    .dataframe tbody tr th {\n",
       "        vertical-align: top;\n",
       "    }\n",
       "\n",
       "    .dataframe thead th {\n",
       "        text-align: right;\n",
       "    }\n",
       "</style>\n",
       "<table border=\"1\" class=\"dataframe\">\n",
       "  <thead>\n",
       "    <tr style=\"text-align: right;\">\n",
       "      <th></th>\n",
       "      <th>num</th>\n",
       "      <th>date_time</th>\n",
       "      <th>전력사용량(kWh)</th>\n",
       "      <th>기온(°C)</th>\n",
       "      <th>풍속(m/s)</th>\n",
       "      <th>습도(%)</th>\n",
       "      <th>강수량(mm)</th>\n",
       "      <th>일조(hr)</th>\n",
       "      <th>비전기냉방설비운영</th>\n",
       "      <th>태양광보유</th>\n",
       "    </tr>\n",
       "  </thead>\n",
       "  <tbody>\n",
       "    <tr>\n",
       "      <td>0</td>\n",
       "      <td>1</td>\n",
       "      <td>2020-06-01 00</td>\n",
       "      <td>8179.056</td>\n",
       "      <td>17.6</td>\n",
       "      <td>2.5</td>\n",
       "      <td>92.0</td>\n",
       "      <td>0.8</td>\n",
       "      <td>0.0</td>\n",
       "      <td>0.0</td>\n",
       "      <td>0.0</td>\n",
       "    </tr>\n",
       "    <tr>\n",
       "      <td>1</td>\n",
       "      <td>1</td>\n",
       "      <td>2020-06-01 01</td>\n",
       "      <td>8135.640</td>\n",
       "      <td>17.7</td>\n",
       "      <td>2.9</td>\n",
       "      <td>91.0</td>\n",
       "      <td>0.3</td>\n",
       "      <td>0.0</td>\n",
       "      <td>0.0</td>\n",
       "      <td>0.0</td>\n",
       "    </tr>\n",
       "    <tr>\n",
       "      <td>2</td>\n",
       "      <td>1</td>\n",
       "      <td>2020-06-01 02</td>\n",
       "      <td>8107.128</td>\n",
       "      <td>17.5</td>\n",
       "      <td>3.2</td>\n",
       "      <td>91.0</td>\n",
       "      <td>0.0</td>\n",
       "      <td>0.0</td>\n",
       "      <td>0.0</td>\n",
       "      <td>0.0</td>\n",
       "    </tr>\n",
       "    <tr>\n",
       "      <td>3</td>\n",
       "      <td>1</td>\n",
       "      <td>2020-06-01 03</td>\n",
       "      <td>8048.808</td>\n",
       "      <td>17.1</td>\n",
       "      <td>3.2</td>\n",
       "      <td>91.0</td>\n",
       "      <td>0.0</td>\n",
       "      <td>0.0</td>\n",
       "      <td>0.0</td>\n",
       "      <td>0.0</td>\n",
       "    </tr>\n",
       "    <tr>\n",
       "      <td>4</td>\n",
       "      <td>1</td>\n",
       "      <td>2020-06-01 04</td>\n",
       "      <td>8043.624</td>\n",
       "      <td>17.0</td>\n",
       "      <td>3.3</td>\n",
       "      <td>92.0</td>\n",
       "      <td>0.0</td>\n",
       "      <td>0.0</td>\n",
       "      <td>0.0</td>\n",
       "      <td>0.0</td>\n",
       "    </tr>\n",
       "  </tbody>\n",
       "</table>\n",
       "</div>"
      ],
      "text/plain": [
       "   num      date_time  전력사용량(kWh)  기온(°C)  풍속(m/s)  습도(%)  강수량(mm)  일조(hr)  \\\n",
       "0    1  2020-06-01 00    8179.056    17.6      2.5   92.0      0.8     0.0   \n",
       "1    1  2020-06-01 01    8135.640    17.7      2.9   91.0      0.3     0.0   \n",
       "2    1  2020-06-01 02    8107.128    17.5      3.2   91.0      0.0     0.0   \n",
       "3    1  2020-06-01 03    8048.808    17.1      3.2   91.0      0.0     0.0   \n",
       "4    1  2020-06-01 04    8043.624    17.0      3.3   92.0      0.0     0.0   \n",
       "\n",
       "   비전기냉방설비운영  태양광보유  \n",
       "0        0.0    0.0  \n",
       "1        0.0    0.0  \n",
       "2        0.0    0.0  \n",
       "3        0.0    0.0  \n",
       "4        0.0    0.0  "
      ]
     },
     "execution_count": 6,
     "metadata": {},
     "output_type": "execute_result"
    }
   ],
   "source": [
    "# train data head\n",
    "train_data.head()"
   ]
  },
  {
   "cell_type": "code",
   "execution_count": 7,
   "metadata": {},
   "outputs": [
    {
     "data": {
      "text/html": [
       "<div>\n",
       "<style scoped>\n",
       "    .dataframe tbody tr th:only-of-type {\n",
       "        vertical-align: middle;\n",
       "    }\n",
       "\n",
       "    .dataframe tbody tr th {\n",
       "        vertical-align: top;\n",
       "    }\n",
       "\n",
       "    .dataframe thead th {\n",
       "        text-align: right;\n",
       "    }\n",
       "</style>\n",
       "<table border=\"1\" class=\"dataframe\">\n",
       "  <thead>\n",
       "    <tr style=\"text-align: right;\">\n",
       "      <th></th>\n",
       "      <th>num</th>\n",
       "      <th>date_time</th>\n",
       "      <th>기온(°C)</th>\n",
       "      <th>풍속(m/s)</th>\n",
       "      <th>습도(%)</th>\n",
       "      <th>강수량(mm, 6시간)</th>\n",
       "      <th>일조(hr, 3시간)</th>\n",
       "      <th>비전기냉방설비운영</th>\n",
       "      <th>태양광보유</th>\n",
       "    </tr>\n",
       "  </thead>\n",
       "  <tbody>\n",
       "    <tr>\n",
       "      <td>0</td>\n",
       "      <td>1</td>\n",
       "      <td>2020-08-25 00</td>\n",
       "      <td>27.8</td>\n",
       "      <td>1.5</td>\n",
       "      <td>74.0</td>\n",
       "      <td>0.0</td>\n",
       "      <td>0.0</td>\n",
       "      <td>NaN</td>\n",
       "      <td>NaN</td>\n",
       "    </tr>\n",
       "    <tr>\n",
       "      <td>1</td>\n",
       "      <td>1</td>\n",
       "      <td>2020-08-25 01</td>\n",
       "      <td>NaN</td>\n",
       "      <td>NaN</td>\n",
       "      <td>NaN</td>\n",
       "      <td>NaN</td>\n",
       "      <td>NaN</td>\n",
       "      <td>NaN</td>\n",
       "      <td>NaN</td>\n",
       "    </tr>\n",
       "    <tr>\n",
       "      <td>2</td>\n",
       "      <td>1</td>\n",
       "      <td>2020-08-25 02</td>\n",
       "      <td>NaN</td>\n",
       "      <td>NaN</td>\n",
       "      <td>NaN</td>\n",
       "      <td>NaN</td>\n",
       "      <td>NaN</td>\n",
       "      <td>NaN</td>\n",
       "      <td>NaN</td>\n",
       "    </tr>\n",
       "    <tr>\n",
       "      <td>3</td>\n",
       "      <td>1</td>\n",
       "      <td>2020-08-25 03</td>\n",
       "      <td>27.3</td>\n",
       "      <td>1.1</td>\n",
       "      <td>78.0</td>\n",
       "      <td>NaN</td>\n",
       "      <td>0.0</td>\n",
       "      <td>NaN</td>\n",
       "      <td>NaN</td>\n",
       "    </tr>\n",
       "    <tr>\n",
       "      <td>4</td>\n",
       "      <td>1</td>\n",
       "      <td>2020-08-25 04</td>\n",
       "      <td>NaN</td>\n",
       "      <td>NaN</td>\n",
       "      <td>NaN</td>\n",
       "      <td>NaN</td>\n",
       "      <td>NaN</td>\n",
       "      <td>NaN</td>\n",
       "      <td>NaN</td>\n",
       "    </tr>\n",
       "  </tbody>\n",
       "</table>\n",
       "</div>"
      ],
      "text/plain": [
       "   num      date_time  기온(°C)  풍속(m/s)  습도(%)  강수량(mm, 6시간)  일조(hr, 3시간)  \\\n",
       "0    1  2020-08-25 00    27.8      1.5   74.0           0.0          0.0   \n",
       "1    1  2020-08-25 01     NaN      NaN    NaN           NaN          NaN   \n",
       "2    1  2020-08-25 02     NaN      NaN    NaN           NaN          NaN   \n",
       "3    1  2020-08-25 03    27.3      1.1   78.0           NaN          0.0   \n",
       "4    1  2020-08-25 04     NaN      NaN    NaN           NaN          NaN   \n",
       "\n",
       "   비전기냉방설비운영  태양광보유  \n",
       "0        NaN    NaN  \n",
       "1        NaN    NaN  \n",
       "2        NaN    NaN  \n",
       "3        NaN    NaN  \n",
       "4        NaN    NaN  "
      ]
     },
     "execution_count": 7,
     "metadata": {},
     "output_type": "execute_result"
    }
   ],
   "source": [
    "# test data head\n",
    "test_data.head()"
   ]
  },
  {
   "cell_type": "code",
   "execution_count": 8,
   "metadata": {},
   "outputs": [
    {
     "data": {
      "text/html": [
       "<div>\n",
       "<style scoped>\n",
       "    .dataframe tbody tr th:only-of-type {\n",
       "        vertical-align: middle;\n",
       "    }\n",
       "\n",
       "    .dataframe tbody tr th {\n",
       "        vertical-align: top;\n",
       "    }\n",
       "\n",
       "    .dataframe thead th {\n",
       "        text-align: right;\n",
       "    }\n",
       "</style>\n",
       "<table border=\"1\" class=\"dataframe\">\n",
       "  <thead>\n",
       "    <tr style=\"text-align: right;\">\n",
       "      <th></th>\n",
       "      <th>num_date_time</th>\n",
       "      <th>answer</th>\n",
       "    </tr>\n",
       "  </thead>\n",
       "  <tbody>\n",
       "    <tr>\n",
       "      <td>0</td>\n",
       "      <td>1 2020-08-25 00</td>\n",
       "      <td>0</td>\n",
       "    </tr>\n",
       "    <tr>\n",
       "      <td>1</td>\n",
       "      <td>1 2020-08-25 01</td>\n",
       "      <td>0</td>\n",
       "    </tr>\n",
       "    <tr>\n",
       "      <td>2</td>\n",
       "      <td>1 2020-08-25 02</td>\n",
       "      <td>0</td>\n",
       "    </tr>\n",
       "    <tr>\n",
       "      <td>3</td>\n",
       "      <td>1 2020-08-25 03</td>\n",
       "      <td>0</td>\n",
       "    </tr>\n",
       "    <tr>\n",
       "      <td>4</td>\n",
       "      <td>1 2020-08-25 04</td>\n",
       "      <td>0</td>\n",
       "    </tr>\n",
       "  </tbody>\n",
       "</table>\n",
       "</div>"
      ],
      "text/plain": [
       "     num_date_time  answer\n",
       "0  1 2020-08-25 00       0\n",
       "1  1 2020-08-25 01       0\n",
       "2  1 2020-08-25 02       0\n",
       "3  1 2020-08-25 03       0\n",
       "4  1 2020-08-25 04       0"
      ]
     },
     "execution_count": 8,
     "metadata": {},
     "output_type": "execute_result"
    }
   ],
   "source": [
    "# sample submission data head\n",
    "sub_data.head()"
   ]
  },
  {
   "cell_type": "code",
   "execution_count": 13,
   "metadata": {},
   "outputs": [
    {
     "name": "stdout",
     "output_type": "stream",
     "text": [
      "Data shape :  (122400, 10)\n",
      "\n",
      "<class 'pandas.core.frame.DataFrame'>\n",
      "RangeIndex: 122400 entries, 0 to 122399\n",
      "Data columns (total 10 columns):\n",
      "num           122400 non-null int64\n",
      "date_time     122400 non-null object\n",
      "전력사용량(kWh)    122400 non-null float64\n",
      "기온(°C)        122400 non-null float64\n",
      "풍속(m/s)       122400 non-null float64\n",
      "습도(%)         122400 non-null float64\n",
      "강수량(mm)       122400 non-null float64\n",
      "일조(hr)        122400 non-null float64\n",
      "비전기냉방설비운영     122400 non-null float64\n",
      "태양광보유         122400 non-null float64\n",
      "dtypes: float64(8), int64(1), object(1)\n",
      "memory usage: 9.3+ MB\n",
      "None\n",
      "\n",
      "Data Null Sum Percent \n",
      " num           0.0\n",
      "date_time     0.0\n",
      "전력사용량(kWh)    0.0\n",
      "기온(°C)        0.0\n",
      "풍속(m/s)       0.0\n",
      "습도(%)         0.0\n",
      "강수량(mm)       0.0\n",
      "일조(hr)        0.0\n",
      "비전기냉방설비운영     0.0\n",
      "태양광보유         0.0\n",
      "dtype: float64\n",
      "\n"
     ]
    }
   ],
   "source": [
    "# 학습 데이터 기본 정보 출력\n",
    "info.print_basic_info(train_data)"
   ]
  },
  {
   "cell_type": "code",
   "execution_count": 15,
   "metadata": {},
   "outputs": [
    {
     "name": "stdout",
     "output_type": "stream",
     "text": [
      "Data shape :  (10080, 9)\n",
      "\n",
      "<class 'pandas.core.frame.DataFrame'>\n",
      "RangeIndex: 10080 entries, 0 to 10079\n",
      "Data columns (total 9 columns):\n",
      "num             10080 non-null int64\n",
      "date_time       10080 non-null object\n",
      "기온(°C)          3360 non-null float64\n",
      "풍속(m/s)         3360 non-null float64\n",
      "습도(%)           3360 non-null float64\n",
      "강수량(mm, 6시간)    1680 non-null float64\n",
      "일조(hr, 3시간)     3360 non-null float64\n",
      "비전기냉방설비운영       2296 non-null float64\n",
      "태양광보유           1624 non-null float64\n",
      "dtypes: float64(7), int64(1), object(1)\n",
      "memory usage: 708.9+ KB\n",
      "None\n",
      "\n",
      "Data Null Sum Percent \n",
      " num              0.00\n",
      "date_time        0.00\n",
      "기온(°C)          66.67\n",
      "풍속(m/s)         66.67\n",
      "습도(%)           66.67\n",
      "강수량(mm, 6시간)    83.33\n",
      "일조(hr, 3시간)     66.67\n",
      "비전기냉방설비운영       77.22\n",
      "태양광보유           83.89\n",
      "dtype: float64\n",
      "\n"
     ]
    }
   ],
   "source": [
    "# 테스트 데이터 기본 정보 출력\n",
    "info.print_basic_info(test_data)"
   ]
  },
  {
   "cell_type": "code",
   "execution_count": 32,
   "metadata": {},
   "outputs": [
    {
     "name": "stdout",
     "output_type": "stream",
     "text": [
      "Data Max :  17739.225\n",
      "Data Min :  0.0\n",
      "Data Mean :  2324.8308658684296\n",
      "Data Median :  1700.352\n",
      "Data Top 05% :  6460.931519999997\n",
      "Data Top 25% :  2780.487\n",
      "Data Top 75% :  1055.268\n",
      "Data Top 95% :  536.76\n",
      "Data Variance :  4239478.224\n",
      "Data Standard deviation:  2058.999\n",
      "\n"
     ]
    },
    {
     "data": {
      "image/png": "[encoded data removed]",
      "text/plain": [
       "<Figure size 432x288 with 1 Axes>"
      ]
     },
     "metadata": {
      "needs_background": "light"
     },
     "output_type": "display_data"
    }
   ],
   "source": [
    "info.print_statistics_ind(train_data, '전력사용량(kWh)')"
   ]
  },
  {
   "cell_type": "code",
   "execution_count": 33,
   "metadata": {},
   "outputs": [
    {
     "name": "stdout",
     "output_type": "stream",
     "text": [
      "Data Max :  36.3\n",
      "Data Min :  11.1\n",
      "Data Mean :  24.25171323529616\n",
      "Data Median :  24.2\n",
      "Data Top 05% :  30.1\n",
      "Data Top 25% :  26.5\n",
      "Data Top 75% :  21.8\n",
      "Data Top 95% :  18.9\n",
      "Data Variance :  11.614\n",
      "Data Standard deviation:  3.408\n",
      "\n"
     ]
    },
    {
     "data": {
      "image/png": "[encoded data removed]",
      "text/plain": [
       "<Figure size 432x288 with 1 Axes>"
      ]
     },
     "metadata": {
      "needs_background": "light"
     },
     "output_type": "display_data"
    }
   ],
   "source": [
    "info.print_statistics_ind(train_data, '기온(°C)')"
   ]
  },
  {
   "cell_type": "code",
   "execution_count": 34,
   "metadata": {},
   "outputs": [
    {
     "name": "stdout",
     "output_type": "stream",
     "text": [
      "Data Max :  20.1\n",
      "Data Min :  0.0\n",
      "Data Mean :  2.1516405228759043\n",
      "Data Median :  1.9\n",
      "Data Top 05% :  4.9\n",
      "Data Top 25% :  2.9\n",
      "Data Top 75% :  1.1\n",
      "Data Top 95% :  0.3\n",
      "Data Variance :  2.294\n",
      "Data Standard deviation:  1.514\n",
      "\n"
     ]
    },
    {
     "data": {
      "image/png": "[encoded data removed]",
      "text/plain": [
       "<Figure size 432x288 with 1 Axes>"
      ]
     },
     "metadata": {
      "needs_background": "light"
     },
     "output_type": "display_data"
    }
   ],
   "source": [
    "info.print_statistics_ind(train_data, '풍속(m/s)')"
   ]
  },
  {
   "cell_type": "code",
   "execution_count": 35,
   "metadata": {},
   "outputs": [
    {
     "name": "stdout",
     "output_type": "stream",
     "text": [
      "Data Max :  100.0\n",
      "Data Min :  19.0\n",
      "Data Mean :  80.16984803921568\n",
      "Data Median :  84.0\n",
      "Data Top 05% :  99.0\n",
      "Data Top 25% :  93.0\n",
      "Data Top 75% :  70.0\n",
      "Data Top 95% :  50.0\n",
      "Data Variance :  241.052\n",
      "Data Standard deviation:  15.526\n",
      "\n"
     ]
    },
    {
     "data": {
      "image/png": "[encoded data removed]",
      "text/plain": [
       "<Figure size 432x288 with 1 Axes>"
      ]
     },
     "metadata": {
      "needs_background": "light"
     },
     "output_type": "display_data"
    }
   ],
   "source": [
    "info.print_statistics_ind(train_data, '습도(%)')"
   ]
  },
  {
   "cell_type": "code",
   "execution_count": 36,
   "metadata": {},
   "outputs": [
    {
     "name": "stdout",
     "output_type": "stream",
     "text": [
      "Data Max :  81.5\n",
      "Data Min :  0.0\n",
      "Data Mean :  0.514989379084945\n",
      "Data Median :  0.0\n",
      "Data Top 05% :  2.3\n",
      "Data Top 25% :  0.0\n",
      "Data Top 75% :  0.0\n",
      "Data Top 95% :  0.0\n",
      "Data Variance :  6.888\n",
      "Data Standard deviation:  2.625\n",
      "\n"
     ]
    },
    {
     "data": {
      "image/png": "[encoded data removed]",
      "text/plain": [
       "<Figure size 432x288 with 1 Axes>"
      ]
     },
     "metadata": {
      "needs_background": "light"
     },
     "output_type": "display_data"
    }
   ],
   "source": [
    "info.print_statistics_ind(train_data, '강수량(mm)')"
   ]
  },
  {
   "cell_type": "code",
   "execution_count": 37,
   "metadata": {},
   "outputs": [
    {
     "name": "stdout",
     "output_type": "stream",
     "text": [
      "Data Max :  1.0\n",
      "Data Min :  0.0\n",
      "Data Mean :  0.21353349673202346\n",
      "Data Median :  0.0\n",
      "Data Top 05% :  1.0\n",
      "Data Top 25% :  0.3\n",
      "Data Top 75% :  0.0\n",
      "Data Top 95% :  0.0\n",
      "Data Variance :  0.137\n",
      "Data Standard deviation:  0.371\n",
      "\n"
     ]
    },
    {
     "data": {
      "image/png": "[encoded data removed]",
      "text/plain": [
       "<Figure size 432x288 with 1 Axes>"
      ]
     },
     "metadata": {
      "needs_background": "light"
     },
     "output_type": "display_data"
    }
   ],
   "source": [
    "info.print_statistics_ind(train_data, '일조(hr)')"
   ]
  },
  {
   "cell_type": "code",
   "execution_count": 38,
   "metadata": {},
   "outputs": [
    {
     "name": "stdout",
     "output_type": "stream",
     "text": [
      "Data category:  [0. 1.]\n",
      "Data category:  [38760 83640]\n"
     ]
    },
    {
     "data": {
      "image/png": "[encoded data removed]",
      "text/plain": [
       "<Figure size 432x288 with 1 Axes>"
      ]
     },
     "metadata": {},
     "output_type": "display_data"
    }
   ],
   "source": [
    "info.print_statistics_ind(train_data, '비전기냉방설비운영', qlt=True)"
   ]
  },
  {
   "cell_type": "code",
   "execution_count": 39,
   "metadata": {},
   "outputs": [
    {
     "name": "stdout",
     "output_type": "stream",
     "text": [
      "Data category:  [0. 1.]\n",
      "Data category:  [63240 59160]\n"
     ]
    },
    {
     "data": {
      "image/png": "[encoded data removed]",
      "text/plain": [
       "<Figure size 432x288 with 1 Axes>"
      ]
     },
     "metadata": {},
     "output_type": "display_data"
    }
   ],
   "source": [
    "info.print_statistics_ind(train_data, '태양광보유', qlt=True)"
   ]
  },
  {
   "cell_type": "code",
   "execution_count": 6,
   "metadata": {},
   "outputs": [
    {
     "data": {
      "text/html": [
       "<div>\n",
       "<style scoped>\n",
       "    .dataframe tbody tr th:only-of-type {\n",
       "        vertical-align: middle;\n",
       "    }\n",
       "\n",
       "    .dataframe tbody tr th {\n",
       "        vertical-align: top;\n",
       "    }\n",
       "\n",
       "    .dataframe thead th {\n",
       "        text-align: right;\n",
       "    }\n",
       "</style>\n",
       "<table border=\"1\" class=\"dataframe\">\n",
       "  <thead>\n",
       "    <tr style=\"text-align: right;\">\n",
       "      <th></th>\n",
       "      <th>num</th>\n",
       "      <th>전력사용량(kWh)</th>\n",
       "      <th>기온(°C)</th>\n",
       "      <th>풍속(m/s)</th>\n",
       "      <th>습도(%)</th>\n",
       "      <th>강수량(mm)</th>\n",
       "      <th>일조(hr)</th>\n",
       "      <th>비전기냉방설비운영</th>\n",
       "      <th>태양광보유</th>\n",
       "    </tr>\n",
       "  </thead>\n",
       "  <tbody>\n",
       "    <tr>\n",
       "      <td>num</td>\n",
       "      <td>1.000000</td>\n",
       "      <td>-0.063193</td>\n",
       "      <td>0.000363</td>\n",
       "      <td>-0.052184</td>\n",
       "      <td>0.005379</td>\n",
       "      <td>-0.004673</td>\n",
       "      <td>-0.013685</td>\n",
       "      <td>0.061031</td>\n",
       "      <td>0.099181</td>\n",
       "    </tr>\n",
       "    <tr>\n",
       "      <td>전력사용량(kWh)</td>\n",
       "      <td>-0.063193</td>\n",
       "      <td>1.000000</td>\n",
       "      <td>0.158361</td>\n",
       "      <td>0.109965</td>\n",
       "      <td>-0.077199</td>\n",
       "      <td>-0.006028</td>\n",
       "      <td>0.112131</td>\n",
       "      <td>0.150799</td>\n",
       "      <td>0.116344</td>\n",
       "    </tr>\n",
       "    <tr>\n",
       "      <td>기온(°C)</td>\n",
       "      <td>0.000363</td>\n",
       "      <td>0.158361</td>\n",
       "      <td>1.000000</td>\n",
       "      <td>0.167455</td>\n",
       "      <td>-0.509105</td>\n",
       "      <td>-0.093788</td>\n",
       "      <td>0.515657</td>\n",
       "      <td>0.019067</td>\n",
       "      <td>0.025865</td>\n",
       "    </tr>\n",
       "    <tr>\n",
       "      <td>풍속(m/s)</td>\n",
       "      <td>-0.052184</td>\n",
       "      <td>0.109965</td>\n",
       "      <td>0.167455</td>\n",
       "      <td>1.000000</td>\n",
       "      <td>-0.110439</td>\n",
       "      <td>0.083433</td>\n",
       "      <td>0.156381</td>\n",
       "      <td>0.006275</td>\n",
       "      <td>-0.076560</td>\n",
       "    </tr>\n",
       "    <tr>\n",
       "      <td>습도(%)</td>\n",
       "      <td>0.005379</td>\n",
       "      <td>-0.077199</td>\n",
       "      <td>-0.509105</td>\n",
       "      <td>-0.110439</td>\n",
       "      <td>1.000000</td>\n",
       "      <td>0.208862</td>\n",
       "      <td>-0.627597</td>\n",
       "      <td>-0.031405</td>\n",
       "      <td>-0.020657</td>\n",
       "    </tr>\n",
       "    <tr>\n",
       "      <td>강수량(mm)</td>\n",
       "      <td>-0.004673</td>\n",
       "      <td>-0.006028</td>\n",
       "      <td>-0.093788</td>\n",
       "      <td>0.083433</td>\n",
       "      <td>0.208862</td>\n",
       "      <td>1.000000</td>\n",
       "      <td>-0.112646</td>\n",
       "      <td>-0.003560</td>\n",
       "      <td>-0.016685</td>\n",
       "    </tr>\n",
       "    <tr>\n",
       "      <td>일조(hr)</td>\n",
       "      <td>-0.013685</td>\n",
       "      <td>0.112131</td>\n",
       "      <td>0.515657</td>\n",
       "      <td>0.156381</td>\n",
       "      <td>-0.627597</td>\n",
       "      <td>-0.112646</td>\n",
       "      <td>1.000000</td>\n",
       "      <td>-0.005695</td>\n",
       "      <td>-0.008412</td>\n",
       "    </tr>\n",
       "    <tr>\n",
       "      <td>비전기냉방설비운영</td>\n",
       "      <td>0.061031</td>\n",
       "      <td>0.150799</td>\n",
       "      <td>0.019067</td>\n",
       "      <td>0.006275</td>\n",
       "      <td>-0.031405</td>\n",
       "      <td>-0.003560</td>\n",
       "      <td>-0.005695</td>\n",
       "      <td>1.000000</td>\n",
       "      <td>0.084842</td>\n",
       "    </tr>\n",
       "    <tr>\n",
       "      <td>태양광보유</td>\n",
       "      <td>0.099181</td>\n",
       "      <td>0.116344</td>\n",
       "      <td>0.025865</td>\n",
       "      <td>-0.076560</td>\n",
       "      <td>-0.020657</td>\n",
       "      <td>-0.016685</td>\n",
       "      <td>-0.008412</td>\n",
       "      <td>0.084842</td>\n",
       "      <td>1.000000</td>\n",
       "    </tr>\n",
       "  </tbody>\n",
       "</table>\n",
       "</div>"
      ],
      "text/plain": [
       "                 num  전력사용량(kWh)    기온(°C)   풍속(m/s)     습도(%)   강수량(mm)  \\\n",
       "num         1.000000   -0.063193  0.000363 -0.052184  0.005379 -0.004673   \n",
       "전력사용량(kWh) -0.063193    1.000000  0.158361  0.109965 -0.077199 -0.006028   \n",
       "기온(°C)      0.000363    0.158361  1.000000  0.167455 -0.509105 -0.093788   \n",
       "풍속(m/s)    -0.052184    0.109965  0.167455  1.000000 -0.110439  0.083433   \n",
       "습도(%)       0.005379   -0.077199 -0.509105 -0.110439  1.000000  0.208862   \n",
       "강수량(mm)    -0.004673   -0.006028 -0.093788  0.083433  0.208862  1.000000   \n",
       "일조(hr)     -0.013685    0.112131  0.515657  0.156381 -0.627597 -0.112646   \n",
       "비전기냉방설비운영   0.061031    0.150799  0.019067  0.006275 -0.031405 -0.003560   \n",
       "태양광보유       0.099181    0.116344  0.025865 -0.076560 -0.020657 -0.016685   \n",
       "\n",
       "              일조(hr)  비전기냉방설비운영     태양광보유  \n",
       "num        -0.013685   0.061031  0.099181  \n",
       "전력사용량(kWh)  0.112131   0.150799  0.116344  \n",
       "기온(°C)      0.515657   0.019067  0.025865  \n",
       "풍속(m/s)     0.156381   0.006275 -0.076560  \n",
       "습도(%)      -0.627597  -0.031405 -0.020657  \n",
       "강수량(mm)    -0.112646  -0.003560 -0.016685  \n",
       "일조(hr)      1.000000  -0.005695 -0.008412  \n",
       "비전기냉방설비운영  -0.005695   1.000000  0.084842  \n",
       "태양광보유      -0.008412   0.084842  1.000000  "
      ]
     },
     "execution_count": 6,
     "metadata": {},
     "output_type": "execute_result"
    }
   ],
   "source": [
    "corr = train_data.corr(method='pearson')\n",
    "corr"
   ]
  },
  {
   "cell_type": "code",
   "execution_count": 7,
   "metadata": {},
   "outputs": [
    {
     "data": {
      "text/plain": [
       "pandas.core.frame.DataFrame"
      ]
     },
     "execution_count": 7,
     "metadata": {},
     "output_type": "execute_result"
    }
   ],
   "source": [
    "type(corr)"
   ]
  },
  {
   "cell_type": "code",
   "execution_count": null,
   "metadata": {},
   "outputs": [],
   "source": []
  }
 ],
 "metadata": {
  "kernelspec": {
   "display_name": "Python 3",
   "language": "python",
   "name": "python3"
  },
  "language_info": {
   "codemirror_mode": {
    "name": "ipython",
    "version": 3
   },
   "file_extension": ".py",
   "mimetype": "text/x-python",
   "name": "python",
   "nbconvert_exporter": "python",
   "pygments_lexer": "ipython3",
   "version": "3.7.4"
  }
 },
 "nbformat": 4,
 "nbformat_minor": 4
}
