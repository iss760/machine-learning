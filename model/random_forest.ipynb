{
 "cells": [
  {
   "cell_type": "markdown",
   "id": "9e2b206d-6a13-4d17-b4d9-f38eed57aef5",
   "metadata": {},
   "source": [
    "# Random Forest Regression (Boston Data)"
   ]
  },
  {
   "cell_type": "markdown",
   "id": "d8c9f95b-a07c-4cb2-9d01-a50cecc1d820",
   "metadata": {},
   "source": [
    "Decision Tree는 Overfitting 가능성이 높다는 약점이 있다. Random Forest는 여러개의 Decision Tree를 형성하고 동일한 데이터로부터 복원 추출하여 Decision Tree에 통과 시킨다. 그 후, 각 Tree가 분류한 결과를 취합하는 앙상블(Ensenble) 방식의 모델이다. 이렇게 많은 수의 Tree를 생성함으로써 일부 Tree에 Overfitting이 발생하더라도 Overfitting이 결과에 영향을 주는 것을 방지한다."
   ]
  },
  {
   "cell_type": "code",
   "execution_count": 45,
   "id": "ccd5e199-68cd-4296-810c-c94ab94767a4",
   "metadata": {},
   "outputs": [],
   "source": [
    "import numpy as np\n",
    "import pandas as pd\n",
    "import matplotlib.pyplot as plt\n",
    "import seaborn as sns\n",
    "from sklearn import tree\n",
    "from sklearn import ensemble\n",
    "from sklearn import preprocessing\n",
    "from sklearn import metrics\n",
    "from sklearn.model_selection import train_test_split, cross_val_score\n",
    "from sklearn.metrics import classification_report, roc_curve\n",
    "\n",
    "%matplotlib inline"
   ]
  },
  {
   "cell_type": "markdown",
   "id": "066158a7-8835-4d4b-ad88-bcb3b6492373",
   "metadata": {},
   "source": [
    "----"
   ]
  },
  {
   "cell_type": "markdown",
   "id": "af382720-e624-45b8-9cb9-a242fc172b08",
   "metadata": {},
   "source": [
    "**TIP)**   \n",
    "*Ensemble*   "
   ]
  },
  {
   "cell_type": "markdown",
   "id": "8b9ea3a1-f4a4-413a-a88c-b94357a62b63",
   "metadata": {},
   "source": [
    "<img src='./image/bagging_boosting.jpg' width=500 height=400>"
   ]
  },
  {
   "cell_type": "markdown",
   "id": "d649eba6-6941-4490-9a03-59557fd4ffca",
   "metadata": {},
   "source": [
    "- Bagging (Bootstrap Aggregation)    \n",
    "Bootstraping(복원 추출하여 train set을 만드는 것, 비복원 추출은 Pasting이라 함) 된 샘플을을 모델에 학습시킨다. 그 후, 학습된 모델의 결과를 집계하여 투표(Voting) 방식으로 최종 결과 값을 도출하며 연속적인 데이터에 대해서는 평균으로 집계한다. 이러한 Bagging은 Overfitting을 피하고 분산(Variance)을 낮추는 효과를 가진다. 대표적으로, Random Forest 모델이 있다.    \n",
    "\n",
    "- Boosting    \n",
    "Boosting은 성능 자체의 강화와 어려운 문제의 해결에 초점을 맞추고 있으며 편향(bias)가 높은 경우 이를 해결하는 효과가 있다. Bagging 처럼 복원 샘플링 방식을 사용하지만 순차적으로 학습이 진행되며 결과에 따라 오답에 대해 높은 가중치 정답에 대해 낮은 가중치를 부여해 가며 오답에 집중하는 방식으로 학습이 이루어진다. 높은 정확도를 가지지만 Outlier에는 취약것이 단점이다. 대표적으로 AdaBoost, XGBoost, GradientBoost 등이 있다.     "
   ]
  },
  {
   "cell_type": "markdown",
   "id": "9ead177f-7261-4814-8dca-b2a18a061e13",
   "metadata": {},
   "source": [
    "<img src='./image/stacking_cv.png' width=600 height=400>"
   ]
  },
  {
   "cell_type": "markdown",
   "id": "e84948a4-bcc8-4c30-ba66-ba3b89d588dc",
   "metadata": {},
   "source": [
    "- Stacking    \n",
    "Stacking은 서로 상이한 개별의 모델들이 예측한 데이터를 다시 meta data set으로 사용해서 학습한다. 즉, 개별 모델들(Base Learner)과 최종모델(Meta Learner)이 별도로 존재한다. 원본 데이터를 Base와 Meta가 함께 사용하므로 Overfitting에 취약한 경우가 많은데, 이를 해결하기 위해 Cross Validation 방식을 사용하는 경우가 많다."
   ]
  },
  {
   "cell_type": "markdown",
   "id": "662fca0c-acee-46dd-8fa1-0209555b3fe1",
   "metadata": {},
   "source": [
    "----"
   ]
  },
  {
   "cell_type": "markdown",
   "id": "d79de239-2a8d-4260-98ce-546a25c487fc",
   "metadata": {},
   "source": [
    "## 1. Load Datasets"
   ]
  },
  {
   "cell_type": "code",
   "execution_count": 2,
   "id": "c2aee018-03d2-4697-a312-a71d4b8d7cb5",
   "metadata": {},
   "outputs": [
    {
     "data": {
      "text/html": [
       "<div>\n",
       "<style scoped>\n",
       "    .dataframe tbody tr th:only-of-type {\n",
       "        vertical-align: middle;\n",
       "    }\n",
       "\n",
       "    .dataframe tbody tr th {\n",
       "        vertical-align: top;\n",
       "    }\n",
       "\n",
       "    .dataframe thead th {\n",
       "        text-align: right;\n",
       "    }\n",
       "</style>\n",
       "<table border=\"1\" class=\"dataframe\">\n",
       "  <thead>\n",
       "    <tr style=\"text-align: right;\">\n",
       "      <th></th>\n",
       "      <th>crim</th>\n",
       "      <th>zn</th>\n",
       "      <th>indus</th>\n",
       "      <th>chas</th>\n",
       "      <th>nox</th>\n",
       "      <th>rm</th>\n",
       "      <th>age</th>\n",
       "      <th>dis</th>\n",
       "      <th>rad</th>\n",
       "      <th>tax</th>\n",
       "      <th>ptratio</th>\n",
       "      <th>black</th>\n",
       "      <th>lstat</th>\n",
       "      <th>medv</th>\n",
       "    </tr>\n",
       "  </thead>\n",
       "  <tbody>\n",
       "    <tr>\n",
       "      <th>0</th>\n",
       "      <td>0.00632</td>\n",
       "      <td>18.0</td>\n",
       "      <td>2.31</td>\n",
       "      <td>0</td>\n",
       "      <td>0.538</td>\n",
       "      <td>6.575</td>\n",
       "      <td>65.2</td>\n",
       "      <td>4.0900</td>\n",
       "      <td>1</td>\n",
       "      <td>296</td>\n",
       "      <td>15.3</td>\n",
       "      <td>396.90</td>\n",
       "      <td>4.98</td>\n",
       "      <td>24.0</td>\n",
       "    </tr>\n",
       "    <tr>\n",
       "      <th>1</th>\n",
       "      <td>0.02731</td>\n",
       "      <td>0.0</td>\n",
       "      <td>7.07</td>\n",
       "      <td>0</td>\n",
       "      <td>0.469</td>\n",
       "      <td>6.421</td>\n",
       "      <td>78.9</td>\n",
       "      <td>4.9671</td>\n",
       "      <td>2</td>\n",
       "      <td>242</td>\n",
       "      <td>17.8</td>\n",
       "      <td>396.90</td>\n",
       "      <td>9.14</td>\n",
       "      <td>21.6</td>\n",
       "    </tr>\n",
       "    <tr>\n",
       "      <th>2</th>\n",
       "      <td>0.02729</td>\n",
       "      <td>0.0</td>\n",
       "      <td>7.07</td>\n",
       "      <td>0</td>\n",
       "      <td>0.469</td>\n",
       "      <td>7.185</td>\n",
       "      <td>61.1</td>\n",
       "      <td>4.9671</td>\n",
       "      <td>2</td>\n",
       "      <td>242</td>\n",
       "      <td>17.8</td>\n",
       "      <td>392.83</td>\n",
       "      <td>4.03</td>\n",
       "      <td>34.7</td>\n",
       "    </tr>\n",
       "  </tbody>\n",
       "</table>\n",
       "</div>"
      ],
      "text/plain": [
       "      crim    zn  indus  chas    nox     rm   age     dis  rad  tax  ptratio  \\\n",
       "0  0.00632  18.0   2.31     0  0.538  6.575  65.2  4.0900    1  296     15.3   \n",
       "1  0.02731   0.0   7.07     0  0.469  6.421  78.9  4.9671    2  242     17.8   \n",
       "2  0.02729   0.0   7.07     0  0.469  7.185  61.1  4.9671    2  242     17.8   \n",
       "\n",
       "    black  lstat  medv  \n",
       "0  396.90   4.98  24.0  \n",
       "1  396.90   9.14  21.6  \n",
       "2  392.83   4.03  34.7  "
      ]
     },
     "execution_count": 2,
     "metadata": {},
     "output_type": "execute_result"
    }
   ],
   "source": [
    "boston_data = pd.read_csv('./data/Boston.csv')\n",
    "boston_data.head(3)"
   ]
  },
  {
   "cell_type": "code",
   "execution_count": 3,
   "id": "55767231-c959-4f9b-b73a-e6857ce414d6",
   "metadata": {},
   "outputs": [
    {
     "name": "stdout",
     "output_type": "stream",
     "text": [
      "<class 'pandas.core.frame.DataFrame'>\n",
      "RangeIndex: 506 entries, 0 to 505\n",
      "Data columns (total 14 columns):\n",
      " #   Column   Non-Null Count  Dtype  \n",
      "---  ------   --------------  -----  \n",
      " 0   crim     506 non-null    float64\n",
      " 1   zn       506 non-null    float64\n",
      " 2   indus    506 non-null    float64\n",
      " 3   chas     506 non-null    int64  \n",
      " 4   nox      506 non-null    float64\n",
      " 5   rm       506 non-null    float64\n",
      " 6   age      506 non-null    float64\n",
      " 7   dis      506 non-null    float64\n",
      " 8   rad      506 non-null    int64  \n",
      " 9   tax      506 non-null    int64  \n",
      " 10  ptratio  506 non-null    float64\n",
      " 11  black    506 non-null    float64\n",
      " 12  lstat    506 non-null    float64\n",
      " 13  medv     506 non-null    float64\n",
      "dtypes: float64(11), int64(3)\n",
      "memory usage: 55.5 KB\n"
     ]
    }
   ],
   "source": [
    "boston_data.info()"
   ]
  },
  {
   "cell_type": "markdown",
   "id": "f30e1e61-accf-4ae7-8085-0c81dc3b8688",
   "metadata": {},
   "source": [
    "## 2. PreProcessing"
   ]
  },
  {
   "cell_type": "code",
   "execution_count": 4,
   "id": "4f42d50b-3ac6-442d-85da-d332e3ed7e64",
   "metadata": {},
   "outputs": [
    {
     "name": "stdout",
     "output_type": "stream",
     "text": [
      "(506, 13)\n",
      "(506,)\n"
     ]
    }
   ],
   "source": [
    "# X, y갑 분할\n",
    "X = boston_data[boston_data.columns.difference(['medv'])]\n",
    "y = boston_data['medv']\n",
    "print(X.shape)\n",
    "print(y.shape)"
   ]
  },
  {
   "cell_type": "code",
   "execution_count": 5,
   "id": "0d3592f9-3cca-464d-8a55-205ada16005c",
   "metadata": {},
   "outputs": [
    {
     "name": "stdout",
     "output_type": "stream",
     "text": [
      "(404, 13)\n",
      "(102, 13)\n",
      "(404,)\n",
      "(102,)\n"
     ]
    }
   ],
   "source": [
    "# 학습, 테스트 데이터 분할\n",
    "X_train, X_test, y_train, y_test = train_test_split(X, y, test_size=0.2, random_state=3)\n",
    "print(X_train.shape)\n",
    "print(X_test.shape)\n",
    "print(y_train.shape)\n",
    "print(y_test.shape)"
   ]
  },
  {
   "cell_type": "markdown",
   "id": "928facd9-1358-41d5-a721-76f0d0b94214",
   "metadata": {},
   "source": [
    "## 3. Random Forest"
   ]
  },
  {
   "cell_type": "code",
   "execution_count": 6,
   "id": "72d73606-daf3-4e3b-959f-96a1007c6f7e",
   "metadata": {},
   "outputs": [
    {
     "name": "stdout",
     "output_type": "stream",
     "text": [
      "MSE:  6.638956752549043\n"
     ]
    }
   ],
   "source": [
    "# Random Forest 생성\n",
    "# n_estimators는 tree의 수를 지정하며 default는 100 (ver0.22 이하에서는 default 10)\n",
    "# max_feature의 값이 클 경우, Tree들이 매우 비슷해자며 가장 두드러진 특성에 맞춰 예측하는 효과가 있음\n",
    "# max_feature의 값이 작을 경우, Tree들이 매우 달라지며 Overfiting이 줄어드는 효과가 있음\n",
    "rf_regr = ensemble.RandomForestRegressor(n_estimators=500,    # 500개의 tree\n",
    "                                         max_features=6,      # 무작위로 선택할 Feature의 최대 개수\n",
    "                                         random_state=123)\n",
    "\n",
    "# Random Forest 학습\n",
    "rf_regr.fit(X_train, y_train)\n",
    "\n",
    "y_pred = rf_regr.predict(X_test)\n",
    "print('MSE: ', metrics.mean_squared_error(y_pred, y_test))"
   ]
  },
  {
   "cell_type": "code",
   "execution_count": 7,
   "id": "52c8af12-cf80-40c4-ac54-21a100a01e83",
   "metadata": {},
   "outputs": [
    {
     "name": "stdout",
     "output_type": "stream",
     "text": [
      "MSE:  7.413463666666667\n"
     ]
    }
   ],
   "source": [
    "# parameter들을 defalut 값으로 설정\n",
    "rf_regr = ensemble.RandomForestRegressor(random_state=123)\n",
    "\n",
    "# Random Forest 학습\n",
    "rf_regr.fit(X_train, y_train)\n",
    "\n",
    "y_pred = rf_regr.predict(X_test)\n",
    "print('MSE: ', metrics.mean_squared_error(y_pred, y_test))"
   ]
  },
  {
   "cell_type": "code",
   "execution_count": 8,
   "id": "4a024f1c-82ea-4bab-bf09-1f17a0a38086",
   "metadata": {},
   "outputs": [
    {
     "name": "stdout",
     "output_type": "stream",
     "text": [
      "feature: 7 ( 6.473 )\n"
     ]
    },
    {
     "data": {
      "image/png": "[encoded data removed]",
      "text/plain": [
       "<Figure size 432x288 with 1 Axes>"
      ]
     },
     "metadata": {
      "needs_background": "light"
     },
     "output_type": "display_data"
    }
   ],
   "source": [
    "# max_feature에 따라 모델 성능 비교\n",
    "feature_size = range(3, 12)\n",
    "mse_scores = []\n",
    "for size in feature_size:\n",
    "    # n_jobs는 병렬 작업 수를 의미, -1일 경우 모든 프로세서 사용\n",
    "    rf_regr = ensemble.RandomForestRegressor(n_estimators=500, \n",
    "                                             max_features=size, \n",
    "                                             random_state=123,\n",
    "                                             n_jobs=-1)\n",
    "    rf_regr.fit(X_train, y_train)\n",
    "    y_pred = rf_regr.predict(X_test)\n",
    "    mse = metrics.mean_squared_error(y_pred, y_test)\n",
    "    mse_scores.append(mse)\n",
    "    \n",
    "opt_feature = mse_scores.index(min(mse_scores)) + 3\n",
    "print('feature:', opt_feature, '(', round(min(mse_scores), 3), ')')\n",
    "plt.plot(feature_size, mse_scores)\n",
    "plt.xlabel('Feature Size')\n",
    "plt.ylabel('MSE')\n",
    "plt.grid(True)\n",
    "plt.show()"
   ]
  },
  {
   "cell_type": "code",
   "execution_count": 11,
   "id": "a6add8eb-9e43-48b8-a9d6-f535b5c27302",
   "metadata": {},
   "outputs": [
    {
     "data": {
      "text/html": [
       "<div>\n",
       "<style scoped>\n",
       "    .dataframe tbody tr th:only-of-type {\n",
       "        vertical-align: middle;\n",
       "    }\n",
       "\n",
       "    .dataframe tbody tr th {\n",
       "        vertical-align: top;\n",
       "    }\n",
       "\n",
       "    .dataframe thead th {\n",
       "        text-align: right;\n",
       "    }\n",
       "</style>\n",
       "<table border=\"1\" class=\"dataframe\">\n",
       "  <thead>\n",
       "    <tr style=\"text-align: right;\">\n",
       "      <th></th>\n",
       "      <th>feature</th>\n",
       "      <th>importance</th>\n",
       "    </tr>\n",
       "  </thead>\n",
       "  <tbody>\n",
       "    <tr>\n",
       "      <th>6</th>\n",
       "      <td>lstat</td>\n",
       "      <td>0.354809</td>\n",
       "    </tr>\n",
       "    <tr>\n",
       "      <th>10</th>\n",
       "      <td>rm</td>\n",
       "      <td>0.325812</td>\n",
       "    </tr>\n",
       "    <tr>\n",
       "      <th>4</th>\n",
       "      <td>dis</td>\n",
       "      <td>0.066492</td>\n",
       "    </tr>\n",
       "    <tr>\n",
       "      <th>7</th>\n",
       "      <td>nox</td>\n",
       "      <td>0.061432</td>\n",
       "    </tr>\n",
       "    <tr>\n",
       "      <th>3</th>\n",
       "      <td>crim</td>\n",
       "      <td>0.049343</td>\n",
       "    </tr>\n",
       "    <tr>\n",
       "      <th>5</th>\n",
       "      <td>indus</td>\n",
       "      <td>0.041486</td>\n",
       "    </tr>\n",
       "    <tr>\n",
       "      <th>8</th>\n",
       "      <td>ptratio</td>\n",
       "      <td>0.032656</td>\n",
       "    </tr>\n",
       "    <tr>\n",
       "      <th>0</th>\n",
       "      <td>age</td>\n",
       "      <td>0.025632</td>\n",
       "    </tr>\n",
       "    <tr>\n",
       "      <th>11</th>\n",
       "      <td>tax</td>\n",
       "      <td>0.018753</td>\n",
       "    </tr>\n",
       "    <tr>\n",
       "      <th>1</th>\n",
       "      <td>black</td>\n",
       "      <td>0.014333</td>\n",
       "    </tr>\n",
       "  </tbody>\n",
       "</table>\n",
       "</div>"
      ],
      "text/plain": [
       "    feature  importance\n",
       "6     lstat    0.354809\n",
       "10       rm    0.325812\n",
       "4       dis    0.066492\n",
       "7       nox    0.061432\n",
       "3      crim    0.049343\n",
       "5     indus    0.041486\n",
       "8   ptratio    0.032656\n",
       "0       age    0.025632\n",
       "11      tax    0.018753\n",
       "1     black    0.014333"
      ]
     },
     "execution_count": 11,
     "metadata": {},
     "output_type": "execute_result"
    }
   ],
   "source": [
    "# 중요한 상위 10개의 Feature 확인\n",
    "rf_regr = ensemble.RandomForestRegressor(n_estimators=500, max_features=7, random_state=123)\n",
    "rf_regr.fit(X_train, y_train)\n",
    "feature_importance = pd.DataFrame({'feature': X_train.columns, 'importance': rf_regr.feature_importances_})\n",
    "feature_importance.sort_values(by='importance', ascending=False)[:10]"
   ]
  },
  {
   "cell_type": "markdown",
   "id": "84679a5c-3fcc-4687-a911-bab84039f75d",
   "metadata": {},
   "source": [
    "# Random Forest Classfication (Heart Data)"
   ]
  },
  {
   "cell_type": "markdown",
   "id": "015698ad-c234-4196-a0bb-65e68c1421e3",
   "metadata": {},
   "source": [
    "## 1. Load Datasets"
   ]
  },
  {
   "cell_type": "code",
   "execution_count": 14,
   "id": "8cb8384e-6279-4e62-b1c3-31ebf96c2e07",
   "metadata": {},
   "outputs": [
    {
     "data": {
      "text/html": [
       "<div>\n",
       "<style scoped>\n",
       "    .dataframe tbody tr th:only-of-type {\n",
       "        vertical-align: middle;\n",
       "    }\n",
       "\n",
       "    .dataframe tbody tr th {\n",
       "        vertical-align: top;\n",
       "    }\n",
       "\n",
       "    .dataframe thead th {\n",
       "        text-align: right;\n",
       "    }\n",
       "</style>\n",
       "<table border=\"1\" class=\"dataframe\">\n",
       "  <thead>\n",
       "    <tr style=\"text-align: right;\">\n",
       "      <th></th>\n",
       "      <th>Age</th>\n",
       "      <th>Sex</th>\n",
       "      <th>ChestPain</th>\n",
       "      <th>RestBP</th>\n",
       "      <th>Chol</th>\n",
       "      <th>Fbs</th>\n",
       "      <th>RestECG</th>\n",
       "      <th>MaxHR</th>\n",
       "      <th>ExAng</th>\n",
       "      <th>Oldpeak</th>\n",
       "      <th>Slope</th>\n",
       "      <th>Ca</th>\n",
       "      <th>Thal</th>\n",
       "      <th>AHD</th>\n",
       "    </tr>\n",
       "  </thead>\n",
       "  <tbody>\n",
       "    <tr>\n",
       "      <th>1</th>\n",
       "      <td>63</td>\n",
       "      <td>1</td>\n",
       "      <td>typical</td>\n",
       "      <td>145</td>\n",
       "      <td>233</td>\n",
       "      <td>1</td>\n",
       "      <td>2</td>\n",
       "      <td>150</td>\n",
       "      <td>0</td>\n",
       "      <td>2.3</td>\n",
       "      <td>3</td>\n",
       "      <td>0.0</td>\n",
       "      <td>fixed</td>\n",
       "      <td>No</td>\n",
       "    </tr>\n",
       "    <tr>\n",
       "      <th>2</th>\n",
       "      <td>67</td>\n",
       "      <td>1</td>\n",
       "      <td>asymptomatic</td>\n",
       "      <td>160</td>\n",
       "      <td>286</td>\n",
       "      <td>0</td>\n",
       "      <td>2</td>\n",
       "      <td>108</td>\n",
       "      <td>1</td>\n",
       "      <td>1.5</td>\n",
       "      <td>2</td>\n",
       "      <td>3.0</td>\n",
       "      <td>normal</td>\n",
       "      <td>Yes</td>\n",
       "    </tr>\n",
       "    <tr>\n",
       "      <th>3</th>\n",
       "      <td>67</td>\n",
       "      <td>1</td>\n",
       "      <td>asymptomatic</td>\n",
       "      <td>120</td>\n",
       "      <td>229</td>\n",
       "      <td>0</td>\n",
       "      <td>2</td>\n",
       "      <td>129</td>\n",
       "      <td>1</td>\n",
       "      <td>2.6</td>\n",
       "      <td>2</td>\n",
       "      <td>2.0</td>\n",
       "      <td>reversable</td>\n",
       "      <td>Yes</td>\n",
       "    </tr>\n",
       "  </tbody>\n",
       "</table>\n",
       "</div>"
      ],
      "text/plain": [
       "   Age  Sex     ChestPain  RestBP  Chol  Fbs  RestECG  MaxHR  ExAng  Oldpeak  \\\n",
       "1   63    1       typical     145   233    1        2    150      0      2.3   \n",
       "2   67    1  asymptomatic     160   286    0        2    108      1      1.5   \n",
       "3   67    1  asymptomatic     120   229    0        2    129      1      2.6   \n",
       "\n",
       "   Slope   Ca        Thal  AHD  \n",
       "1      3  0.0       fixed   No  \n",
       "2      2  3.0      normal  Yes  \n",
       "3      2  2.0  reversable  Yes  "
      ]
     },
     "execution_count": 14,
     "metadata": {},
     "output_type": "execute_result"
    }
   ],
   "source": [
    "heart_data = pd.read_csv('./data/Heart.csv', index_col=0)\n",
    "heart_data.head(3)"
   ]
  },
  {
   "cell_type": "code",
   "execution_count": 15,
   "id": "fb232577-32c6-4491-b347-f0d2ac15a462",
   "metadata": {},
   "outputs": [
    {
     "name": "stdout",
     "output_type": "stream",
     "text": [
      "<class 'pandas.core.frame.DataFrame'>\n",
      "Int64Index: 303 entries, 1 to 303\n",
      "Data columns (total 14 columns):\n",
      " #   Column     Non-Null Count  Dtype  \n",
      "---  ------     --------------  -----  \n",
      " 0   Age        303 non-null    int64  \n",
      " 1   Sex        303 non-null    int64  \n",
      " 2   ChestPain  303 non-null    object \n",
      " 3   RestBP     303 non-null    int64  \n",
      " 4   Chol       303 non-null    int64  \n",
      " 5   Fbs        303 non-null    int64  \n",
      " 6   RestECG    303 non-null    int64  \n",
      " 7   MaxHR      303 non-null    int64  \n",
      " 8   ExAng      303 non-null    int64  \n",
      " 9   Oldpeak    303 non-null    float64\n",
      " 10  Slope      303 non-null    int64  \n",
      " 11  Ca         299 non-null    float64\n",
      " 12  Thal       301 non-null    object \n",
      " 13  AHD        303 non-null    object \n",
      "dtypes: float64(2), int64(9), object(3)\n",
      "memory usage: 35.5+ KB\n"
     ]
    }
   ],
   "source": [
    "heart_data.info()"
   ]
  },
  {
   "cell_type": "markdown",
   "id": "c3116903-e583-44d6-8454-c7e9e42c43ed",
   "metadata": {},
   "source": [
    "## 2. PreProcessing"
   ]
  },
  {
   "cell_type": "code",
   "execution_count": 35,
   "id": "76ae9548-0a36-44bb-a618-4a63a70b4b09",
   "metadata": {},
   "outputs": [
    {
     "data": {
      "text/plain": [
       "(297, 14)"
      ]
     },
     "execution_count": 35,
     "metadata": {},
     "output_type": "execute_result"
    }
   ],
   "source": [
    "# Null값 제거\n",
    "heart_data = heart_data.dropna()\n",
    "heart_data.shape"
   ]
  },
  {
   "cell_type": "code",
   "execution_count": 36,
   "id": "1b7fe135-f381-4f54-8714-be390162452f",
   "metadata": {},
   "outputs": [
    {
     "name": "stdout",
     "output_type": "stream",
     "text": [
      "(297, 13)\n",
      "(297,)\n"
     ]
    }
   ],
   "source": [
    "# X, y 분할\n",
    "X = heart_data[heart_data.columns.difference(['AHD'])]\n",
    "y = heart_data['AHD']\n",
    "print(X.shape)\n",
    "print(y.shape)"
   ]
  },
  {
   "cell_type": "code",
   "execution_count": 37,
   "id": "36a506cc-6608-4d30-a6dc-f092c63197e9",
   "metadata": {},
   "outputs": [
    {
     "data": {
      "text/html": [
       "<div>\n",
       "<style scoped>\n",
       "    .dataframe tbody tr th:only-of-type {\n",
       "        vertical-align: middle;\n",
       "    }\n",
       "\n",
       "    .dataframe tbody tr th {\n",
       "        vertical-align: top;\n",
       "    }\n",
       "\n",
       "    .dataframe thead th {\n",
       "        text-align: right;\n",
       "    }\n",
       "</style>\n",
       "<table border=\"1\" class=\"dataframe\">\n",
       "  <thead>\n",
       "    <tr style=\"text-align: right;\">\n",
       "      <th></th>\n",
       "      <th>Age</th>\n",
       "      <th>Ca</th>\n",
       "      <th>Chol</th>\n",
       "      <th>ExAng</th>\n",
       "      <th>Fbs</th>\n",
       "      <th>MaxHR</th>\n",
       "      <th>Oldpeak</th>\n",
       "      <th>RestBP</th>\n",
       "      <th>RestECG</th>\n",
       "      <th>Sex</th>\n",
       "      <th>Slope</th>\n",
       "      <th>ChestPain_asymptomatic</th>\n",
       "      <th>ChestPain_nonanginal</th>\n",
       "      <th>ChestPain_nontypical</th>\n",
       "      <th>ChestPain_typical</th>\n",
       "      <th>Thal_fixed</th>\n",
       "      <th>Thal_normal</th>\n",
       "      <th>Thal_reversable</th>\n",
       "    </tr>\n",
       "  </thead>\n",
       "  <tbody>\n",
       "    <tr>\n",
       "      <th>1</th>\n",
       "      <td>63</td>\n",
       "      <td>0.0</td>\n",
       "      <td>233</td>\n",
       "      <td>0</td>\n",
       "      <td>1</td>\n",
       "      <td>150</td>\n",
       "      <td>2.3</td>\n",
       "      <td>145</td>\n",
       "      <td>2</td>\n",
       "      <td>1</td>\n",
       "      <td>3</td>\n",
       "      <td>0</td>\n",
       "      <td>0</td>\n",
       "      <td>0</td>\n",
       "      <td>1</td>\n",
       "      <td>1</td>\n",
       "      <td>0</td>\n",
       "      <td>0</td>\n",
       "    </tr>\n",
       "    <tr>\n",
       "      <th>2</th>\n",
       "      <td>67</td>\n",
       "      <td>3.0</td>\n",
       "      <td>286</td>\n",
       "      <td>1</td>\n",
       "      <td>0</td>\n",
       "      <td>108</td>\n",
       "      <td>1.5</td>\n",
       "      <td>160</td>\n",
       "      <td>2</td>\n",
       "      <td>1</td>\n",
       "      <td>2</td>\n",
       "      <td>1</td>\n",
       "      <td>0</td>\n",
       "      <td>0</td>\n",
       "      <td>0</td>\n",
       "      <td>0</td>\n",
       "      <td>1</td>\n",
       "      <td>0</td>\n",
       "    </tr>\n",
       "    <tr>\n",
       "      <th>3</th>\n",
       "      <td>67</td>\n",
       "      <td>2.0</td>\n",
       "      <td>229</td>\n",
       "      <td>1</td>\n",
       "      <td>0</td>\n",
       "      <td>129</td>\n",
       "      <td>2.6</td>\n",
       "      <td>120</td>\n",
       "      <td>2</td>\n",
       "      <td>1</td>\n",
       "      <td>2</td>\n",
       "      <td>1</td>\n",
       "      <td>0</td>\n",
       "      <td>0</td>\n",
       "      <td>0</td>\n",
       "      <td>0</td>\n",
       "      <td>0</td>\n",
       "      <td>1</td>\n",
       "    </tr>\n",
       "  </tbody>\n",
       "</table>\n",
       "</div>"
      ],
      "text/plain": [
       "   Age   Ca  Chol  ExAng  Fbs  MaxHR  Oldpeak  RestBP  RestECG  Sex  Slope  \\\n",
       "1   63  0.0   233      0    1    150      2.3     145        2    1      3   \n",
       "2   67  3.0   286      1    0    108      1.5     160        2    1      2   \n",
       "3   67  2.0   229      1    0    129      2.6     120        2    1      2   \n",
       "\n",
       "   ChestPain_asymptomatic  ChestPain_nonanginal  ChestPain_nontypical  \\\n",
       "1                       0                     0                     0   \n",
       "2                       1                     0                     0   \n",
       "3                       1                     0                     0   \n",
       "\n",
       "   ChestPain_typical  Thal_fixed  Thal_normal  Thal_reversable  \n",
       "1                  1           1            0                0  \n",
       "2                  0           0            1                0  \n",
       "3                  0           0            0                1  "
      ]
     },
     "execution_count": 37,
     "metadata": {},
     "output_type": "execute_result"
    }
   ],
   "source": [
    "# 더미화\n",
    "X = pd.get_dummies(X)\n",
    "X.head(3)"
   ]
  },
  {
   "cell_type": "code",
   "execution_count": 38,
   "id": "99d2bc42-7ce0-496b-95e3-a5694b06b2d2",
   "metadata": {},
   "outputs": [
    {
     "data": {
      "text/plain": [
       "1      0\n",
       "2      1\n",
       "3      1\n",
       "4      0\n",
       "5      0\n",
       "      ..\n",
       "298    1\n",
       "299    1\n",
       "300    1\n",
       "301    1\n",
       "302    1\n",
       "Name: AHD, Length: 297, dtype: int64"
      ]
     },
     "execution_count": 38,
     "metadata": {},
     "output_type": "execute_result"
    }
   ],
   "source": [
    "# 정수 인코딩\n",
    "y = y.apply(lambda x: 1 if x=='Yes' else 0)\n",
    "y"
   ]
  },
  {
   "cell_type": "markdown",
   "id": "61561d60-2e20-46e5-8ed7-050a5e4923a0",
   "metadata": {},
   "source": [
    "## 3. Random Forest"
   ]
  },
  {
   "cell_type": "markdown",
   "id": "b5aa5458-52d1-49ec-9f05-dabfd0b79a80",
   "metadata": {},
   "source": [
    "이번에는, Decision Tree와 Random Forest의 차이를 비교해 본다."
   ]
  },
  {
   "cell_type": "code",
   "execution_count": 43,
   "id": "db13b474-31c5-4905-9ef2-26e21c953cb0",
   "metadata": {},
   "outputs": [
    {
     "name": "stdout",
     "output_type": "stream",
     "text": [
      "Decision Tree:  0.7\n",
      "Random Forest:  0.811\n"
     ]
    }
   ],
   "source": [
    "# Decision Tree Cross Validation 평가\n",
    "tree_clf = tree.DecisionTreeClassifier(random_state=123)\n",
    "acc_score_t = cross_val_score(tree_clf, X, y, cv=7, scoring='accuracy')\n",
    "\n",
    "# Random Forest Cross Validation 평가\n",
    "rf_clf = ensemble.RandomForestClassifier(random_state=123)\n",
    "acc_score_r = cross_val_score(rf_clf, X, y, cv=7, scoring='accuracy')\n",
    "\n",
    "print('Decision Tree: ', round(np.mean(acc_score_t), 3))\n",
    "print('Random Forest: ', round(np.mean(acc_score_r), 3))"
   ]
  },
  {
   "cell_type": "markdown",
   "id": "50365696-5f18-4c6a-977e-d2b9e53bf767",
   "metadata": {},
   "source": [
    "----"
   ]
  },
  {
   "cell_type": "markdown",
   "id": "20cfd145-8209-47b1-857c-8938674e2aa0",
   "metadata": {},
   "source": [
    "**TIP)**    \n",
    "*ROC(Receiver Operating Characteristic)곡선*"
   ]
  },
  {
   "cell_type": "markdown",
   "id": "8ece24b2-7e1a-4913-b917-c2505b288c37",
   "metadata": {},
   "source": [
    "ROC곡선은 Binary Classifier System에 대한 성능 평가 기법이며, ROC 커브가 좌상단에 붙어 있는 커브일수록 더 좋은 모델이라고 할 수 있다. ROC 곡선의 아랫 면적은 AUC(Area Under the Curve)라고 하며 AUC는 '임의의 Curve에 대해 그 아래의 면적을 계산한 값'을 뜻한다. "
   ]
  },
  {
   "cell_type": "markdown",
   "id": "4c9979f3-b640-4929-b219-cccee1dee85b",
   "metadata": {},
   "source": [
    "<img src='./image/roc.png' width=250 height=250>"
   ]
  },
  {
   "cell_type": "markdown",
   "id": "897149ee-7a3c-4486-a2db-bac8f2b6a87d",
   "metadata": {},
   "source": [
    "$TPR(Sensitivity) = \\frac{\\sum{True Positive}}{\\sum{(True Positive + False Negative)}} = $ 1인 케이스에 대해 1로 잘 예측한 비율\n",
    "$FPR(1-Specificity) = \\frac{\\sum{False Positive}}{\\sum{(True Positive + False Positive)}} = $ 0인 케이스에 대해 1로 잘못 예측한 비율   "
   ]
  },
  {
   "cell_type": "markdown",
   "id": "b9c898bd-7a42-4939-bcef-0dd24416aa9c",
   "metadata": {},
   "source": [
    "-----"
   ]
  },
  {
   "cell_type": "code",
   "execution_count": 66,
   "id": "64d0dee1-343f-48f6-9691-04230a399f21",
   "metadata": {},
   "outputs": [
    {
     "data": {
      "image/png": "[encoded data removed]",
      "text/plain": [
       "<Figure size 432x288 with 1 Axes>"
      ]
     },
     "metadata": {
      "needs_background": "light"
     },
     "output_type": "display_data"
    }
   ],
   "source": [
    "X_train, X_test, y_train, y_test = train_test_split(X, y, test_size=0.2, random_state=3)\n",
    "\n",
    "def print_roc(fpr, tpr):\n",
    "    plt.plot(fpr, tpr, color='red', label='ROC')\n",
    "    plt.plot([0, 1], [0, 1], color='green', linestyle='--')\n",
    "    plt.xlabel('FPR')\n",
    "    plt.ylabel('TPR')\n",
    "    plt.title('Receiver Operating Characteristic Curve')\n",
    "    plt.legend()\n",
    "    plt.show()\n",
    "\n",
    "\n",
    "tree_clf = tree.DecisionTreeClassifier(random_state=123)\n",
    "tree_clf.fit(X_train, y_train)\n",
    "\n",
    "\n",
    "# ROC 곡선\n",
    "y_pred = tree_clf.predict(X_test)\n",
    "fpr, tpr, thresholds = roc_curve(y_test, y_pred)\n",
    "print_roc(fpr, tpr)"
   ]
  },
  {
   "cell_type": "code",
   "execution_count": 64,
   "id": "b8316561-853d-4f86-bff2-04fc3cd39b87",
   "metadata": {},
   "outputs": [
    {
     "data": {
      "image/png": "[encoded data removed]",
      "text/plain": [
       "<Figure size 432x288 with 1 Axes>"
      ]
     },
     "metadata": {
      "needs_background": "light"
     },
     "output_type": "display_data"
    }
   ],
   "source": [
    "rf_clf = ensemble.RandomForestClassifier(random_state=123)\n",
    "rf_clf.fit(X_train, y_train)\n",
    "\n",
    "# ROC 곡선\n",
    "y_pred = tree_clf.predict(X_test)\n",
    "fpr, tpr, thresholds = roc_curve(y_test, y_pred)\n",
    "print_roc(fpr, tpr)"
   ]
  },
  {
   "cell_type": "code",
   "execution_count": 56,
   "id": "ac8c3766-f365-4f23-98bd-d16bc2cc16d9",
   "metadata": {},
   "outputs": [
    {
     "name": "stdout",
     "output_type": "stream",
     "text": [
      "[0.         0.25806452 1.        ]\n",
      "[0.         0.86206897 1.        ]\n",
      "[2. 1. 0.]\n"
     ]
    }
   ],
   "source": [
    "y_pred = tree_clf.predict_proba(X_test)\n",
    "y_pred = y_pred[:, 1]\n",
    "\n",
    "fpr, tpr, thresholds = roc_curve(y_test, y_pred)\n",
    "print(fpr)\n",
    "print(tpr)\n",
    "print(thresholds)"
   ]
  },
  {
   "cell_type": "markdown",
   "id": "8c9bc2b2-5459-4dc7-ab99-0fd457ff8d0d",
   "metadata": {},
   "source": [
    "<br/>\n",
    "\n",
    "**결론)**   \n",
    "\n",
    "정확도 0.7을 가지는 Decision Tree보다 Random Forest가 0.811 로 높은 정확도를 가진다.\n",
    "\n",
    "<br/>"
   ]
  },
  {
   "cell_type": "code",
   "execution_count": null,
   "id": "e3c7b023-e9bc-4650-ad5e-10a0610fbbf9",
   "metadata": {},
   "outputs": [],
   "source": []
  }
 ],
 "metadata": {
  "kernelspec": {
   "display_name": "Python 3 (ipykernel)",
   "language": "python",
   "name": "python3"
  },
  "language_info": {
   "codemirror_mode": {
    "name": "ipython",
    "version": 3
   },
   "file_extension": ".py",
   "mimetype": "text/x-python",
   "name": "python",
   "nbconvert_exporter": "python",
   "pygments_lexer": "ipython3",
   "version": "3.7.4"
  }
 },
 "nbformat": 4,
 "nbformat_minor": 5
}
