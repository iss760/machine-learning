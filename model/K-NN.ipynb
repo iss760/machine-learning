{
 "cells": [
  {
   "cell_type": "markdown",
   "id": "cdac5e52-bf7c-40b4-9aed-69f8bfbd099a",
   "metadata": {},
   "source": [
    "# K-NN (Caravan Data)"
   ]
  },
  {
   "cell_type": "code",
   "execution_count": 44,
   "id": "3e0e97ab-e5b2-4cdd-8699-270fdfe7bc90",
   "metadata": {},
   "outputs": [],
   "source": [
    "import numpy as np\n",
    "import pandas as pd\n",
    "import matplotlib.pyplot as plt\n",
    "import seaborn as sns\n",
    "from sklearn.neighbors import KNeighborsClassifier\n",
    "from sklearn.preprocessing import StandardScaler\n",
    "from sklearn.model_selection import train_test_split\n",
    "from sklearn.metrics import classification_report\n",
    "\n",
    "%matplotlib inline"
   ]
  },
  {
   "cell_type": "markdown",
   "id": "0a10f3b0-a837-4d11-99e3-55a87d56397e",
   "metadata": {},
   "source": [
    "## 1. Load DataSets"
   ]
  },
  {
   "cell_type": "code",
   "execution_count": 2,
   "id": "eee75f87-01c6-4764-a271-cecc17167071",
   "metadata": {},
   "outputs": [
    {
     "data": {
      "text/html": [
       "<div>\n",
       "<style scoped>\n",
       "    .dataframe tbody tr th:only-of-type {\n",
       "        vertical-align: middle;\n",
       "    }\n",
       "\n",
       "    .dataframe tbody tr th {\n",
       "        vertical-align: top;\n",
       "    }\n",
       "\n",
       "    .dataframe thead th {\n",
       "        text-align: right;\n",
       "    }\n",
       "</style>\n",
       "<table border=\"1\" class=\"dataframe\">\n",
       "  <thead>\n",
       "    <tr style=\"text-align: right;\">\n",
       "      <th></th>\n",
       "      <th>MOSTYPE</th>\n",
       "      <th>MAANTHUI</th>\n",
       "      <th>MGEMOMV</th>\n",
       "      <th>MGEMLEEF</th>\n",
       "      <th>MOSHOOFD</th>\n",
       "      <th>MGODRK</th>\n",
       "      <th>MGODPR</th>\n",
       "      <th>MGODOV</th>\n",
       "      <th>MGODGE</th>\n",
       "      <th>MRELGE</th>\n",
       "      <th>...</th>\n",
       "      <th>APERSONG</th>\n",
       "      <th>AGEZONG</th>\n",
       "      <th>AWAOREG</th>\n",
       "      <th>ABRAND</th>\n",
       "      <th>AZEILPL</th>\n",
       "      <th>APLEZIER</th>\n",
       "      <th>AFIETS</th>\n",
       "      <th>AINBOED</th>\n",
       "      <th>ABYSTAND</th>\n",
       "      <th>Purchase</th>\n",
       "    </tr>\n",
       "  </thead>\n",
       "  <tbody>\n",
       "    <tr>\n",
       "      <th>1</th>\n",
       "      <td>33</td>\n",
       "      <td>1</td>\n",
       "      <td>3</td>\n",
       "      <td>2</td>\n",
       "      <td>8</td>\n",
       "      <td>0</td>\n",
       "      <td>5</td>\n",
       "      <td>1</td>\n",
       "      <td>3</td>\n",
       "      <td>7</td>\n",
       "      <td>...</td>\n",
       "      <td>0</td>\n",
       "      <td>0</td>\n",
       "      <td>0</td>\n",
       "      <td>1</td>\n",
       "      <td>0</td>\n",
       "      <td>0</td>\n",
       "      <td>0</td>\n",
       "      <td>0</td>\n",
       "      <td>0</td>\n",
       "      <td>No</td>\n",
       "    </tr>\n",
       "    <tr>\n",
       "      <th>2</th>\n",
       "      <td>37</td>\n",
       "      <td>1</td>\n",
       "      <td>2</td>\n",
       "      <td>2</td>\n",
       "      <td>8</td>\n",
       "      <td>1</td>\n",
       "      <td>4</td>\n",
       "      <td>1</td>\n",
       "      <td>4</td>\n",
       "      <td>6</td>\n",
       "      <td>...</td>\n",
       "      <td>0</td>\n",
       "      <td>0</td>\n",
       "      <td>0</td>\n",
       "      <td>1</td>\n",
       "      <td>0</td>\n",
       "      <td>0</td>\n",
       "      <td>0</td>\n",
       "      <td>0</td>\n",
       "      <td>0</td>\n",
       "      <td>No</td>\n",
       "    </tr>\n",
       "    <tr>\n",
       "      <th>3</th>\n",
       "      <td>37</td>\n",
       "      <td>1</td>\n",
       "      <td>2</td>\n",
       "      <td>2</td>\n",
       "      <td>8</td>\n",
       "      <td>0</td>\n",
       "      <td>4</td>\n",
       "      <td>2</td>\n",
       "      <td>4</td>\n",
       "      <td>3</td>\n",
       "      <td>...</td>\n",
       "      <td>0</td>\n",
       "      <td>0</td>\n",
       "      <td>0</td>\n",
       "      <td>1</td>\n",
       "      <td>0</td>\n",
       "      <td>0</td>\n",
       "      <td>0</td>\n",
       "      <td>0</td>\n",
       "      <td>0</td>\n",
       "      <td>No</td>\n",
       "    </tr>\n",
       "  </tbody>\n",
       "</table>\n",
       "<p>3 rows × 86 columns</p>\n",
       "</div>"
      ],
      "text/plain": [
       "   MOSTYPE  MAANTHUI  MGEMOMV  MGEMLEEF  MOSHOOFD  MGODRK  MGODPR  MGODOV  \\\n",
       "1       33         1        3         2         8       0       5       1   \n",
       "2       37         1        2         2         8       1       4       1   \n",
       "3       37         1        2         2         8       0       4       2   \n",
       "\n",
       "   MGODGE  MRELGE  ...  APERSONG  AGEZONG  AWAOREG  ABRAND  AZEILPL  APLEZIER  \\\n",
       "1       3       7  ...         0        0        0       1        0         0   \n",
       "2       4       6  ...         0        0        0       1        0         0   \n",
       "3       4       3  ...         0        0        0       1        0         0   \n",
       "\n",
       "   AFIETS  AINBOED  ABYSTAND  Purchase  \n",
       "1       0        0         0        No  \n",
       "2       0        0         0        No  \n",
       "3       0        0         0        No  \n",
       "\n",
       "[3 rows x 86 columns]"
      ]
     },
     "execution_count": 2,
     "metadata": {},
     "output_type": "execute_result"
    }
   ],
   "source": [
    "caravan_data = pd.read_csv('./data/Caravan.csv', index_col=0)\n",
    "caravan_data.head(3)"
   ]
  },
  {
   "cell_type": "code",
   "execution_count": 3,
   "id": "f55ee63d-8e53-4c70-83b7-b2e652567ea1",
   "metadata": {
    "scrolled": true,
    "tags": []
   },
   "outputs": [
    {
     "name": "stdout",
     "output_type": "stream",
     "text": [
      "<class 'pandas.core.frame.DataFrame'>\n",
      "Int64Index: 5822 entries, 1 to 5822\n",
      "Data columns (total 86 columns):\n",
      " #   Column    Non-Null Count  Dtype \n",
      "---  ------    --------------  ----- \n",
      " 0   MOSTYPE   5822 non-null   int64 \n",
      " 1   MAANTHUI  5822 non-null   int64 \n",
      " 2   MGEMOMV   5822 non-null   int64 \n",
      " 3   MGEMLEEF  5822 non-null   int64 \n",
      " 4   MOSHOOFD  5822 non-null   int64 \n",
      " 5   MGODRK    5822 non-null   int64 \n",
      " 6   MGODPR    5822 non-null   int64 \n",
      " 7   MGODOV    5822 non-null   int64 \n",
      " 8   MGODGE    5822 non-null   int64 \n",
      " 9   MRELGE    5822 non-null   int64 \n",
      " 10  MRELSA    5822 non-null   int64 \n",
      " 11  MRELOV    5822 non-null   int64 \n",
      " 12  MFALLEEN  5822 non-null   int64 \n",
      " 13  MFGEKIND  5822 non-null   int64 \n",
      " 14  MFWEKIND  5822 non-null   int64 \n",
      " 15  MOPLHOOG  5822 non-null   int64 \n",
      " 16  MOPLMIDD  5822 non-null   int64 \n",
      " 17  MOPLLAAG  5822 non-null   int64 \n",
      " 18  MBERHOOG  5822 non-null   int64 \n",
      " 19  MBERZELF  5822 non-null   int64 \n",
      " 20  MBERBOER  5822 non-null   int64 \n",
      " 21  MBERMIDD  5822 non-null   int64 \n",
      " 22  MBERARBG  5822 non-null   int64 \n",
      " 23  MBERARBO  5822 non-null   int64 \n",
      " 24  MSKA      5822 non-null   int64 \n",
      " 25  MSKB1     5822 non-null   int64 \n",
      " 26  MSKB2     5822 non-null   int64 \n",
      " 27  MSKC      5822 non-null   int64 \n",
      " 28  MSKD      5822 non-null   int64 \n",
      " 29  MHHUUR    5822 non-null   int64 \n",
      " 30  MHKOOP    5822 non-null   int64 \n",
      " 31  MAUT1     5822 non-null   int64 \n",
      " 32  MAUT2     5822 non-null   int64 \n",
      " 33  MAUT0     5822 non-null   int64 \n",
      " 34  MZFONDS   5822 non-null   int64 \n",
      " 35  MZPART    5822 non-null   int64 \n",
      " 36  MINKM30   5822 non-null   int64 \n",
      " 37  MINK3045  5822 non-null   int64 \n",
      " 38  MINK4575  5822 non-null   int64 \n",
      " 39  MINK7512  5822 non-null   int64 \n",
      " 40  MINK123M  5822 non-null   int64 \n",
      " 41  MINKGEM   5822 non-null   int64 \n",
      " 42  MKOOPKLA  5822 non-null   int64 \n",
      " 43  PWAPART   5822 non-null   int64 \n",
      " 44  PWABEDR   5822 non-null   int64 \n",
      " 45  PWALAND   5822 non-null   int64 \n",
      " 46  PPERSAUT  5822 non-null   int64 \n",
      " 47  PBESAUT   5822 non-null   int64 \n",
      " 48  PMOTSCO   5822 non-null   int64 \n",
      " 49  PVRAAUT   5822 non-null   int64 \n",
      " 50  PAANHANG  5822 non-null   int64 \n",
      " 51  PTRACTOR  5822 non-null   int64 \n",
      " 52  PWERKT    5822 non-null   int64 \n",
      " 53  PBROM     5822 non-null   int64 \n",
      " 54  PLEVEN    5822 non-null   int64 \n",
      " 55  PPERSONG  5822 non-null   int64 \n",
      " 56  PGEZONG   5822 non-null   int64 \n",
      " 57  PWAOREG   5822 non-null   int64 \n",
      " 58  PBRAND    5822 non-null   int64 \n",
      " 59  PZEILPL   5822 non-null   int64 \n",
      " 60  PPLEZIER  5822 non-null   int64 \n",
      " 61  PFIETS    5822 non-null   int64 \n",
      " 62  PINBOED   5822 non-null   int64 \n",
      " 63  PBYSTAND  5822 non-null   int64 \n",
      " 64  AWAPART   5822 non-null   int64 \n",
      " 65  AWABEDR   5822 non-null   int64 \n",
      " 66  AWALAND   5822 non-null   int64 \n",
      " 67  APERSAUT  5822 non-null   int64 \n",
      " 68  ABESAUT   5822 non-null   int64 \n",
      " 69  AMOTSCO   5822 non-null   int64 \n",
      " 70  AVRAAUT   5822 non-null   int64 \n",
      " 71  AAANHANG  5822 non-null   int64 \n",
      " 72  ATRACTOR  5822 non-null   int64 \n",
      " 73  AWERKT    5822 non-null   int64 \n",
      " 74  ABROM     5822 non-null   int64 \n",
      " 75  ALEVEN    5822 non-null   int64 \n",
      " 76  APERSONG  5822 non-null   int64 \n",
      " 77  AGEZONG   5822 non-null   int64 \n",
      " 78  AWAOREG   5822 non-null   int64 \n",
      " 79  ABRAND    5822 non-null   int64 \n",
      " 80  AZEILPL   5822 non-null   int64 \n",
      " 81  APLEZIER  5822 non-null   int64 \n",
      " 82  AFIETS    5822 non-null   int64 \n",
      " 83  AINBOED   5822 non-null   int64 \n",
      " 84  ABYSTAND  5822 non-null   int64 \n",
      " 85  Purchase  5822 non-null   object\n",
      "dtypes: int64(85), object(1)\n",
      "memory usage: 3.9+ MB\n"
     ]
    }
   ],
   "source": [
    "caravan_data.info()"
   ]
  },
  {
   "cell_type": "code",
   "execution_count": 6,
   "id": "6c3069b6-7d7b-44ed-8c85-1f8cfd8b8fb3",
   "metadata": {},
   "outputs": [
    {
     "data": {
      "text/plain": [
       "No     5474\n",
       "Yes     348\n",
       "Name: Purchase, dtype: int64"
      ]
     },
     "execution_count": 6,
     "metadata": {},
     "output_type": "execute_result"
    }
   ],
   "source": [
    "caravan_data['Purchase'].value_counts()"
   ]
  },
  {
   "cell_type": "markdown",
   "id": "cb25b177-663d-49d1-8c0c-ffc252c5fd98",
   "metadata": {},
   "source": [
    "## 2. PreProcessing"
   ]
  },
  {
   "cell_type": "code",
   "execution_count": 29,
   "id": "1121552f-b215-46dd-b451-d58f610e7c59",
   "metadata": {},
   "outputs": [
    {
     "data": {
      "text/plain": [
       "(748, 86)"
      ]
     },
     "execution_count": 29,
     "metadata": {},
     "output_type": "execute_result"
    }
   ],
   "source": [
    "# 데이터 불균형 처리\n",
    "UNDER_SAMPLING_N = 400\n",
    "under_sampling_caravan_data = pd.concat([caravan_data[caravan_data['Purchase']=='No'].sample(n=UNDER_SAMPLING_N),\n",
    "                                         caravan_data[caravan_data['Purchase']=='Yes']])\n",
    "under_sampling_caravan_data.shape"
   ]
  },
  {
   "cell_type": "code",
   "execution_count": 31,
   "id": "02ef200c-4ebe-4406-8a1f-4a6af3e3c448",
   "metadata": {},
   "outputs": [
    {
     "name": "stdout",
     "output_type": "stream",
     "text": [
      "(748, 85)\n",
      "(748,)\n"
     ]
    }
   ],
   "source": [
    "# X, y값 분할\n",
    "X = under_sampling_caravan_data[under_sampling_caravan_data.columns.difference(['Purchase'])]\n",
    "y = under_sampling_caravan_data['Purchase']\n",
    "\n",
    "print(X.shape)\n",
    "print(y.shape)"
   ]
  },
  {
   "cell_type": "markdown",
   "id": "5c61f024-8cb7-4fa2-bf3f-dbb2adbd3393",
   "metadata": {},
   "source": [
    "----"
   ]
  },
  {
   "cell_type": "markdown",
   "id": "4f49d300-20a9-4e0e-bdbb-85a5ed60136a",
   "metadata": {},
   "source": [
    "**TIP)** *K-NN 알고리즘의 변수 값 정규화*    \n",
    "    \n",
    "K-NN 알고리즘은 거리 기반의 모델이므로 구현 시에 변수 값에 범위를 재조정 해줄 필요가 있다. 거리를 다루는 만큼 변수 값의 범위를 재조정 해주어야 변수의 중요도를 고르게 해석 할 수 있기 때문이다. (이는, K-Means 같은 거리 기반의 알고리즘에 모두 통용되는 부분이다.)"
   ]
  },
  {
   "cell_type": "markdown",
   "id": "39858820-3f24-4f20-924d-9a79c97dd96e",
   "metadata": {},
   "source": [
    "----"
   ]
  },
  {
   "cell_type": "code",
   "execution_count": 32,
   "id": "52239332-7194-4fce-af8a-079c54985a5d",
   "metadata": {},
   "outputs": [
    {
     "data": {
      "text/plain": [
       "array([[-0.11035678, -0.06345743,  0.63852082, ...,  1.08162463,\n",
       "        -0.05125627, -0.03658809],\n",
       "       [-0.11035678, -0.06345743,  0.63852082, ...,  1.08162463,\n",
       "        -0.05125627, -0.03658809],\n",
       "       [-0.11035678, -0.06345743, -1.12389089, ..., -0.94354489,\n",
       "        -0.05125627, -0.03658809],\n",
       "       ...,\n",
       "       [-0.11035678, -0.06345743,  0.63852082, ...,  1.08162463,\n",
       "        -0.05125627, -0.03658809],\n",
       "       [-0.11035678, -0.06345743,  0.63852082, ..., -0.94354489,\n",
       "        -0.05125627, -0.03658809],\n",
       "       [-0.11035678, -0.06345743,  0.63852082, ...,  1.08162463,\n",
       "        -0.05125627, -0.03658809]])"
      ]
     },
     "execution_count": 32,
     "metadata": {},
     "output_type": "execute_result"
    }
   ],
   "source": [
    "# X값 정규화\n",
    "std_scaler = preprocessing.StandardScaler()\n",
    "X_scaled = std_scaler.fit_transform(X)\n",
    "X_scaled"
   ]
  },
  {
   "cell_type": "code",
   "execution_count": 35,
   "id": "63505c2a-6fd4-4ef7-9e15-48bc0d73366a",
   "metadata": {},
   "outputs": [
    {
     "name": "stdout",
     "output_type": "stream",
     "text": [
      "(598, 85)\n",
      "(150, 85)\n"
     ]
    }
   ],
   "source": [
    "# 학습 데이터, 테스트 데이터 분할\n",
    "X_train, X_test, y_train, y_test = train_test_split(X_scaled, y, test_size=0.2, random_state=2)\n",
    "print(X_train.shape)\n",
    "print(X_test.shape)"
   ]
  },
  {
   "cell_type": "markdown",
   "id": "86639879-a662-4524-a516-6e9c4abcf9eb",
   "metadata": {},
   "source": [
    "## 3. K-NN (K-Nearest Neighbor)"
   ]
  },
  {
   "cell_type": "markdown",
   "id": "9636e194-e476-4ff5-a75b-b11fbf3971b5",
   "metadata": {},
   "source": [
    "참고자료: https://ratsgo.github.io/machine%20learning/2017/04/17/KNN"
   ]
  },
  {
   "cell_type": "markdown",
   "id": "c3c6b78e-5559-49a9-b18a-b32917ac44da",
   "metadata": {},
   "source": [
    "K-NN 알고리즘은 새로운 데이터로부터 거리가 가까운 K개의 다른 데이터의 라벨을 참고하여 K개의 데이터 중 가장 빈도 수가높게 나온 데이터의 라벨로 분류하는 알고리즘이다.    \n",
    "K-NN은 학습이라고 할 만한 절차가 없으며, 별도로 모델을 구축하지도 않는다. 새로운 데이터가 입력 된 이후 그제야 기존 데이터 사이의 거리를 재서 이웃을 뽑기 때문에 게으른 모델(Lazy Model 또는 Instance-bases Learning)이라고 부르기도 한다."
   ]
  },
  {
   "cell_type": "markdown",
   "id": "bad7957f-988c-4746-8d4c-7a95350bcb0a",
   "metadata": {},
   "source": [
    "<img src='./image/k-nn.png' width=300 height=300>"
   ]
  },
  {
   "cell_type": "markdown",
   "id": "cb4edb8b-8146-41b9-861c-6c71798a1588",
   "metadata": {},
   "source": [
    "K-NN은 노이즈의 영향을 크게 받지 않고 학습데이터 수가 많다면 꽤 효과적인 알고리즘으로 이며 마할라노비스를 사용해 데이터의 분산을 고려 할 경우 매우 강건한(robust)한 방법론으로 알려져있다. 때문에 여러 기업의 현업에서도 K-NN은 두루 사용되는 편이다.    \n",
    "하지만, K값을 연구자가 임의로 선정해야 하는 점과 관측치와 각각의 학습 데이터 사이의 거리를 전부 측정해야 하므로 계산이 오래 걸리는 한계점 등은 존재한다. 최근에는 Locality Sensitive Hashing, Network based Indexer, Optimized product quabtization 등 K-NN의 복잡성을 줄이려는 시도가 여럿 제안되었다."
   ]
  },
  {
   "cell_type": "markdown",
   "id": "e9770002-89c9-4da7-aad6-c09c831bd5ea",
   "metadata": {},
   "source": [
    "----"
   ]
  },
  {
   "cell_type": "markdown",
   "id": "d8cedae1-6b24-4d1a-82ab-215e3877863f",
   "metadata": {},
   "source": [
    "**TIP)** *K-NN의 거리측정 방법*   \n",
    "1. Euclidean Distance   \n",
    "가장 기본적으로 흔히 사용되는 거리 척도로써, 관측치의 최단거리를 의미   \n",
    "$X = (x_{1}, x_{2}, ..., x_{n})$    \n",
    "$Y = (y_{1}, y_{2}, ..., y_{n})$    \n",
    "$d_{Euclidean} = \\sqrt{(x_{1} - y_{1})^{2} + ... + (x_{n} - y_{n})^{2}} = \\sqrt{\\sum_{i=1}^{n}(x_{i} - y_{i})^{2}}$   \n",
    "\n",
    "2. Manhattan Distance    \n",
    "직교 좌표계에서 좌표축 방향으로만 이동할 경유애 계산되는 거리    \n",
    "$d_{Manhattan} = \\sum_{i=1}^{n}\\vert x_{i} - y_{i} \\vert$    \n",
    "\n",
    "3. Mahalanobis Distance    \n",
    "변수 내 분산, 변수 간 공분산을 모두 반영하여 거리를 계산하는 방식으로, 변수 간 상관관계를 고려한 거리 지표    \n",
    "참고자료 1): https://darkpgmr.tistory.com/41 (마할라노비스 거리의 의미)  \n",
    "참고자료 2): https://gaussian37.github.io/ml-concept-mahalanobis_distance (마할라노비스 거리의 계산)    \n",
    "$d_{Mahalanobis(X, Y)} = \\sqrt{(X - Y)^{T}\\sum^{-1}(X - Y)}$ &nbsp; ($\\sum^{-1}$ : 공분산의 역행렬)    \n",
    "    \n",
    "4. Correlation Distance    \n",
    "pearson correlation을 거리 척도로 직접 사용하며, 데이터 전체의 경향성을 비교하기 위한 척도이므로 두 개 데이터 패턴의 유사도를 반영 할 수 있다.   \n",
    "    \n",
    "5. Rank Correlation Distance     \n",
    "Spearman Rank Correlation을 거리 척도로 직접 사용라는 점에서만 Correlation Distance와 차이를 가질 뿐 나머지 부분은 동일하다."
   ]
  },
  {
   "cell_type": "markdown",
   "id": "306eef9e-c74c-4d27-8b61-bd0d88716516",
   "metadata": {},
   "source": [
    "----"
   ]
  },
  {
   "cell_type": "code",
   "execution_count": 38,
   "id": "077a7c50-ea90-4486-8ce1-62066c5eb0fd",
   "metadata": {},
   "outputs": [
    {
     "data": {
      "text/plain": [
       "KNeighborsClassifier(n_neighbors=1)"
      ]
     },
     "execution_count": 38,
     "metadata": {},
     "output_type": "execute_result"
    }
   ],
   "source": [
    "knn = KNeighborsClassifier(n_neighbors=1)\n",
    "knn.fit(X_train, y_train)"
   ]
  },
  {
   "cell_type": "code",
   "execution_count": 39,
   "id": "6ff84509-2f15-41c3-8fa0-cbe60a36d0ec",
   "metadata": {},
   "outputs": [
    {
     "name": "stdout",
     "output_type": "stream",
     "text": [
      "Data Set Accuracy Result:  0.58\n"
     ]
    }
   ],
   "source": [
    "# 정확도 측정\n",
    "print('Data Set Accuracy Result: ', knn.score(X_test, y_test))"
   ]
  },
  {
   "cell_type": "code",
   "execution_count": 45,
   "id": "d805a207-0bda-4788-902f-b7ce0f6085e0",
   "metadata": {},
   "outputs": [
    {
     "data": {
      "image/png": "[encoded data removed]",
      "text/plain": [
       "<Figure size 432x288 with 2 Axes>"
      ]
     },
     "metadata": {
      "needs_background": "light"
     },
     "output_type": "display_data"
    },
    {
     "name": "stdout",
     "output_type": "stream",
     "text": [
      "\n",
      "[Confusion Report]\n",
      "\n",
      "               precision    recall  f1-score   support\n",
      "\n",
      "          No       0.58      0.59      0.58        75\n",
      "         Yes       0.58      0.57      0.58        75\n",
      "\n",
      "    accuracy                           0.58       150\n",
      "   macro avg       0.58      0.58      0.58       150\n",
      "weighted avg       0.58      0.58      0.58       150\n",
      "\n"
     ]
    }
   ],
   "source": [
    "def get_confusion_mt(model, _X_test, _y_test):\n",
    "    y_pred = model.predict(_X_test)\n",
    "    confusion_mt = pd.crosstab(_y_test.values.ravel(), y_pred, \n",
    "                               rownames=['Actual'], \n",
    "                               colnames=['Predicted'])\n",
    "    return confusion_mt\n",
    "\n",
    "def get_confusion_report(model, _X_test, _y_test):\n",
    "    y_pred = model.predict(_X_test)\n",
    "    return classification_report(_y_test, y_pred)\n",
    "\n",
    "# confusion matrix 산출 \n",
    "confusion_mt = get_confusion_mt(knn, X_test, y_test)\n",
    "\n",
    "# confusion matrix 시각화\n",
    "fig = sns.heatmap(confusion_mt, annot=True, fmt='d')\n",
    "fig.set_title('Confusion Matrix')\n",
    "plt.show()\n",
    "\n",
    "# 여러 측정지표 확인\n",
    "print('\\n[Confusion Report]\\n\\n', get_confusion_report(knn, X_test, y_test))"
   ]
  },
  {
   "cell_type": "markdown",
   "id": "42cb344b-d90b-47e9-a28c-b92630049024",
   "metadata": {},
   "source": [
    "----"
   ]
  },
  {
   "cell_type": "markdown",
   "id": "74d38b3d-221c-4502-93e5-0f6033396f08",
   "metadata": {},
   "source": [
    "**TIP)** *K값의 선택*    \n",
    "    \n",
    "K가 작을 경우 지나치게 데이터의 지역적 특성이 반영되며, 너무 클 경우 모델이 과하게 정규화 되는 경향이 있다. "
   ]
  },
  {
   "cell_type": "markdown",
   "id": "244d1082-697f-4358-95cb-b474d94e9214",
   "metadata": {},
   "source": [
    "<img src='./image/k_select.png' width=500 height=300>"
   ]
  },
  {
   "cell_type": "markdown",
   "id": "b2597d1a-d416-429d-908d-be6af69ba532",
   "metadata": {},
   "source": [
    "----"
   ]
  },
  {
   "cell_type": "code",
   "execution_count": 63,
   "id": "edc23db9-1b51-4f38-ab6a-9f16b57635bf",
   "metadata": {},
   "outputs": [
    {
     "data": {
      "image/png": "[encoded data removed]",
      "text/plain": [
       "<Figure size 432x288 with 1 Axes>"
      ]
     },
     "metadata": {
      "needs_background": "light"
     },
     "output_type": "display_data"
    }
   ],
   "source": [
    "# k-값을 늘려가며 정확도 비교\n",
    "\n",
    "acc_ls = []\n",
    "for k in range(1, 100):\n",
    "    knn = KNeighborsClassifier(n_neighbors=k)\n",
    "    knn.fit(X_train, y_train)\n",
    "\n",
    "    # 정확도 측정\n",
    "    acc = knn.score(X_test, y_test)\n",
    "    acc_ls.append(acc)\n",
    "\n",
    "sns.lineplot()\n",
    "plt.plot(np.arange(1, 100), acc_ls)\n",
    "plt.show()"
   ]
  },
  {
   "cell_type": "code",
   "execution_count": 64,
   "id": "f3bffba5-9927-4b6e-8ad1-e4c8597de687",
   "metadata": {},
   "outputs": [
    {
     "data": {
      "image/png": "[encoded data removed]",
      "text/plain": [
       "<Figure size 432x288 with 2 Axes>"
      ]
     },
     "metadata": {
      "needs_background": "light"
     },
     "output_type": "display_data"
    },
    {
     "name": "stdout",
     "output_type": "stream",
     "text": [
      "\n",
      "[Confusion Report]\n",
      "\n",
      "               precision    recall  f1-score   support\n",
      "\n",
      "          No       0.61      0.87      0.71        75\n",
      "         Yes       0.77      0.44      0.56        75\n",
      "\n",
      "    accuracy                           0.65       150\n",
      "   macro avg       0.69      0.65      0.64       150\n",
      "weighted avg       0.69      0.65      0.64       150\n",
      "\n"
     ]
    }
   ],
   "source": [
    "# best K에서의 측정지표 결과\n",
    "\n",
    "knn = KNeighborsClassifier(n_neighbors=30)\n",
    "knn.fit(X_train, y_train)\n",
    "\n",
    "def get_confusion_mt(model, _X_test, _y_test):\n",
    "    y_pred = model.predict(_X_test)\n",
    "    confusion_mt = pd.crosstab(_y_test.values.ravel(), y_pred, \n",
    "                               rownames=['Actual'], \n",
    "                               colnames=['Predicted'])\n",
    "    return confusion_mt\n",
    "\n",
    "def get_confusion_report(model, _X_test, _y_test):\n",
    "    y_pred = model.predict(_X_test)\n",
    "    return classification_report(_y_test, y_pred)\n",
    "\n",
    "# confusion matrix 산출 \n",
    "confusion_mt = get_confusion_mt(knn, X_test, y_test)\n",
    "\n",
    "# confusion matrix 시각화\n",
    "fig = sns.heatmap(confusion_mt, annot=True, fmt='d')\n",
    "fig.set_title('Confusion Matrix')\n",
    "plt.show()\n",
    "\n",
    "# 여러 측정지표 확인\n",
    "print('\\n[Confusion Report]\\n\\n', get_confusion_report(knn, X_test, y_test))"
   ]
  },
  {
   "cell_type": "code",
   "execution_count": null,
   "id": "a57b44d1-ce68-4b06-857c-e5bf225ce816",
   "metadata": {},
   "outputs": [],
   "source": []
  }
 ],
 "metadata": {
  "kernelspec": {
   "display_name": "Python 3 (ipykernel)",
   "language": "python",
   "name": "python3"
  },
  "language_info": {
   "codemirror_mode": {
    "name": "ipython",
    "version": 3
   },
   "file_extension": ".py",
   "mimetype": "text/x-python",
   "name": "python",
   "nbconvert_exporter": "python",
   "pygments_lexer": "ipython3",
   "version": "3.7.4"
  }
 },
 "nbformat": 4,
 "nbformat_minor": 5
}
