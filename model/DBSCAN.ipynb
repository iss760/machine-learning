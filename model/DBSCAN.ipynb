{
 "cells": [
  {
   "cell_type": "markdown",
   "source": [
    "# DBSCAN (Density-based spatial clustering of applications with noise)"
   ],
   "metadata": {
    "collapsed": false,
    "pycharm": {
     "name": "#%% md\n"
    }
   }
  },
  {
   "cell_type": "markdown",
   "source": [
    "K-Means나 Hierachical 클러스터링의 경우 군집간 거리를 이용한다. 그렇기에 K-Means는 중심 기반의 알고리즘으로 이상치에 민감한 문제가 있다. 반면, DBSCAN은 밀도 기반의 알고리즘으로 군집화를 수행한다."
   ],
   "metadata": {
    "collapsed": false,
    "pycharm": {
     "name": "#%% md\n"
    }
   }
  },
  {
   "cell_type": "markdown",
   "source": [
    "DBSCAN 장점\n",
    "- 잡음 지점도 걸러내기에 이상치 구별에 유용하다.\n",
    "- 저밀도 클러스터에서 고밀도 클러스터를 분리하는데 유용하다.\n",
    "- K-Means 처럼 클러스터 수를 지정할 필요가 없다.\n",
    "- 복잡한 데이터셋에서도 강력하다.\n",
    "\n",
    "DBSCAN 단점\n",
    "- 부분적으로 비슷한 밀도를 가진 데이터셋의 경우 해당 알고리즘은 연약하다.\n",
    "- 데이터 포인트 처리 순서가 매번 다르기 때문에 해당 알고리즘을 시행할 때 마다 다른 결과가 도출된다.\n",
    "- 데이터의 차원이 높을수록 eps 매개변수의 값을 지정하기 어려워진다."
   ],
   "metadata": {
    "collapsed": false,
    "pycharm": {
     "name": "#%% md\n"
    }
   }
  },
  {
   "cell_type": "code",
   "execution_count": null,
   "outputs": [],
   "source": [
    "import pandas as pd\n"
   ],
   "metadata": {
    "collapsed": false,
    "pycharm": {
     "name": "#%%\n"
    }
   }
  }
 ],
 "metadata": {
  "kernelspec": {
   "display_name": "Python 3",
   "language": "python",
   "name": "python3"
  },
  "language_info": {
   "codemirror_mode": {
    "name": "ipython",
    "version": 2
   },
   "file_extension": ".py",
   "mimetype": "text/x-python",
   "name": "python",
   "nbconvert_exporter": "python",
   "pygments_lexer": "ipython2",
   "version": "2.7.6"
  }
 },
 "nbformat": 4,
 "nbformat_minor": 0
}