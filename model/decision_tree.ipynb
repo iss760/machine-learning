{
 "cells": [
  {
   "cell_type": "markdown",
   "id": "7a292e53-5385-45e9-8070-dd981632244d",
   "metadata": {},
   "source": [
    "# Regression Tree (Hitters Data)"
   ]
  },
  {
   "cell_type": "code",
   "execution_count": null,
   "id": "1b751d9a-3b51-4e41-b1dc-c8e596fd35b9",
   "metadata": {},
   "outputs": [],
   "source": [
    "import numpy as np\n",
    "import pandas as pd\n",
    "import matplotlib.pyplot as plt\n",
    "import seaborn as sns\n",
    "from sklearn.tree import DecisionTreeClassifier, DecisionTreeRegressor"
   ]
  },
  {
   "cell_type": "markdown",
   "id": "b31fe05f-abae-4826-90f9-8b50480fc462",
   "metadata": {},
   "source": []
  }
 ],
 "metadata": {
  "kernelspec": {
   "display_name": "Python 3 (ipykernel)",
   "language": "python",
   "name": "python3"
  },
  "language_info": {
   "codemirror_mode": {
    "name": "ipython",
    "version": 3
   },
   "file_extension": ".py",
   "mimetype": "text/x-python",
   "name": "python",
   "nbconvert_exporter": "python",
   "pygments_lexer": "ipython3",
   "version": "3.7.4"
  }
 },
 "nbformat": 4,
 "nbformat_minor": 5
}
