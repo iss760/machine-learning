{
 "cells": [
  {
   "cell_type": "markdown",
   "id": "7a292e53-5385-45e9-8070-dd981632244d",
   "metadata": {},
   "source": [
    "# Regression Tree (Hitters Data)"
   ]
  },
  {
   "cell_type": "markdown",
   "id": "9e4ee6db-b357-4787-b2aa-08da9db9a173",
   "metadata": {},
   "source": [
    "회귀 문제를 해결하는 Decision Tree의 경우 terminal node의 종속변수(y)의 평균을 예측값으로 반환하게 된다.    \n",
    "예측 값의 종류는 terminal node 개수와 일치한다."
   ]
  },
  {
   "cell_type": "code",
   "execution_count": 1,
   "id": "1b751d9a-3b51-4e41-b1dc-c8e596fd35b9",
   "metadata": {},
   "outputs": [],
   "source": [
    "import numpy as np\n",
    "import pandas as pd\n",
    "import matplotlib.pyplot as plt\n",
    "import seaborn as sns\n",
    "from sklearn import tree"
   ]
  },
  {
   "cell_type": "markdown",
   "id": "b31fe05f-abae-4826-90f9-8b50480fc462",
   "metadata": {},
   "source": [
    "## 1. Load Datasets"
   ]
  },
  {
   "cell_type": "code",
   "execution_count": 2,
   "id": "d7dc7770-833c-47fb-8e54-5bc6668fb30d",
   "metadata": {},
   "outputs": [
    {
     "data": {
      "text/html": [
       "<div>\n",
       "<style scoped>\n",
       "    .dataframe tbody tr th:only-of-type {\n",
       "        vertical-align: middle;\n",
       "    }\n",
       "\n",
       "    .dataframe tbody tr th {\n",
       "        vertical-align: top;\n",
       "    }\n",
       "\n",
       "    .dataframe thead th {\n",
       "        text-align: right;\n",
       "    }\n",
       "</style>\n",
       "<table border=\"1\" class=\"dataframe\">\n",
       "  <thead>\n",
       "    <tr style=\"text-align: right;\">\n",
       "      <th></th>\n",
       "      <th>AtBat</th>\n",
       "      <th>Hits</th>\n",
       "      <th>HmRun</th>\n",
       "      <th>Runs</th>\n",
       "      <th>RBI</th>\n",
       "      <th>Walks</th>\n",
       "      <th>Years</th>\n",
       "      <th>CAtBat</th>\n",
       "      <th>CHits</th>\n",
       "      <th>CHmRun</th>\n",
       "      <th>CRuns</th>\n",
       "      <th>CRBI</th>\n",
       "      <th>CWalks</th>\n",
       "      <th>League</th>\n",
       "      <th>Division</th>\n",
       "      <th>PutOuts</th>\n",
       "      <th>Assists</th>\n",
       "      <th>Errors</th>\n",
       "      <th>Salary</th>\n",
       "      <th>NewLeague</th>\n",
       "    </tr>\n",
       "  </thead>\n",
       "  <tbody>\n",
       "    <tr>\n",
       "      <th>-Andy Allanson</th>\n",
       "      <td>293</td>\n",
       "      <td>66</td>\n",
       "      <td>1</td>\n",
       "      <td>30</td>\n",
       "      <td>29</td>\n",
       "      <td>14</td>\n",
       "      <td>1</td>\n",
       "      <td>293</td>\n",
       "      <td>66</td>\n",
       "      <td>1</td>\n",
       "      <td>30</td>\n",
       "      <td>29</td>\n",
       "      <td>14</td>\n",
       "      <td>A</td>\n",
       "      <td>E</td>\n",
       "      <td>446</td>\n",
       "      <td>33</td>\n",
       "      <td>20</td>\n",
       "      <td>NaN</td>\n",
       "      <td>A</td>\n",
       "    </tr>\n",
       "    <tr>\n",
       "      <th>-Alan Ashby</th>\n",
       "      <td>315</td>\n",
       "      <td>81</td>\n",
       "      <td>7</td>\n",
       "      <td>24</td>\n",
       "      <td>38</td>\n",
       "      <td>39</td>\n",
       "      <td>14</td>\n",
       "      <td>3449</td>\n",
       "      <td>835</td>\n",
       "      <td>69</td>\n",
       "      <td>321</td>\n",
       "      <td>414</td>\n",
       "      <td>375</td>\n",
       "      <td>N</td>\n",
       "      <td>W</td>\n",
       "      <td>632</td>\n",
       "      <td>43</td>\n",
       "      <td>10</td>\n",
       "      <td>475.0</td>\n",
       "      <td>N</td>\n",
       "    </tr>\n",
       "    <tr>\n",
       "      <th>-Alvin Davis</th>\n",
       "      <td>479</td>\n",
       "      <td>130</td>\n",
       "      <td>18</td>\n",
       "      <td>66</td>\n",
       "      <td>72</td>\n",
       "      <td>76</td>\n",
       "      <td>3</td>\n",
       "      <td>1624</td>\n",
       "      <td>457</td>\n",
       "      <td>63</td>\n",
       "      <td>224</td>\n",
       "      <td>266</td>\n",
       "      <td>263</td>\n",
       "      <td>A</td>\n",
       "      <td>W</td>\n",
       "      <td>880</td>\n",
       "      <td>82</td>\n",
       "      <td>14</td>\n",
       "      <td>480.0</td>\n",
       "      <td>A</td>\n",
       "    </tr>\n",
       "  </tbody>\n",
       "</table>\n",
       "</div>"
      ],
      "text/plain": [
       "                AtBat  Hits  HmRun  Runs  RBI  Walks  Years  CAtBat  CHits  \\\n",
       "-Andy Allanson    293    66      1    30   29     14      1     293     66   \n",
       "-Alan Ashby       315    81      7    24   38     39     14    3449    835   \n",
       "-Alvin Davis      479   130     18    66   72     76      3    1624    457   \n",
       "\n",
       "                CHmRun  CRuns  CRBI  CWalks League Division  PutOuts  Assists  \\\n",
       "-Andy Allanson       1     30    29      14      A        E      446       33   \n",
       "-Alan Ashby         69    321   414     375      N        W      632       43   \n",
       "-Alvin Davis        63    224   266     263      A        W      880       82   \n",
       "\n",
       "                Errors  Salary NewLeague  \n",
       "-Andy Allanson      20     NaN         A  \n",
       "-Alan Ashby         10   475.0         N  \n",
       "-Alvin Davis        14   480.0         A  "
      ]
     },
     "execution_count": 2,
     "metadata": {},
     "output_type": "execute_result"
    }
   ],
   "source": [
    "hitters_data = pd.read_csv('./data/Hitters.csv', index_col=0)\n",
    "hitters_data.head(3)"
   ]
  },
  {
   "cell_type": "code",
   "execution_count": 3,
   "id": "c08682dd-2cf6-4423-a177-95c1c5da64d2",
   "metadata": {
    "scrolled": true,
    "tags": []
   },
   "outputs": [
    {
     "name": "stdout",
     "output_type": "stream",
     "text": [
      "<class 'pandas.core.frame.DataFrame'>\n",
      "Index: 322 entries, -Andy Allanson to -Willie Wilson\n",
      "Data columns (total 20 columns):\n",
      " #   Column     Non-Null Count  Dtype  \n",
      "---  ------     --------------  -----  \n",
      " 0   AtBat      322 non-null    int64  \n",
      " 1   Hits       322 non-null    int64  \n",
      " 2   HmRun      322 non-null    int64  \n",
      " 3   Runs       322 non-null    int64  \n",
      " 4   RBI        322 non-null    int64  \n",
      " 5   Walks      322 non-null    int64  \n",
      " 6   Years      322 non-null    int64  \n",
      " 7   CAtBat     322 non-null    int64  \n",
      " 8   CHits      322 non-null    int64  \n",
      " 9   CHmRun     322 non-null    int64  \n",
      " 10  CRuns      322 non-null    int64  \n",
      " 11  CRBI       322 non-null    int64  \n",
      " 12  CWalks     322 non-null    int64  \n",
      " 13  League     322 non-null    object \n",
      " 14  Division   322 non-null    object \n",
      " 15  PutOuts    322 non-null    int64  \n",
      " 16  Assists    322 non-null    int64  \n",
      " 17  Errors     322 non-null    int64  \n",
      " 18  Salary     263 non-null    float64\n",
      " 19  NewLeague  322 non-null    object \n",
      "dtypes: float64(1), int64(16), object(3)\n",
      "memory usage: 52.8+ KB\n"
     ]
    }
   ],
   "source": [
    "hitters_data.info()"
   ]
  },
  {
   "cell_type": "markdown",
   "id": "b4faa753-75d3-46c9-ab1e-ee60cb9adf2a",
   "metadata": {},
   "source": [
    "## 2. PreProcessing"
   ]
  },
  {
   "cell_type": "code",
   "execution_count": 4,
   "id": "956c6301-0605-4425-b526-14c2a5a1f5c7",
   "metadata": {},
   "outputs": [
    {
     "data": {
      "text/plain": [
       "(263, 20)"
      ]
     },
     "execution_count": 4,
     "metadata": {},
     "output_type": "execute_result"
    }
   ],
   "source": [
    "# Null 값 제거\n",
    "hitters_data.dropna(how='any', inplace=True)\n",
    "hitters_data.shape"
   ]
  },
  {
   "cell_type": "code",
   "execution_count": 5,
   "id": "45aa7588-e81e-43fd-a84f-968ceeb4d8cb",
   "metadata": {},
   "outputs": [
    {
     "data": {
      "text/html": [
       "<div>\n",
       "<style scoped>\n",
       "    .dataframe tbody tr th:only-of-type {\n",
       "        vertical-align: middle;\n",
       "    }\n",
       "\n",
       "    .dataframe tbody tr th {\n",
       "        vertical-align: top;\n",
       "    }\n",
       "\n",
       "    .dataframe thead th {\n",
       "        text-align: right;\n",
       "    }\n",
       "</style>\n",
       "<table border=\"1\" class=\"dataframe\">\n",
       "  <thead>\n",
       "    <tr style=\"text-align: right;\">\n",
       "      <th></th>\n",
       "      <th>AtBat</th>\n",
       "      <th>Hits</th>\n",
       "      <th>HmRun</th>\n",
       "      <th>Runs</th>\n",
       "      <th>RBI</th>\n",
       "      <th>Walks</th>\n",
       "      <th>Years</th>\n",
       "      <th>CAtBat</th>\n",
       "      <th>CHits</th>\n",
       "      <th>CHmRun</th>\n",
       "      <th>CRuns</th>\n",
       "      <th>CRBI</th>\n",
       "      <th>CWalks</th>\n",
       "      <th>League</th>\n",
       "      <th>Division</th>\n",
       "      <th>PutOuts</th>\n",
       "      <th>Assists</th>\n",
       "      <th>Errors</th>\n",
       "      <th>Salary</th>\n",
       "      <th>NewLeague</th>\n",
       "    </tr>\n",
       "  </thead>\n",
       "  <tbody>\n",
       "    <tr>\n",
       "      <th>-Alan Ashby</th>\n",
       "      <td>315</td>\n",
       "      <td>81</td>\n",
       "      <td>7</td>\n",
       "      <td>24</td>\n",
       "      <td>38</td>\n",
       "      <td>39</td>\n",
       "      <td>14</td>\n",
       "      <td>3449</td>\n",
       "      <td>835</td>\n",
       "      <td>69</td>\n",
       "      <td>321</td>\n",
       "      <td>414</td>\n",
       "      <td>375</td>\n",
       "      <td>N</td>\n",
       "      <td>W</td>\n",
       "      <td>632</td>\n",
       "      <td>43</td>\n",
       "      <td>10</td>\n",
       "      <td>6.163315</td>\n",
       "      <td>N</td>\n",
       "    </tr>\n",
       "    <tr>\n",
       "      <th>-Alvin Davis</th>\n",
       "      <td>479</td>\n",
       "      <td>130</td>\n",
       "      <td>18</td>\n",
       "      <td>66</td>\n",
       "      <td>72</td>\n",
       "      <td>76</td>\n",
       "      <td>3</td>\n",
       "      <td>1624</td>\n",
       "      <td>457</td>\n",
       "      <td>63</td>\n",
       "      <td>224</td>\n",
       "      <td>266</td>\n",
       "      <td>263</td>\n",
       "      <td>A</td>\n",
       "      <td>W</td>\n",
       "      <td>880</td>\n",
       "      <td>82</td>\n",
       "      <td>14</td>\n",
       "      <td>6.173786</td>\n",
       "      <td>A</td>\n",
       "    </tr>\n",
       "    <tr>\n",
       "      <th>-Andre Dawson</th>\n",
       "      <td>496</td>\n",
       "      <td>141</td>\n",
       "      <td>20</td>\n",
       "      <td>65</td>\n",
       "      <td>78</td>\n",
       "      <td>37</td>\n",
       "      <td>11</td>\n",
       "      <td>5628</td>\n",
       "      <td>1575</td>\n",
       "      <td>225</td>\n",
       "      <td>828</td>\n",
       "      <td>838</td>\n",
       "      <td>354</td>\n",
       "      <td>N</td>\n",
       "      <td>E</td>\n",
       "      <td>200</td>\n",
       "      <td>11</td>\n",
       "      <td>3</td>\n",
       "      <td>6.214608</td>\n",
       "      <td>N</td>\n",
       "    </tr>\n",
       "    <tr>\n",
       "      <th>-Andres Galarraga</th>\n",
       "      <td>321</td>\n",
       "      <td>87</td>\n",
       "      <td>10</td>\n",
       "      <td>39</td>\n",
       "      <td>42</td>\n",
       "      <td>30</td>\n",
       "      <td>2</td>\n",
       "      <td>396</td>\n",
       "      <td>101</td>\n",
       "      <td>12</td>\n",
       "      <td>48</td>\n",
       "      <td>46</td>\n",
       "      <td>33</td>\n",
       "      <td>N</td>\n",
       "      <td>E</td>\n",
       "      <td>805</td>\n",
       "      <td>40</td>\n",
       "      <td>4</td>\n",
       "      <td>4.516339</td>\n",
       "      <td>N</td>\n",
       "    </tr>\n",
       "    <tr>\n",
       "      <th>-Alfredo Griffin</th>\n",
       "      <td>594</td>\n",
       "      <td>169</td>\n",
       "      <td>4</td>\n",
       "      <td>74</td>\n",
       "      <td>51</td>\n",
       "      <td>35</td>\n",
       "      <td>11</td>\n",
       "      <td>4408</td>\n",
       "      <td>1133</td>\n",
       "      <td>19</td>\n",
       "      <td>501</td>\n",
       "      <td>336</td>\n",
       "      <td>194</td>\n",
       "      <td>A</td>\n",
       "      <td>W</td>\n",
       "      <td>282</td>\n",
       "      <td>421</td>\n",
       "      <td>25</td>\n",
       "      <td>6.620073</td>\n",
       "      <td>A</td>\n",
       "    </tr>\n",
       "  </tbody>\n",
       "</table>\n",
       "</div>"
      ],
      "text/plain": [
       "                   AtBat  Hits  HmRun  Runs  RBI  Walks  Years  CAtBat  CHits  \\\n",
       "-Alan Ashby          315    81      7    24   38     39     14    3449    835   \n",
       "-Alvin Davis         479   130     18    66   72     76      3    1624    457   \n",
       "-Andre Dawson        496   141     20    65   78     37     11    5628   1575   \n",
       "-Andres Galarraga    321    87     10    39   42     30      2     396    101   \n",
       "-Alfredo Griffin     594   169      4    74   51     35     11    4408   1133   \n",
       "\n",
       "                   CHmRun  CRuns  CRBI  CWalks League Division  PutOuts  \\\n",
       "-Alan Ashby            69    321   414     375      N        W      632   \n",
       "-Alvin Davis           63    224   266     263      A        W      880   \n",
       "-Andre Dawson         225    828   838     354      N        E      200   \n",
       "-Andres Galarraga      12     48    46      33      N        E      805   \n",
       "-Alfredo Griffin       19    501   336     194      A        W      282   \n",
       "\n",
       "                   Assists  Errors    Salary NewLeague  \n",
       "-Alan Ashby             43      10  6.163315         N  \n",
       "-Alvin Davis            82      14  6.173786         A  \n",
       "-Andre Dawson           11       3  6.214608         N  \n",
       "-Andres Galarraga       40       4  4.516339         N  \n",
       "-Alfredo Griffin       421      25  6.620073         A  "
      ]
     },
     "execution_count": 5,
     "metadata": {},
     "output_type": "execute_result"
    }
   ],
   "source": [
    "# Salary(y값) log변환\n",
    "hitters_data['Salary'] = np.log(hitters_data['Salary'])\n",
    "hitters_data.head()"
   ]
  },
  {
   "cell_type": "markdown",
   "id": "bc775299-fcb6-428d-8090-a2053cd5cf2c",
   "metadata": {},
   "source": [
    "## 3. Decision Tree"
   ]
  },
  {
   "cell_type": "markdown",
   "id": "881eb777-c3a1-40ef-883d-d13117d0976b",
   "metadata": {},
   "source": [
    "Decision Tree는 계산의 복잡성 대비 높은 예측 성능을 내는 것으로 알려져 있으며, 변수 단위로 설명력을 가진다는 것이 장점이다. 하지만, 결정경계(decision boundary)가 데이터 축에 수직이기 때문에 특정 데이터에서만 잘 작동하는 편이다. 이러한 문제를 해결하는 것이 Random Forest이다."
   ]
  },
  {
   "cell_type": "code",
   "execution_count": 6,
   "id": "8d770ac4-0ebe-4898-990f-404799c97c1f",
   "metadata": {},
   "outputs": [
    {
     "data": {
      "text/plain": [
       "DecisionTreeRegressor(max_leaf_nodes=3)"
      ]
     },
     "execution_count": 6,
     "metadata": {},
     "output_type": "execute_result"
    }
   ],
   "source": [
    "# Decision Tree 테스트\n",
    "# 두 가지의 변수 만으로 Decision Tree 학습\n",
    "X = hitters_data[['Years', 'Hits']]\n",
    "y = hitters_data[['Salary']]\n",
    "\n",
    "regr_tree = tree.DecisionTreeRegressor(max_leaf_nodes=3)\n",
    "regr_tree.fit(X, y)"
   ]
  },
  {
   "cell_type": "code",
   "execution_count": 39,
   "id": "50b9d2a7-6526-4ad4-819c-7ebbb2d1eecf",
   "metadata": {},
   "outputs": [
    {
     "data": {
      "image/png": "[encoded data removed]",
      "text/plain": [
       "<Figure size 360x360 with 1 Axes>"
      ]
     },
     "metadata": {
      "needs_background": "light"
     },
     "output_type": "display_data"
    }
   ],
   "source": [
    "# 트리 구조 시각화\n",
    "plt.figure(figsize=(5, 5))\n",
    "tree.plot_tree(regr_tree, \n",
    "               feature_names=X.columns, \n",
    "               rounded=True)\n",
    "plt.show()"
   ]
  },
  {
   "cell_type": "code",
   "execution_count": 51,
   "id": "b86f6801-e777-4337-8390-4f4b6e2aa894",
   "metadata": {
    "tags": []
   },
   "outputs": [
    {
     "data": {
      "image/png": "[encoded data removed]",
      "text/plain": [
       "<Figure size 432x288 with 1 Axes>"
      ]
     },
     "metadata": {
      "needs_background": "light"
     },
     "output_type": "display_data"
    }
   ],
   "source": [
    "# 데이터 분기 시각화\n",
    "\n",
    "# 산포도 그리기\n",
    "palette = sns.color_palette(\"rocket_r\", as_cmap=True)\n",
    "g = sns.scatterplot(x='Years', y='Hits', hue='Salary', data=hitters_data, palette=palette)\n",
    "g.set(xlim=(0, 25), ylim=(-5, 250))\n",
    "\n",
    "# 트리 분기 라인 시각화\n",
    "plt.vlines(4.5,  ymin=-5, ymax=250, colors='black')\n",
    "plt.hlines(117.5, xmin=4.5, xmax=25, colors='black')\n",
    "plt.annotate('R1', xy=(2, 117.5), fontsize=20)\n",
    "plt.annotate('R2', xy=(13, 50), fontsize=20)\n",
    "plt.annotate('R3', xy=(13, 180), fontsize=20)\n",
    "plt.show()"
   ]
  },
  {
   "cell_type": "markdown",
   "id": "24935ba5-8dbd-4ec5-bcb2-db977f36a3aa",
   "metadata": {},
   "source": [
    "----"
   ]
  },
  {
   "cell_type": "markdown",
   "id": "98444fce-0889-401f-bcf5-f1cfe7b40210",
   "metadata": {},
   "source": [
    "**TIP)** *Decision Tree의 분기*"
   ]
  },
  {
   "cell_type": "markdown",
   "id": "94323eca-7770-492f-8670-843d1ae70765",
   "metadata": {},
   "source": [
    "Decision Tree는 순도(Homogeneity)가 증가, 불순도(Impurity) 혹은 불확실성(Uncertainty)가 최대한 감소하는 방향으로 학습을 진행한다.    \n",
    "이때, 분기에 사용하는 지표는 분류에서는 엔트로피(Entropy), 지니계수(Gini Index) 두 가지와 회귀에서는 MSE(Mean Squared Error)가 대표적이다.\n",
    "    \n",
    "- 범주형\n",
    "1. 엔트로피 (Entropy)    \n",
    "$Entropy(A) = -\\sum_{k=1}^{m}P_{k}\\log_{2}(P_{k})$   \n",
    "     \n",
    "\n",
    "2. 지니계수 (Gini Index)     \n",
    "$G.I(A) = \\sum^{d}_{i=1}(R_{i}(1 - \\sum^{m}_{k=1}p^{2}_{ik}))$\n",
    "\n",
    "분류 문제의 지표 두 가지 모두 0.5(범주가 반반씩 섞여 있는 형태)에서 불순도가 최대가 되며 하나의 범주 만으로 분할 되었을 때 불순도가 최소가 된다. 아래 그림의 오분류오차(misclassification error)의 경우 미분이 불가능한 지표이므로 잘 사용하지 않는다."
   ]
  },
  {
   "cell_type": "markdown",
   "id": "dc0cf557-22dc-4268-9372-514f01a53789",
   "metadata": {},
   "source": [
    "<img src='./image/entropy_gi.png' width=400 height=400>"
   ]
  },
  {
   "cell_type": "markdown",
   "id": "54cbf442-ce08-4435-b6e1-0eeed94141c6",
   "metadata": {},
   "source": [
    "- 수치형\n",
    "1. MSE (Mean Squared Error)   \n",
    "$MSE = \\frac{1}{n}\\sum^{n}_{i=1}(y_{i}-\\hat{y_{i}})^{2}$    \n",
    "\n",
    "회귀의 경우 선형 회귀와 마찬가지로 MSE가 최소가 되는 방향으로 모델 학습이 이루어진다. "
   ]
  },
  {
   "cell_type": "markdown",
   "id": "9ab7bde6-e8da-462d-b8e2-2f27ccb8ba64",
   "metadata": {},
   "source": [
    "----"
   ]
  },
  {
   "cell_type": "code",
   "execution_count": 53,
   "id": "a3bfff5a-bd49-45de-b88c-56e1e424b195",
   "metadata": {},
   "outputs": [],
   "source": [
    "# 모든 변수를 활용한 Decision Tree"
   ]
  },
  {
   "cell_type": "code",
   "execution_count": null,
   "id": "c156b33a-8be9-4eec-9220-09572ab5158b",
   "metadata": {},
   "outputs": [],
   "source": []
  }
 ],
 "metadata": {
  "kernelspec": {
   "display_name": "Python 3 (ipykernel)",
   "language": "python",
   "name": "python3"
  },
  "language_info": {
   "codemirror_mode": {
    "name": "ipython",
    "version": 3
   },
   "file_extension": ".py",
   "mimetype": "text/x-python",
   "name": "python",
   "nbconvert_exporter": "python",
   "pygments_lexer": "ipython3",
   "version": "3.7.4"
  }
 },
 "nbformat": 4,
 "nbformat_minor": 5
}
