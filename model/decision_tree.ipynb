{
 "cells": [
  {
   "cell_type": "markdown",
   "id": "7a292e53-5385-45e9-8070-dd981632244d",
   "metadata": {},
   "source": [
    "# Regression Tree (Hitters Data)"
   ]
  },
  {
   "cell_type": "markdown",
   "id": "9e4ee6db-b357-4787-b2aa-08da9db9a173",
   "metadata": {},
   "source": [
    "회귀 문제를 해결하는 Decision Tree의 경우 terminal node의 종속변수(y)의 평균을 예측값으로 반환하게 된다.    \n",
    "예측 값의 종류는 terminal node 개수와 일치한다."
   ]
  },
  {
   "cell_type": "code",
   "execution_count": 160,
   "id": "1b751d9a-3b51-4e41-b1dc-c8e596fd35b9",
   "metadata": {},
   "outputs": [],
   "source": [
    "import numpy as np\n",
    "import pandas as pd\n",
    "import matplotlib.pyplot as plt\n",
    "import seaborn as sns\n",
    "from sklearn import tree\n",
    "from sklearn import preprocessing\n",
    "from sklearn.model_selection import train_test_split, cross_val_score\n",
    "from sklearn.metrics import classification_report\n",
    "\n",
    "%matplotlib inline"
   ]
  },
  {
   "cell_type": "markdown",
   "id": "b31fe05f-abae-4826-90f9-8b50480fc462",
   "metadata": {},
   "source": [
    "## 1. Load Datasets"
   ]
  },
  {
   "cell_type": "code",
   "execution_count": 2,
   "id": "d7dc7770-833c-47fb-8e54-5bc6668fb30d",
   "metadata": {},
   "outputs": [
    {
     "data": {
      "text/html": [
       "<div>\n",
       "<style scoped>\n",
       "    .dataframe tbody tr th:only-of-type {\n",
       "        vertical-align: middle;\n",
       "    }\n",
       "\n",
       "    .dataframe tbody tr th {\n",
       "        vertical-align: top;\n",
       "    }\n",
       "\n",
       "    .dataframe thead th {\n",
       "        text-align: right;\n",
       "    }\n",
       "</style>\n",
       "<table border=\"1\" class=\"dataframe\">\n",
       "  <thead>\n",
       "    <tr style=\"text-align: right;\">\n",
       "      <th></th>\n",
       "      <th>AtBat</th>\n",
       "      <th>Hits</th>\n",
       "      <th>HmRun</th>\n",
       "      <th>Runs</th>\n",
       "      <th>RBI</th>\n",
       "      <th>Walks</th>\n",
       "      <th>Years</th>\n",
       "      <th>CAtBat</th>\n",
       "      <th>CHits</th>\n",
       "      <th>CHmRun</th>\n",
       "      <th>CRuns</th>\n",
       "      <th>CRBI</th>\n",
       "      <th>CWalks</th>\n",
       "      <th>League</th>\n",
       "      <th>Division</th>\n",
       "      <th>PutOuts</th>\n",
       "      <th>Assists</th>\n",
       "      <th>Errors</th>\n",
       "      <th>Salary</th>\n",
       "      <th>NewLeague</th>\n",
       "    </tr>\n",
       "  </thead>\n",
       "  <tbody>\n",
       "    <tr>\n",
       "      <th>-Andy Allanson</th>\n",
       "      <td>293</td>\n",
       "      <td>66</td>\n",
       "      <td>1</td>\n",
       "      <td>30</td>\n",
       "      <td>29</td>\n",
       "      <td>14</td>\n",
       "      <td>1</td>\n",
       "      <td>293</td>\n",
       "      <td>66</td>\n",
       "      <td>1</td>\n",
       "      <td>30</td>\n",
       "      <td>29</td>\n",
       "      <td>14</td>\n",
       "      <td>A</td>\n",
       "      <td>E</td>\n",
       "      <td>446</td>\n",
       "      <td>33</td>\n",
       "      <td>20</td>\n",
       "      <td>NaN</td>\n",
       "      <td>A</td>\n",
       "    </tr>\n",
       "    <tr>\n",
       "      <th>-Alan Ashby</th>\n",
       "      <td>315</td>\n",
       "      <td>81</td>\n",
       "      <td>7</td>\n",
       "      <td>24</td>\n",
       "      <td>38</td>\n",
       "      <td>39</td>\n",
       "      <td>14</td>\n",
       "      <td>3449</td>\n",
       "      <td>835</td>\n",
       "      <td>69</td>\n",
       "      <td>321</td>\n",
       "      <td>414</td>\n",
       "      <td>375</td>\n",
       "      <td>N</td>\n",
       "      <td>W</td>\n",
       "      <td>632</td>\n",
       "      <td>43</td>\n",
       "      <td>10</td>\n",
       "      <td>475.0</td>\n",
       "      <td>N</td>\n",
       "    </tr>\n",
       "    <tr>\n",
       "      <th>-Alvin Davis</th>\n",
       "      <td>479</td>\n",
       "      <td>130</td>\n",
       "      <td>18</td>\n",
       "      <td>66</td>\n",
       "      <td>72</td>\n",
       "      <td>76</td>\n",
       "      <td>3</td>\n",
       "      <td>1624</td>\n",
       "      <td>457</td>\n",
       "      <td>63</td>\n",
       "      <td>224</td>\n",
       "      <td>266</td>\n",
       "      <td>263</td>\n",
       "      <td>A</td>\n",
       "      <td>W</td>\n",
       "      <td>880</td>\n",
       "      <td>82</td>\n",
       "      <td>14</td>\n",
       "      <td>480.0</td>\n",
       "      <td>A</td>\n",
       "    </tr>\n",
       "  </tbody>\n",
       "</table>\n",
       "</div>"
      ],
      "text/plain": [
       "                AtBat  Hits  HmRun  Runs  RBI  Walks  Years  CAtBat  CHits  \\\n",
       "-Andy Allanson    293    66      1    30   29     14      1     293     66   \n",
       "-Alan Ashby       315    81      7    24   38     39     14    3449    835   \n",
       "-Alvin Davis      479   130     18    66   72     76      3    1624    457   \n",
       "\n",
       "                CHmRun  CRuns  CRBI  CWalks League Division  PutOuts  Assists  \\\n",
       "-Andy Allanson       1     30    29      14      A        E      446       33   \n",
       "-Alan Ashby         69    321   414     375      N        W      632       43   \n",
       "-Alvin Davis        63    224   266     263      A        W      880       82   \n",
       "\n",
       "                Errors  Salary NewLeague  \n",
       "-Andy Allanson      20     NaN         A  \n",
       "-Alan Ashby         10   475.0         N  \n",
       "-Alvin Davis        14   480.0         A  "
      ]
     },
     "execution_count": 2,
     "metadata": {},
     "output_type": "execute_result"
    }
   ],
   "source": [
    "hitters_data = pd.read_csv('./data/Hitters.csv', index_col=0)\n",
    "hitters_data.head(3)"
   ]
  },
  {
   "cell_type": "code",
   "execution_count": 3,
   "id": "c08682dd-2cf6-4423-a177-95c1c5da64d2",
   "metadata": {
    "scrolled": true,
    "tags": []
   },
   "outputs": [
    {
     "name": "stdout",
     "output_type": "stream",
     "text": [
      "<class 'pandas.core.frame.DataFrame'>\n",
      "Index: 322 entries, -Andy Allanson to -Willie Wilson\n",
      "Data columns (total 20 columns):\n",
      " #   Column     Non-Null Count  Dtype  \n",
      "---  ------     --------------  -----  \n",
      " 0   AtBat      322 non-null    int64  \n",
      " 1   Hits       322 non-null    int64  \n",
      " 2   HmRun      322 non-null    int64  \n",
      " 3   Runs       322 non-null    int64  \n",
      " 4   RBI        322 non-null    int64  \n",
      " 5   Walks      322 non-null    int64  \n",
      " 6   Years      322 non-null    int64  \n",
      " 7   CAtBat     322 non-null    int64  \n",
      " 8   CHits      322 non-null    int64  \n",
      " 9   CHmRun     322 non-null    int64  \n",
      " 10  CRuns      322 non-null    int64  \n",
      " 11  CRBI       322 non-null    int64  \n",
      " 12  CWalks     322 non-null    int64  \n",
      " 13  League     322 non-null    object \n",
      " 14  Division   322 non-null    object \n",
      " 15  PutOuts    322 non-null    int64  \n",
      " 16  Assists    322 non-null    int64  \n",
      " 17  Errors     322 non-null    int64  \n",
      " 18  Salary     263 non-null    float64\n",
      " 19  NewLeague  322 non-null    object \n",
      "dtypes: float64(1), int64(16), object(3)\n",
      "memory usage: 52.8+ KB\n"
     ]
    }
   ],
   "source": [
    "hitters_data.info()"
   ]
  },
  {
   "cell_type": "markdown",
   "id": "b4faa753-75d3-46c9-ab1e-ee60cb9adf2a",
   "metadata": {},
   "source": [
    "## 2. PreProcessing"
   ]
  },
  {
   "cell_type": "code",
   "execution_count": 4,
   "id": "956c6301-0605-4425-b526-14c2a5a1f5c7",
   "metadata": {},
   "outputs": [
    {
     "data": {
      "text/plain": [
       "(263, 20)"
      ]
     },
     "execution_count": 4,
     "metadata": {},
     "output_type": "execute_result"
    }
   ],
   "source": [
    "# Null 값 제거\n",
    "hitters_data.dropna(how='any', inplace=True)\n",
    "hitters_data.shape"
   ]
  },
  {
   "cell_type": "code",
   "execution_count": 5,
   "id": "45aa7588-e81e-43fd-a84f-968ceeb4d8cb",
   "metadata": {},
   "outputs": [
    {
     "data": {
      "text/html": [
       "<div>\n",
       "<style scoped>\n",
       "    .dataframe tbody tr th:only-of-type {\n",
       "        vertical-align: middle;\n",
       "    }\n",
       "\n",
       "    .dataframe tbody tr th {\n",
       "        vertical-align: top;\n",
       "    }\n",
       "\n",
       "    .dataframe thead th {\n",
       "        text-align: right;\n",
       "    }\n",
       "</style>\n",
       "<table border=\"1\" class=\"dataframe\">\n",
       "  <thead>\n",
       "    <tr style=\"text-align: right;\">\n",
       "      <th></th>\n",
       "      <th>AtBat</th>\n",
       "      <th>Hits</th>\n",
       "      <th>HmRun</th>\n",
       "      <th>Runs</th>\n",
       "      <th>RBI</th>\n",
       "      <th>Walks</th>\n",
       "      <th>Years</th>\n",
       "      <th>CAtBat</th>\n",
       "      <th>CHits</th>\n",
       "      <th>CHmRun</th>\n",
       "      <th>CRuns</th>\n",
       "      <th>CRBI</th>\n",
       "      <th>CWalks</th>\n",
       "      <th>League</th>\n",
       "      <th>Division</th>\n",
       "      <th>PutOuts</th>\n",
       "      <th>Assists</th>\n",
       "      <th>Errors</th>\n",
       "      <th>Salary</th>\n",
       "      <th>NewLeague</th>\n",
       "    </tr>\n",
       "  </thead>\n",
       "  <tbody>\n",
       "    <tr>\n",
       "      <th>-Alan Ashby</th>\n",
       "      <td>315</td>\n",
       "      <td>81</td>\n",
       "      <td>7</td>\n",
       "      <td>24</td>\n",
       "      <td>38</td>\n",
       "      <td>39</td>\n",
       "      <td>14</td>\n",
       "      <td>3449</td>\n",
       "      <td>835</td>\n",
       "      <td>69</td>\n",
       "      <td>321</td>\n",
       "      <td>414</td>\n",
       "      <td>375</td>\n",
       "      <td>N</td>\n",
       "      <td>W</td>\n",
       "      <td>632</td>\n",
       "      <td>43</td>\n",
       "      <td>10</td>\n",
       "      <td>6.163315</td>\n",
       "      <td>N</td>\n",
       "    </tr>\n",
       "    <tr>\n",
       "      <th>-Alvin Davis</th>\n",
       "      <td>479</td>\n",
       "      <td>130</td>\n",
       "      <td>18</td>\n",
       "      <td>66</td>\n",
       "      <td>72</td>\n",
       "      <td>76</td>\n",
       "      <td>3</td>\n",
       "      <td>1624</td>\n",
       "      <td>457</td>\n",
       "      <td>63</td>\n",
       "      <td>224</td>\n",
       "      <td>266</td>\n",
       "      <td>263</td>\n",
       "      <td>A</td>\n",
       "      <td>W</td>\n",
       "      <td>880</td>\n",
       "      <td>82</td>\n",
       "      <td>14</td>\n",
       "      <td>6.173786</td>\n",
       "      <td>A</td>\n",
       "    </tr>\n",
       "    <tr>\n",
       "      <th>-Andre Dawson</th>\n",
       "      <td>496</td>\n",
       "      <td>141</td>\n",
       "      <td>20</td>\n",
       "      <td>65</td>\n",
       "      <td>78</td>\n",
       "      <td>37</td>\n",
       "      <td>11</td>\n",
       "      <td>5628</td>\n",
       "      <td>1575</td>\n",
       "      <td>225</td>\n",
       "      <td>828</td>\n",
       "      <td>838</td>\n",
       "      <td>354</td>\n",
       "      <td>N</td>\n",
       "      <td>E</td>\n",
       "      <td>200</td>\n",
       "      <td>11</td>\n",
       "      <td>3</td>\n",
       "      <td>6.214608</td>\n",
       "      <td>N</td>\n",
       "    </tr>\n",
       "    <tr>\n",
       "      <th>-Andres Galarraga</th>\n",
       "      <td>321</td>\n",
       "      <td>87</td>\n",
       "      <td>10</td>\n",
       "      <td>39</td>\n",
       "      <td>42</td>\n",
       "      <td>30</td>\n",
       "      <td>2</td>\n",
       "      <td>396</td>\n",
       "      <td>101</td>\n",
       "      <td>12</td>\n",
       "      <td>48</td>\n",
       "      <td>46</td>\n",
       "      <td>33</td>\n",
       "      <td>N</td>\n",
       "      <td>E</td>\n",
       "      <td>805</td>\n",
       "      <td>40</td>\n",
       "      <td>4</td>\n",
       "      <td>4.516339</td>\n",
       "      <td>N</td>\n",
       "    </tr>\n",
       "    <tr>\n",
       "      <th>-Alfredo Griffin</th>\n",
       "      <td>594</td>\n",
       "      <td>169</td>\n",
       "      <td>4</td>\n",
       "      <td>74</td>\n",
       "      <td>51</td>\n",
       "      <td>35</td>\n",
       "      <td>11</td>\n",
       "      <td>4408</td>\n",
       "      <td>1133</td>\n",
       "      <td>19</td>\n",
       "      <td>501</td>\n",
       "      <td>336</td>\n",
       "      <td>194</td>\n",
       "      <td>A</td>\n",
       "      <td>W</td>\n",
       "      <td>282</td>\n",
       "      <td>421</td>\n",
       "      <td>25</td>\n",
       "      <td>6.620073</td>\n",
       "      <td>A</td>\n",
       "    </tr>\n",
       "  </tbody>\n",
       "</table>\n",
       "</div>"
      ],
      "text/plain": [
       "                   AtBat  Hits  HmRun  Runs  RBI  Walks  Years  CAtBat  CHits  \\\n",
       "-Alan Ashby          315    81      7    24   38     39     14    3449    835   \n",
       "-Alvin Davis         479   130     18    66   72     76      3    1624    457   \n",
       "-Andre Dawson        496   141     20    65   78     37     11    5628   1575   \n",
       "-Andres Galarraga    321    87     10    39   42     30      2     396    101   \n",
       "-Alfredo Griffin     594   169      4    74   51     35     11    4408   1133   \n",
       "\n",
       "                   CHmRun  CRuns  CRBI  CWalks League Division  PutOuts  \\\n",
       "-Alan Ashby            69    321   414     375      N        W      632   \n",
       "-Alvin Davis           63    224   266     263      A        W      880   \n",
       "-Andre Dawson         225    828   838     354      N        E      200   \n",
       "-Andres Galarraga      12     48    46      33      N        E      805   \n",
       "-Alfredo Griffin       19    501   336     194      A        W      282   \n",
       "\n",
       "                   Assists  Errors    Salary NewLeague  \n",
       "-Alan Ashby             43      10  6.163315         N  \n",
       "-Alvin Davis            82      14  6.173786         A  \n",
       "-Andre Dawson           11       3  6.214608         N  \n",
       "-Andres Galarraga       40       4  4.516339         N  \n",
       "-Alfredo Griffin       421      25  6.620073         A  "
      ]
     },
     "execution_count": 5,
     "metadata": {},
     "output_type": "execute_result"
    }
   ],
   "source": [
    "# Salary(y값) log변환\n",
    "hitters_data['Salary'] = np.log(hitters_data['Salary'])\n",
    "hitters_data.head()"
   ]
  },
  {
   "cell_type": "markdown",
   "id": "bc775299-fcb6-428d-8090-a2053cd5cf2c",
   "metadata": {},
   "source": [
    "## 3. Decision Tree"
   ]
  },
  {
   "cell_type": "markdown",
   "id": "881eb777-c3a1-40ef-883d-d13117d0976b",
   "metadata": {},
   "source": [
    "Decision Tree는 계산의 복잡성 대비 높은 예측 성능을 내는 것으로 알려져 있으며, 변수 단위로 설명력을 가진다는 것이 장점이다. 하지만, 결정경계(decision boundary)가 데이터 축에 수직이기 때문에 특정 데이터에서만 잘 작동하는 편이다. 이러한 문제를 해결하는 것이 Random Forest이다."
   ]
  },
  {
   "cell_type": "code",
   "execution_count": 6,
   "id": "8d770ac4-0ebe-4898-990f-404799c97c1f",
   "metadata": {},
   "outputs": [
    {
     "data": {
      "text/plain": [
       "DecisionTreeRegressor(max_leaf_nodes=3)"
      ]
     },
     "execution_count": 6,
     "metadata": {},
     "output_type": "execute_result"
    }
   ],
   "source": [
    "# Decision Tree 테스트\n",
    "# 두 가지의 변수 만으로 Decision Tree 학습\n",
    "X = hitters_data[['Years', 'Hits']]\n",
    "y = hitters_data[['Salary']]\n",
    "\n",
    "regr_tree = tree.DecisionTreeRegressor(max_leaf_nodes=3)\n",
    "regr_tree.fit(X, y)"
   ]
  },
  {
   "cell_type": "code",
   "execution_count": 7,
   "id": "50b9d2a7-6526-4ad4-819c-7ebbb2d1eecf",
   "metadata": {},
   "outputs": [
    {
     "data": {
      "image/png": "[encoded data removed]",
      "text/plain": [
       "<Figure size 360x360 with 1 Axes>"
      ]
     },
     "metadata": {
      "needs_background": "light"
     },
     "output_type": "display_data"
    }
   ],
   "source": [
    "# 트리 구조 시각화\n",
    "plt.figure(figsize=(5, 5))\n",
    "tree.plot_tree(regr_tree, \n",
    "               feature_names=X.columns, \n",
    "               rounded=True)\n",
    "plt.show()"
   ]
  },
  {
   "cell_type": "code",
   "execution_count": 8,
   "id": "b86f6801-e777-4337-8390-4f4b6e2aa894",
   "metadata": {
    "tags": []
   },
   "outputs": [
    {
     "data": {
      "image/png": "[encoded data removed]",
      "text/plain": [
       "<Figure size 432x288 with 1 Axes>"
      ]
     },
     "metadata": {
      "needs_background": "light"
     },
     "output_type": "display_data"
    }
   ],
   "source": [
    "# 데이터 분기 시각화\n",
    "\n",
    "# 산포도 그리기\n",
    "palette = sns.color_palette(\"rocket_r\", as_cmap=True)\n",
    "g = sns.scatterplot(x='Years', y='Hits', hue='Salary', data=hitters_data, palette=palette)\n",
    "g.set(xlim=(0, 25), ylim=(-5, 250))\n",
    "\n",
    "# 트리 분기 라인 시각화\n",
    "plt.vlines(4.5,  ymin=-5, ymax=250, colors='black')\n",
    "plt.hlines(117.5, xmin=4.5, xmax=25, colors='black')\n",
    "plt.annotate('R1', xy=(2, 117.5), fontsize=20)\n",
    "plt.annotate('R2', xy=(13, 50), fontsize=20)\n",
    "plt.annotate('R3', xy=(13, 180), fontsize=20)\n",
    "plt.show()"
   ]
  },
  {
   "cell_type": "markdown",
   "id": "24935ba5-8dbd-4ec5-bcb2-db977f36a3aa",
   "metadata": {},
   "source": [
    "----"
   ]
  },
  {
   "cell_type": "markdown",
   "id": "98444fce-0889-401f-bcf5-f1cfe7b40210",
   "metadata": {},
   "source": [
    "**TIP)** *Decision Tree의 분기*"
   ]
  },
  {
   "cell_type": "markdown",
   "id": "94323eca-7770-492f-8670-843d1ae70765",
   "metadata": {},
   "source": [
    "Decision Tree는 순도(Homogeneity)가 증가, 불순도(Impurity) 혹은 불확실성(Uncertainty)가 최대한 감소하는 방향으로 학습을 진행한다.    \n",
    "이때, 분기에 사용하는 지표는 분류에서는 엔트로피(Entropy), 지니계수(Gini Index) 두 가지와 회귀에서는 MSE(Mean Squared Error)가 대표적이다.\n",
    "    \n",
    "- 범주형\n",
    "1. 엔트로피 (Entropy)    \n",
    "$Entropy(A) = -\\sum_{k=1}^{m}P_{k}\\log_{2}(P_{k})$   \n",
    "     \n",
    "\n",
    "2. 지니계수 (Gini Index)     \n",
    "$G.I(A) = \\sum^{d}_{i=1}(R_{i}(1 - \\sum^{m}_{k=1}p^{2}_{ik}))$\n",
    "\n",
    "분류 문제의 지표 두 가지 모두 0.5(범주가 반반씩 섞여 있는 형태)에서 불순도가 최대가 되며 하나의 범주 만으로 분할 되었을 때 불순도가 최소가 된다. 아래 그림의 오분류오차(misclassification error)의 경우 미분이 불가능한 지표이므로 잘 사용하지 않는다."
   ]
  },
  {
   "cell_type": "markdown",
   "id": "dc0cf557-22dc-4268-9372-514f01a53789",
   "metadata": {},
   "source": [
    "<img src='./image/entropy_gi.png' width=400 height=400>"
   ]
  },
  {
   "cell_type": "markdown",
   "id": "54cbf442-ce08-4435-b6e1-0eeed94141c6",
   "metadata": {},
   "source": [
    "- 수치형\n",
    "1. MSE (Mean Squared Error)   \n",
    "$MSE = \\frac{1}{n}\\sum^{n}_{i=1}(y_{i}-\\hat{y_{i}})^{2}$    \n",
    "\n",
    "회귀의 경우 선형 회귀와 마찬가지로 MSE가 최소가 되는 방향으로 모델 학습이 이루어진다. "
   ]
  },
  {
   "cell_type": "markdown",
   "id": "9ab7bde6-e8da-462d-b8e2-2f27ccb8ba64",
   "metadata": {},
   "source": [
    "----"
   ]
  },
  {
   "cell_type": "code",
   "execution_count": 47,
   "id": "90a570ef-3cb8-45a5-a1f3-54ad996242e0",
   "metadata": {},
   "outputs": [
    {
     "name": "stdout",
     "output_type": "stream",
     "text": [
      "(263, 22)\n",
      "(263,)\n"
     ]
    }
   ],
   "source": [
    "# 모든 변수를 활용한 Decision Tree\n",
    "X = pd.get_dummies(hitters_data)    # 더미회\n",
    "X = X[X.columns.difference(['Salary'])]    # X변수 추출\n",
    "y = hitters_data['Salary']    # y변수 추출\n",
    "\n",
    "print(X.shape)\n",
    "print(y.shape)"
   ]
  },
  {
   "cell_type": "code",
   "execution_count": 48,
   "id": "a3bfff5a-bd49-45de-b88c-56e1e424b195",
   "metadata": {},
   "outputs": [
    {
     "data": {
      "image/png": "[encoded data removed]",
      "text/plain": [
       "<Figure size 864x432 with 1 Axes>"
      ]
     },
     "metadata": {
      "needs_background": "light"
     },
     "output_type": "display_data"
    }
   ],
   "source": [
    "# Decision tree 학습\n",
    "regr_tree = tree.DecisionTreeRegressor(max_leaf_nodes=12)\n",
    "regr_tree.fit(X, y)\n",
    "\n",
    "# 트리 구조 시각화\n",
    "plt.figure(figsize=(12, 6))\n",
    "tree.plot_tree(regr_tree, \n",
    "               feature_names=X.columns, \n",
    "               rounded=True)\n",
    "plt.show()"
   ]
  },
  {
   "cell_type": "code",
   "execution_count": 50,
   "id": "c156b33a-8be9-4eec-9220-09572ab5158b",
   "metadata": {},
   "outputs": [
    {
     "name": "stdout",
     "output_type": "stream",
     "text": [
      "leaf nodes: 8 ( 0.238 )\n"
     ]
    },
    {
     "data": {
      "image/png": "[encoded data removed]",
      "text/plain": [
       "<Figure size 432x288 with 1 Axes>"
      ]
     },
     "metadata": {
      "needs_background": "light"
     },
     "output_type": "display_data"
    }
   ],
   "source": [
    "# 최적의 leaf nodes 계산\n",
    "\n",
    "size_range = range(2, 31)\n",
    "mse_scores = []\n",
    "\n",
    "for s in size_range:\n",
    "    regr_tree = tree.DecisionTreeRegressor(max_leaf_nodes=s, random_state=123)\n",
    "    \n",
    "    # K-fold 교차검증\n",
    "    # Negative Mean Squared Error 평가 지표로 사용\n",
    "    # 7-fold cross validation\n",
    "    mse = -cross_val_score(regr_tree, X, y, cv=9, scoring='neg_mean_squared_error')\n",
    "    \n",
    "    mse_scores.append(np.mean(mse))\n",
    "\n",
    "opt_leaf = mse_scores.index(min(mse_scores)) + 2\n",
    "print('leaf nodes:', opt_leaf, '(', round(min(mse_scores), 3), ')')\n",
    "plt.plot(size_range, mse_scores)\n",
    "plt.title('CV7 MSE')\n",
    "plt.xlabel('Leaf nodes')\n",
    "plt.ylabel('MSE')\n",
    "plt.grid(True)\n",
    "plt.show()"
   ]
  },
  {
   "cell_type": "code",
   "execution_count": 51,
   "id": "2323c99a-6253-4aee-8790-c3d0e1da8b61",
   "metadata": {},
   "outputs": [
    {
     "data": {
      "image/png": "[encoded data removed]",
      "text/plain": [
       "<Figure size 864x432 with 1 Axes>"
      ]
     },
     "metadata": {
      "needs_background": "light"
     },
     "output_type": "display_data"
    }
   ],
   "source": [
    "# 최적의 leaf nodes로 Decision tree 학습\n",
    "regr_tree = tree.DecisionTreeRegressor(max_leaf_nodes=opt_leaf)\n",
    "regr_tree.fit(X, y)\n",
    "\n",
    "# 트리 구조 시각화\n",
    "plt.figure(figsize=(12, 6))\n",
    "tree.plot_tree(regr_tree, \n",
    "               feature_names=X.columns, \n",
    "               rounded=True)\n",
    "plt.show()"
   ]
  },
  {
   "cell_type": "code",
   "execution_count": 69,
   "id": "f8ff3729-5352-4afe-bcce-4747a63209b5",
   "metadata": {},
   "outputs": [
    {
     "data": {
      "text/html": [
       "<div>\n",
       "<style scoped>\n",
       "    .dataframe tbody tr th:only-of-type {\n",
       "        vertical-align: middle;\n",
       "    }\n",
       "\n",
       "    .dataframe tbody tr th {\n",
       "        vertical-align: top;\n",
       "    }\n",
       "\n",
       "    .dataframe thead th {\n",
       "        text-align: right;\n",
       "    }\n",
       "</style>\n",
       "<table border=\"1\" class=\"dataframe\">\n",
       "  <thead>\n",
       "    <tr style=\"text-align: right;\">\n",
       "      <th></th>\n",
       "      <th>feature</th>\n",
       "      <th>importance</th>\n",
       "    </tr>\n",
       "  </thead>\n",
       "  <tbody>\n",
       "    <tr>\n",
       "      <th>2</th>\n",
       "      <td>CAtBat</td>\n",
       "      <td>0.704212</td>\n",
       "    </tr>\n",
       "    <tr>\n",
       "      <th>3</th>\n",
       "      <td>CHits</td>\n",
       "      <td>0.094202</td>\n",
       "    </tr>\n",
       "    <tr>\n",
       "      <th>6</th>\n",
       "      <td>CRuns</td>\n",
       "      <td>0.075745</td>\n",
       "    </tr>\n",
       "    <tr>\n",
       "      <th>11</th>\n",
       "      <td>Hits</td>\n",
       "      <td>0.071524</td>\n",
       "    </tr>\n",
       "    <tr>\n",
       "      <th>5</th>\n",
       "      <td>CRBI</td>\n",
       "      <td>0.038106</td>\n",
       "    </tr>\n",
       "    <tr>\n",
       "      <th>20</th>\n",
       "      <td>Walks</td>\n",
       "      <td>0.016211</td>\n",
       "    </tr>\n",
       "    <tr>\n",
       "      <th>13</th>\n",
       "      <td>League_A</td>\n",
       "      <td>0.000000</td>\n",
       "    </tr>\n",
       "    <tr>\n",
       "      <th>19</th>\n",
       "      <td>Runs</td>\n",
       "      <td>0.000000</td>\n",
       "    </tr>\n",
       "    <tr>\n",
       "      <th>18</th>\n",
       "      <td>RBI</td>\n",
       "      <td>0.000000</td>\n",
       "    </tr>\n",
       "    <tr>\n",
       "      <th>17</th>\n",
       "      <td>PutOuts</td>\n",
       "      <td>0.000000</td>\n",
       "    </tr>\n",
       "  </tbody>\n",
       "</table>\n",
       "</div>"
      ],
      "text/plain": [
       "     feature  importance\n",
       "2     CAtBat    0.704212\n",
       "3      CHits    0.094202\n",
       "6      CRuns    0.075745\n",
       "11      Hits    0.071524\n",
       "5       CRBI    0.038106\n",
       "20     Walks    0.016211\n",
       "13  League_A    0.000000\n",
       "19      Runs    0.000000\n",
       "18       RBI    0.000000\n",
       "17   PutOuts    0.000000"
      ]
     },
     "execution_count": 69,
     "metadata": {},
     "output_type": "execute_result"
    }
   ],
   "source": [
    "# 중요한 상위 10개의 Feature 확인\n",
    "feature_importance = pd.DataFrame({'feature': X.columns, 'importance': regr_tree.feature_importances_})\n",
    "feature_importance.sort_values(by='importance', ascending=False)[:10]"
   ]
  },
  {
   "cell_type": "code",
   "execution_count": 82,
   "id": "479e436d-da85-432d-9c46-c4da887e339f",
   "metadata": {},
   "outputs": [
    {
     "name": "stdout",
     "output_type": "stream",
     "text": [
      "   CAtBat  CHits  CRBI  CRuns  Hits  Walks\n",
      "0    8151   2732  1655   1026   164      3\n",
      "1   11507    611   899    290   230     22\n",
      "2   10436   3718  1117    322   162     51\n",
      "3   10044   1513   496    365   131     96\n",
      "4     369    235   283   1553   159    101\n",
      "5    9499    896  1243   1680   165     39\n",
      "6    5810   2273  1121   1933   100     75\n",
      "7   11112    595   209    352   172      4\n",
      "8   12888   2410  1584    174    11     57\n",
      "9    6514   1058   553   2058   221     41\n",
      "\n",
      "[6.6773443  6.6773443  6.6773443  7.07516471 5.47611307 6.6773443\n",
      " 6.15418249 6.29742222 6.15418249 6.6773443 ]\n"
     ]
    }
   ],
   "source": [
    "# 최적의 leaf_nodes와 중요 Feature를 활용하여 최적의 Decision Tree 학습\n",
    "\n",
    "# 중요한 Feature만 사용하여 X, y값 선정\n",
    "selected_ft = feature_importance[feature_importance['importance'] > 0]['feature'].values\n",
    "X = hitters_data[selected_ft]\n",
    "y = hitters_data['Salary']\n",
    "\n",
    "# 최적의 leaf_nodes로 Decision Tree 학습\n",
    "regr_tree = tree.DecisionTreeRegressor(max_leaf_nodes=opt_leaf)\n",
    "regr_tree.fit(X, y)\n",
    "\n",
    "# 임의의 X_test 생성\n",
    "f_min = np.min(X[selected_ft])\n",
    "f_max = np.max(X[selected_ft])\n",
    "X_test = pd.concat([pd.Series(np.random.randint(f_min[i], f_max[i], size=10)) \n",
    "                    for i in range(len(selected_ft))], axis=1)\n",
    "X_test.columns = selected_ft\n",
    "print(X_test, end='\\n\\n')\n",
    "\n",
    "# 예측\n",
    "y_pred = regr_tree.predict(X_test)\n",
    "print(y_pred)"
   ]
  },
  {
   "cell_type": "markdown",
   "id": "109639a3-00ac-47c2-9762-9ac5e99ef5a2",
   "metadata": {},
   "source": [
    "<br/>\n",
    "\n",
    "**결론)**   \n",
    "\n",
    "*최적의 모델 도출을 위한 leaf nodes의 선택은 8개이며, 이때 주요한 Feature는 CAtBat, CHits, CRBI, CRuns, Hits, Walks 이다.*\n",
    "\n",
    "<br/>"
   ]
  },
  {
   "cell_type": "markdown",
   "id": "e244957e-ad76-42a8-bbc7-a81a1fb6cf86",
   "metadata": {},
   "source": [
    "# Classification Tree (Heart Data)"
   ]
  },
  {
   "cell_type": "markdown",
   "id": "ec6d8b6e-b3a0-4471-b7a4-e555aaba8346",
   "metadata": {},
   "source": [
    "## 1. Load Datasets"
   ]
  },
  {
   "cell_type": "code",
   "execution_count": 86,
   "id": "b81db362-4695-4d47-a2cb-1033a1b5c8b3",
   "metadata": {},
   "outputs": [
    {
     "data": {
      "text/html": [
       "<div>\n",
       "<style scoped>\n",
       "    .dataframe tbody tr th:only-of-type {\n",
       "        vertical-align: middle;\n",
       "    }\n",
       "\n",
       "    .dataframe tbody tr th {\n",
       "        vertical-align: top;\n",
       "    }\n",
       "\n",
       "    .dataframe thead th {\n",
       "        text-align: right;\n",
       "    }\n",
       "</style>\n",
       "<table border=\"1\" class=\"dataframe\">\n",
       "  <thead>\n",
       "    <tr style=\"text-align: right;\">\n",
       "      <th></th>\n",
       "      <th>Age</th>\n",
       "      <th>Sex</th>\n",
       "      <th>ChestPain</th>\n",
       "      <th>RestBP</th>\n",
       "      <th>Chol</th>\n",
       "      <th>Fbs</th>\n",
       "      <th>RestECG</th>\n",
       "      <th>MaxHR</th>\n",
       "      <th>ExAng</th>\n",
       "      <th>Oldpeak</th>\n",
       "      <th>Slope</th>\n",
       "      <th>Ca</th>\n",
       "      <th>Thal</th>\n",
       "      <th>AHD</th>\n",
       "    </tr>\n",
       "  </thead>\n",
       "  <tbody>\n",
       "    <tr>\n",
       "      <th>1</th>\n",
       "      <td>63</td>\n",
       "      <td>1</td>\n",
       "      <td>typical</td>\n",
       "      <td>145</td>\n",
       "      <td>233</td>\n",
       "      <td>1</td>\n",
       "      <td>2</td>\n",
       "      <td>150</td>\n",
       "      <td>0</td>\n",
       "      <td>2.3</td>\n",
       "      <td>3</td>\n",
       "      <td>0.0</td>\n",
       "      <td>fixed</td>\n",
       "      <td>No</td>\n",
       "    </tr>\n",
       "    <tr>\n",
       "      <th>2</th>\n",
       "      <td>67</td>\n",
       "      <td>1</td>\n",
       "      <td>asymptomatic</td>\n",
       "      <td>160</td>\n",
       "      <td>286</td>\n",
       "      <td>0</td>\n",
       "      <td>2</td>\n",
       "      <td>108</td>\n",
       "      <td>1</td>\n",
       "      <td>1.5</td>\n",
       "      <td>2</td>\n",
       "      <td>3.0</td>\n",
       "      <td>normal</td>\n",
       "      <td>Yes</td>\n",
       "    </tr>\n",
       "    <tr>\n",
       "      <th>3</th>\n",
       "      <td>67</td>\n",
       "      <td>1</td>\n",
       "      <td>asymptomatic</td>\n",
       "      <td>120</td>\n",
       "      <td>229</td>\n",
       "      <td>0</td>\n",
       "      <td>2</td>\n",
       "      <td>129</td>\n",
       "      <td>1</td>\n",
       "      <td>2.6</td>\n",
       "      <td>2</td>\n",
       "      <td>2.0</td>\n",
       "      <td>reversable</td>\n",
       "      <td>Yes</td>\n",
       "    </tr>\n",
       "  </tbody>\n",
       "</table>\n",
       "</div>"
      ],
      "text/plain": [
       "   Age  Sex     ChestPain  RestBP  Chol  Fbs  RestECG  MaxHR  ExAng  Oldpeak  \\\n",
       "1   63    1       typical     145   233    1        2    150      0      2.3   \n",
       "2   67    1  asymptomatic     160   286    0        2    108      1      1.5   \n",
       "3   67    1  asymptomatic     120   229    0        2    129      1      2.6   \n",
       "\n",
       "   Slope   Ca        Thal  AHD  \n",
       "1      3  0.0       fixed   No  \n",
       "2      2  3.0      normal  Yes  \n",
       "3      2  2.0  reversable  Yes  "
      ]
     },
     "execution_count": 86,
     "metadata": {},
     "output_type": "execute_result"
    }
   ],
   "source": [
    "heart_data = pd.read_csv('./data/Heart.csv', index_col=0)\n",
    "heart_data.head(3)"
   ]
  },
  {
   "cell_type": "code",
   "execution_count": 87,
   "id": "e25f6950-3ad0-4d1e-974e-d39e148d3130",
   "metadata": {},
   "outputs": [
    {
     "name": "stdout",
     "output_type": "stream",
     "text": [
      "<class 'pandas.core.frame.DataFrame'>\n",
      "Int64Index: 303 entries, 1 to 303\n",
      "Data columns (total 14 columns):\n",
      " #   Column     Non-Null Count  Dtype  \n",
      "---  ------     --------------  -----  \n",
      " 0   Age        303 non-null    int64  \n",
      " 1   Sex        303 non-null    int64  \n",
      " 2   ChestPain  303 non-null    object \n",
      " 3   RestBP     303 non-null    int64  \n",
      " 4   Chol       303 non-null    int64  \n",
      " 5   Fbs        303 non-null    int64  \n",
      " 6   RestECG    303 non-null    int64  \n",
      " 7   MaxHR      303 non-null    int64  \n",
      " 8   ExAng      303 non-null    int64  \n",
      " 9   Oldpeak    303 non-null    float64\n",
      " 10  Slope      303 non-null    int64  \n",
      " 11  Ca         299 non-null    float64\n",
      " 12  Thal       301 non-null    object \n",
      " 13  AHD        303 non-null    object \n",
      "dtypes: float64(2), int64(9), object(3)\n",
      "memory usage: 35.5+ KB\n"
     ]
    }
   ],
   "source": [
    "heart_data.info()"
   ]
  },
  {
   "cell_type": "markdown",
   "id": "62fbf428-d58d-402c-a03d-5fb218451752",
   "metadata": {},
   "source": [
    "## 2. PreProcessing"
   ]
  },
  {
   "cell_type": "markdown",
   "id": "68b67d75-2a9d-4dfc-a334-516dcee7dfcc",
   "metadata": {},
   "source": [
    "범주형 변수의 경우 Dummies화 하는 것이 보통이나, Decision Tree의 경우 Label Encoding을 적용하여도 경우에 따라 괜찮은 결과가 나올 수 있다. 그러므로 이번에는 label encoding 방식과 dummies 방식을 비교 본다."
   ]
  },
  {
   "cell_type": "code",
   "execution_count": 131,
   "id": "e0dfd2af-9b56-4ebd-9855-d31572296c08",
   "metadata": {},
   "outputs": [
    {
     "data": {
      "text/plain": [
       "(297, 14)"
      ]
     },
     "execution_count": 131,
     "metadata": {},
     "output_type": "execute_result"
    }
   ],
   "source": [
    "# Null 값 데이터 제거\n",
    "heart_data = heart_data.dropna()\n",
    "heart_data.shape"
   ]
  },
  {
   "cell_type": "code",
   "execution_count": 132,
   "id": "f6c025c7-8e67-4087-9609-fd5b5efd7f95",
   "metadata": {},
   "outputs": [
    {
     "name": "stdout",
     "output_type": "stream",
     "text": [
      "(237, 13) (237,)\n",
      "(60, 13) (60,)\n"
     ]
    }
   ],
   "source": [
    "# X, y갑 분할\n",
    "X = heart_data[heart_data.columns.difference(['AHD'])]\n",
    "y = heart_data['AHD']\n",
    "\n",
    "# 학습, 테스트 데이터 분할\n",
    "X_train, X_test, y_train, y_test = train_test_split(X, y, random_state=123, test_size=0.2)\n",
    "print(X_train.shape, y_train.shape)\n",
    "print(X_test.shape, y_test.shape)"
   ]
  },
  {
   "cell_type": "code",
   "execution_count": 133,
   "id": "ca384e21-fe97-4ef1-b0cd-c2439549d930",
   "metadata": {},
   "outputs": [
    {
     "data": {
      "text/html": [
       "<div>\n",
       "<style scoped>\n",
       "    .dataframe tbody tr th:only-of-type {\n",
       "        vertical-align: middle;\n",
       "    }\n",
       "\n",
       "    .dataframe tbody tr th {\n",
       "        vertical-align: top;\n",
       "    }\n",
       "\n",
       "    .dataframe thead th {\n",
       "        text-align: right;\n",
       "    }\n",
       "</style>\n",
       "<table border=\"1\" class=\"dataframe\">\n",
       "  <thead>\n",
       "    <tr style=\"text-align: right;\">\n",
       "      <th></th>\n",
       "      <th>Age</th>\n",
       "      <th>Ca</th>\n",
       "      <th>ChestPain</th>\n",
       "      <th>Chol</th>\n",
       "      <th>ExAng</th>\n",
       "      <th>Fbs</th>\n",
       "      <th>MaxHR</th>\n",
       "      <th>Oldpeak</th>\n",
       "      <th>RestBP</th>\n",
       "      <th>RestECG</th>\n",
       "      <th>Sex</th>\n",
       "      <th>Slope</th>\n",
       "      <th>Thal</th>\n",
       "    </tr>\n",
       "  </thead>\n",
       "  <tbody>\n",
       "    <tr>\n",
       "      <th>54</th>\n",
       "      <td>44</td>\n",
       "      <td>0.0</td>\n",
       "      <td>2</td>\n",
       "      <td>219</td>\n",
       "      <td>0</td>\n",
       "      <td>0</td>\n",
       "      <td>188</td>\n",
       "      <td>0.0</td>\n",
       "      <td>130</td>\n",
       "      <td>2</td>\n",
       "      <td>1</td>\n",
       "      <td>1</td>\n",
       "      <td>1</td>\n",
       "    </tr>\n",
       "    <tr>\n",
       "      <th>268</th>\n",
       "      <td>59</td>\n",
       "      <td>1.0</td>\n",
       "      <td>1</td>\n",
       "      <td>218</td>\n",
       "      <td>0</td>\n",
       "      <td>1</td>\n",
       "      <td>134</td>\n",
       "      <td>2.2</td>\n",
       "      <td>126</td>\n",
       "      <td>0</td>\n",
       "      <td>1</td>\n",
       "      <td>2</td>\n",
       "      <td>0</td>\n",
       "    </tr>\n",
       "    <tr>\n",
       "      <th>97</th>\n",
       "      <td>59</td>\n",
       "      <td>1.0</td>\n",
       "      <td>0</td>\n",
       "      <td>239</td>\n",
       "      <td>1</td>\n",
       "      <td>0</td>\n",
       "      <td>142</td>\n",
       "      <td>1.2</td>\n",
       "      <td>110</td>\n",
       "      <td>2</td>\n",
       "      <td>1</td>\n",
       "      <td>2</td>\n",
       "      <td>2</td>\n",
       "    </tr>\n",
       "  </tbody>\n",
       "</table>\n",
       "</div>"
      ],
      "text/plain": [
       "     Age   Ca  ChestPain  Chol  ExAng  Fbs  MaxHR  Oldpeak  RestBP  RestECG  \\\n",
       "54    44  0.0          2   219      0    0    188      0.0     130        2   \n",
       "268   59  1.0          1   218      0    1    134      2.2     126        0   \n",
       "97    59  1.0          0   239      1    0    142      1.2     110        2   \n",
       "\n",
       "     Sex  Slope  Thal  \n",
       "54     1      1     1  \n",
       "268    1      2     0  \n",
       "97     1      2     2  "
      ]
     },
     "execution_count": 133,
     "metadata": {},
     "output_type": "execute_result"
    }
   ],
   "source": [
    "# label encoding\n",
    "le = preprocessing.LabelEncoder()\n",
    "X_train_lb = X_train.copy()\n",
    "X_test_lb = X_test.copy()\n",
    "\n",
    "X_train_lb['ChestPain'] = le.fit_transform(X_train_lb['ChestPain'])\n",
    "X_train_lb['Thal'] = le.fit_transform(X_train_lb['Thal'])\n",
    "X_test_lb['ChestPain'] = le.fit_transform(X_test_lb['ChestPain'])\n",
    "X_test_lb['Thal'] = le.fit_transform(X_test_lb['Thal'])\n",
    "\n",
    "X_train_lb.head(3)"
   ]
  },
  {
   "cell_type": "code",
   "execution_count": 134,
   "id": "b315a3a3-1b47-4c66-9ccb-9379b77640ff",
   "metadata": {},
   "outputs": [
    {
     "data": {
      "text/html": [
       "<div>\n",
       "<style scoped>\n",
       "    .dataframe tbody tr th:only-of-type {\n",
       "        vertical-align: middle;\n",
       "    }\n",
       "\n",
       "    .dataframe tbody tr th {\n",
       "        vertical-align: top;\n",
       "    }\n",
       "\n",
       "    .dataframe thead th {\n",
       "        text-align: right;\n",
       "    }\n",
       "</style>\n",
       "<table border=\"1\" class=\"dataframe\">\n",
       "  <thead>\n",
       "    <tr style=\"text-align: right;\">\n",
       "      <th></th>\n",
       "      <th>Age</th>\n",
       "      <th>Ca</th>\n",
       "      <th>Chol</th>\n",
       "      <th>ExAng</th>\n",
       "      <th>Fbs</th>\n",
       "      <th>MaxHR</th>\n",
       "      <th>Oldpeak</th>\n",
       "      <th>RestBP</th>\n",
       "      <th>RestECG</th>\n",
       "      <th>Sex</th>\n",
       "      <th>Slope</th>\n",
       "      <th>ChestPain_asymptomatic</th>\n",
       "      <th>ChestPain_nonanginal</th>\n",
       "      <th>ChestPain_nontypical</th>\n",
       "      <th>ChestPain_typical</th>\n",
       "      <th>Thal_fixed</th>\n",
       "      <th>Thal_normal</th>\n",
       "      <th>Thal_reversable</th>\n",
       "    </tr>\n",
       "  </thead>\n",
       "  <tbody>\n",
       "    <tr>\n",
       "      <th>54</th>\n",
       "      <td>44</td>\n",
       "      <td>0.0</td>\n",
       "      <td>219</td>\n",
       "      <td>0</td>\n",
       "      <td>0</td>\n",
       "      <td>188</td>\n",
       "      <td>0.0</td>\n",
       "      <td>130</td>\n",
       "      <td>2</td>\n",
       "      <td>1</td>\n",
       "      <td>1</td>\n",
       "      <td>0</td>\n",
       "      <td>0</td>\n",
       "      <td>1</td>\n",
       "      <td>0</td>\n",
       "      <td>0</td>\n",
       "      <td>1</td>\n",
       "      <td>0</td>\n",
       "    </tr>\n",
       "    <tr>\n",
       "      <th>268</th>\n",
       "      <td>59</td>\n",
       "      <td>1.0</td>\n",
       "      <td>218</td>\n",
       "      <td>0</td>\n",
       "      <td>1</td>\n",
       "      <td>134</td>\n",
       "      <td>2.2</td>\n",
       "      <td>126</td>\n",
       "      <td>0</td>\n",
       "      <td>1</td>\n",
       "      <td>2</td>\n",
       "      <td>0</td>\n",
       "      <td>1</td>\n",
       "      <td>0</td>\n",
       "      <td>0</td>\n",
       "      <td>1</td>\n",
       "      <td>0</td>\n",
       "      <td>0</td>\n",
       "    </tr>\n",
       "    <tr>\n",
       "      <th>97</th>\n",
       "      <td>59</td>\n",
       "      <td>1.0</td>\n",
       "      <td>239</td>\n",
       "      <td>1</td>\n",
       "      <td>0</td>\n",
       "      <td>142</td>\n",
       "      <td>1.2</td>\n",
       "      <td>110</td>\n",
       "      <td>2</td>\n",
       "      <td>1</td>\n",
       "      <td>2</td>\n",
       "      <td>1</td>\n",
       "      <td>0</td>\n",
       "      <td>0</td>\n",
       "      <td>0</td>\n",
       "      <td>0</td>\n",
       "      <td>0</td>\n",
       "      <td>1</td>\n",
       "    </tr>\n",
       "  </tbody>\n",
       "</table>\n",
       "</div>"
      ],
      "text/plain": [
       "     Age   Ca  Chol  ExAng  Fbs  MaxHR  Oldpeak  RestBP  RestECG  Sex  Slope  \\\n",
       "54    44  0.0   219      0    0    188      0.0     130        2    1      1   \n",
       "268   59  1.0   218      0    1    134      2.2     126        0    1      2   \n",
       "97    59  1.0   239      1    0    142      1.2     110        2    1      2   \n",
       "\n",
       "     ChestPain_asymptomatic  ChestPain_nonanginal  ChestPain_nontypical  \\\n",
       "54                        0                     0                     1   \n",
       "268                       0                     1                     0   \n",
       "97                        1                     0                     0   \n",
       "\n",
       "     ChestPain_typical  Thal_fixed  Thal_normal  Thal_reversable  \n",
       "54                   0           0            1                0  \n",
       "268                  0           1            0                0  \n",
       "97                   0           0            0                1  "
      ]
     },
     "execution_count": 134,
     "metadata": {},
     "output_type": "execute_result"
    }
   ],
   "source": [
    "# dummies\n",
    "X_train_dm = X_train.copy()\n",
    "X_test_dm = X_test.copy()\n",
    "\n",
    "X_train_dm = pd.get_dummies(X_train_dm)\n",
    "X_test_dm = pd.get_dummies(X_test_dm)\n",
    "\n",
    "X_train_dm.head(3)"
   ]
  },
  {
   "cell_type": "code",
   "execution_count": 135,
   "id": "ebfcba1a-a668-41f9-bd51-5548a4c26b37",
   "metadata": {},
   "outputs": [
    {
     "data": {
      "text/plain": [
       "54     0\n",
       "268    1\n",
       "97     1\n",
       "266    1\n",
       "236    1\n",
       "      ..\n",
       "108    1\n",
       "84     1\n",
       "18     0\n",
       "234    0\n",
       "100    0\n",
       "Name: AHD, Length: 237, dtype: int64"
      ]
     },
     "execution_count": 135,
     "metadata": {},
     "output_type": "execute_result"
    }
   ],
   "source": [
    "# y데이터 가공\n",
    "y_train = y_train.apply(lambda x: 1 if x.strip() == 'Yes' else 0)\n",
    "y_test = y_test.apply(lambda x: 1 if x.strip() == 'Yes' else 0)\n",
    "y_train"
   ]
  },
  {
   "cell_type": "markdown",
   "id": "938b718e-2524-4eaa-a28d-570db802c8ea",
   "metadata": {},
   "source": [
    "## 3. Decision Tree"
   ]
  },
  {
   "cell_type": "code",
   "execution_count": 152,
   "id": "f5f2ddfb-eec8-416e-9c04-469398aace0c",
   "metadata": {},
   "outputs": [
    {
     "data": {
      "image/png": "[encoded data removed]",
      "text/plain": [
       "<Figure size 864x288 with 1 Axes>"
      ]
     },
     "metadata": {
      "needs_background": "light"
     },
     "output_type": "display_data"
    }
   ],
   "source": [
    "# label encoding 방식 X변수의 Decision Tree 학습 \n",
    "regr_tree_lb = tree.DecisionTreeClassifier(max_leaf_nodes=6, random_state=7)\n",
    "regr_tree_lb.fit(X_train_lb, y_train)\n",
    "\n",
    "# 트리 구조 시각화\n",
    "plt.figure(figsize=(12, 4))\n",
    "tree.plot_tree(regr_tree_lb, \n",
    "               feature_names=X_train_lb.columns, \n",
    "               rounded=True)\n",
    "plt.show()"
   ]
  },
  {
   "cell_type": "code",
   "execution_count": 171,
   "id": "63e2da96-e968-4d05-8bca-e0b93c0df573",
   "metadata": {},
   "outputs": [
    {
     "data": {
      "image/png": "[encoded data removed]",
      "text/plain": [
       "<Figure size 864x288 with 1 Axes>"
      ]
     },
     "metadata": {
      "needs_background": "light"
     },
     "output_type": "display_data"
    }
   ],
   "source": [
    "# dummies 방식 X변수의 Decision Tree 학습 \n",
    "regr_tree_dm = tree.DecisionTreeClassifier(max_leaf_nodes=6, random_state=7)\n",
    "regr_tree_dm.fit(X_train_dm, y_train)\n",
    "\n",
    "# 트리 구조 시각화\n",
    "plt.figure(figsize=(12, 4))\n",
    "tree.plot_tree(regr_tree_dm, \n",
    "               feature_names=X_train_dm.columns, \n",
    "               rounded=True)\n",
    "plt.show()"
   ]
  },
  {
   "cell_type": "code",
   "execution_count": 170,
   "id": "c23b365c-a458-46b0-8546-b7e4b394174d",
   "metadata": {},
   "outputs": [
    {
     "name": "stdout",
     "output_type": "stream",
     "text": [
      "label encoding result:  0.8833\n",
      "dummies result:  0.8833\n"
     ]
    }
   ],
   "source": [
    "# 두 모델의 정확도 비교\n",
    "print('label encoding result: ', round(regr_tree_lb.score(X_test_lb, y_test), 4))\n",
    "print('dummies result: ', round(regr_tree_dm.score(X_test_dm, y_test), 4))"
   ]
  },
  {
   "cell_type": "code",
   "execution_count": 168,
   "id": "206d53d3-9d74-4169-9a2f-39ee61fed5fd",
   "metadata": {},
   "outputs": [
    {
     "data": {
      "image/png": "[encoded data removed]",
      "text/plain": [
       "<Figure size 432x288 with 2 Axes>"
      ]
     },
     "metadata": {
      "needs_background": "light"
     },
     "output_type": "display_data"
    },
    {
     "name": "stdout",
     "output_type": "stream",
     "text": [
      "\n",
      "[Confusion Report]\n",
      "\n",
      "               precision    recall  f1-score   support\n",
      "\n",
      "           0       0.88      0.91      0.90        33\n",
      "           1       0.88      0.85      0.87        27\n",
      "\n",
      "    accuracy                           0.88        60\n",
      "   macro avg       0.88      0.88      0.88        60\n",
      "weighted avg       0.88      0.88      0.88        60\n",
      "\n"
     ]
    }
   ],
   "source": [
    "def get_confusion_mt(model, _X_test, _y_test):\n",
    "    y_pred = model.predict(_X_test)\n",
    "    confusion_mt = pd.crosstab(_y_test.values.ravel(), y_pred, \n",
    "                               rownames=['Actual'], \n",
    "                               colnames=['Predicted'])\n",
    "    return confusion_mt\n",
    "\n",
    "def get_confusion_report(model, _X_test, _y_test):\n",
    "    y_pred = model.predict(_X_test)\n",
    "    return classification_report(_y_test, y_pred)\n",
    "\n",
    "# confusion matrix 산출 \n",
    "confusion_mt = get_confusion_mt(regr_tree_lb, X_test_lb, y_test)\n",
    "\n",
    "# confusion matrix 시각화\n",
    "fig = sns.heatmap(confusion_mt, annot=True, fmt='d')\n",
    "fig.set_title('Confusion Matrix')\n",
    "plt.show()\n",
    "\n",
    "# 여러 측정지표 확인\n",
    "print('\\n[Confusion Report]\\n\\n', get_confusion_report(regr_tree_lb, X_test_lb, y_test))"
   ]
  },
  {
   "cell_type": "code",
   "execution_count": 169,
   "id": "dc116959-f97e-435a-b181-2cf301f2985a",
   "metadata": {},
   "outputs": [
    {
     "data": {
      "image/png": "[encoded data removed]",
      "text/plain": [
       "<Figure size 432x288 with 2 Axes>"
      ]
     },
     "metadata": {
      "needs_background": "light"
     },
     "output_type": "display_data"
    },
    {
     "name": "stdout",
     "output_type": "stream",
     "text": [
      "\n",
      "[Confusion Report]\n",
      "\n",
      "               precision    recall  f1-score   support\n",
      "\n",
      "           0       0.88      0.91      0.90        33\n",
      "           1       0.88      0.85      0.87        27\n",
      "\n",
      "    accuracy                           0.88        60\n",
      "   macro avg       0.88      0.88      0.88        60\n",
      "weighted avg       0.88      0.88      0.88        60\n",
      "\n"
     ]
    }
   ],
   "source": [
    "def get_confusion_mt(model, _X_test, _y_test):\n",
    "    y_pred = model.predict(_X_test)\n",
    "    confusion_mt = pd.crosstab(_y_test.values.ravel(), y_pred, \n",
    "                               rownames=['Actual'], \n",
    "                               colnames=['Predicted'])\n",
    "    return confusion_mt\n",
    "\n",
    "def get_confusion_report(model, _X_test, _y_test):\n",
    "    y_pred = model.predict(_X_test)\n",
    "    return classification_report(_y_test, y_pred)\n",
    "\n",
    "# confusion matrix 산출 \n",
    "confusion_mt = get_confusion_mt(regr_tree_dm, X_test_dm, y_test)\n",
    "\n",
    "# confusion matrix 시각화\n",
    "fig = sns.heatmap(confusion_mt, annot=True, fmt='d')\n",
    "fig.set_title('Confusion Matrix')\n",
    "plt.show()\n",
    "\n",
    "# 여러 측정지표 확인\n",
    "print('\\n[Confusion Report]\\n\\n', get_confusion_report(regr_tree_dm, X_test_dm, y_test))"
   ]
  },
  {
   "cell_type": "markdown",
   "id": "cd40f17d-2418-438c-ae13-5810cc1565f8",
   "metadata": {},
   "source": [
    "<br/>\n",
    "\n",
    "**결론)**   \n",
    "\n",
    "Label Encoding 방식과 Dummies 방식을 비교한 결과 Tree의 모양은 상이하지만, 그 결과는 차이가 없다.\n",
    "\n",
    "<br/>"
   ]
  },
  {
   "cell_type": "code",
   "execution_count": null,
   "id": "c5b3bbad-fa56-4cbb-bada-7ff7bb99a0ab",
   "metadata": {},
   "outputs": [],
   "source": []
  }
 ],
 "metadata": {
  "kernelspec": {
   "display_name": "Python 3 (ipykernel)",
   "language": "python",
   "name": "python3"
  },
  "language_info": {
   "codemirror_mode": {
    "name": "ipython",
    "version": 3
   },
   "file_extension": ".py",
   "mimetype": "text/x-python",
   "name": "python",
   "nbconvert_exporter": "python",
   "pygments_lexer": "ipython3",
   "version": "3.7.4"
  }
 },
 "nbformat": 4,
 "nbformat_minor": 5
}
