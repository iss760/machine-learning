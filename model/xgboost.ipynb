{
 "cells": [
  {
   "cell_type": "markdown",
   "id": "8b80fccb-fcff-473f-9c0f-e68728009bb7",
   "metadata": {},
   "source": [
    "# XGBoost (Heart Data)"
   ]
  },
  {
   "cell_type": "markdown",
   "id": "3516145a-3409-4165-bbfd-9f7e561daffe",
   "metadata": {},
   "source": [
    "XGBoost는 앙상블(Ensemble) 기법을 구현한 대표적인 알고리즘은 Gradient Boost를 사용하며, Regression, Classification 모두에서 사용가능하다. 성능과 자원의 효율이 좋아 여러 문제에서 좋은 성과를 보여준다. 최근에는 LightGBM, Catboost 같은 보다 나은 모델이 등장하여 현업에서의 사용은 다소 줄어든 상황이다."
   ]
  },
  {
   "cell_type": "markdown",
   "id": "3c5fa7c7-57ab-4159-bf13-48756184d44b",
   "metadata": {},
   "source": [
    "**XGBoost의 장점**\n",
    "- GBM 대비 빠른 수행시간\n",
    "- 병령 처리로 학습하여 속도가 빠르다.\n",
    "- 과적합 규제(Regularization)를 포함하고 있어 강한 내구성을 가진다.\n",
    "- Greedy Algorithm을 활용하여 가지치기(Pruning)하며, 이를 통해 과적합(Overfitting)에서 좀 더 자유롭다.\n",
    "- CART(Classification And Regression Tree) 앙상블 모델을 사용\n",
    "- Ealrly Stopping 기능 존재\n",
    "- 유연성이 좋아 다양한 옵션과 Customizing이 용이하다.\n",
    "- 결측치(Missing Values)를 내부적으로 처리하여 편리함을 제공"
   ]
  },
  {
   "cell_type": "code",
   "execution_count": 51,
   "id": "5bde3fed-dd43-433e-b356-7d4023c2fdfc",
   "metadata": {},
   "outputs": [],
   "source": [
    "import numpy as np\n",
    "import pandas as pd\n",
    "from collections import deque\n",
    "from time import time\n",
    "from datetime import timedelta\n",
    "from xgboost import XGBRegressor, XGBClassifier\n",
    "from sklearn.ensemble import RandomForestClassifier\n",
    "from sklearn.model_selection import train_test_split, GridSearchCV, RandomizedSearchCV\n",
    "from sklearn.metrics import classification_report\n",
    "import seaborn as sns\n",
    "import matplotlib.pyplot as plt\n",
    "\n",
    "%matplotlib inline"
   ]
  },
  {
   "cell_type": "markdown",
   "id": "d0d5c988-3aa9-4f47-a98f-698818112878",
   "metadata": {},
   "source": [
    "## 1. XGBoost (Extream Gradient Boosting) Regression with Hitters Data"
   ]
  },
  {
   "cell_type": "code",
   "execution_count": null,
   "id": "0e5dd08f-f927-4be1-a02e-48693cb39e65",
   "metadata": {},
   "outputs": [],
   "source": []
  },
  {
   "cell_type": "code",
   "execution_count": null,
   "id": "2a3a405c-0847-40a6-a09b-0f60247a892f",
   "metadata": {},
   "outputs": [],
   "source": []
  },
  {
   "cell_type": "markdown",
   "id": "6b94869c-d30f-4872-909e-20f17bd67777",
   "metadata": {
    "tags": []
   },
   "source": [
    "## 2. XGBoost (Extream Gradient Boosting) Classification with Heart Data"
   ]
  },
  {
   "cell_type": "markdown",
   "id": "a4494d67-29c1-4ff8-ab25-632b07eddc24",
   "metadata": {},
   "source": [
    "XGBoost와 Random Forest의 성능을 비교해 본다."
   ]
  },
  {
   "cell_type": "code",
   "execution_count": 2,
   "id": "10cd5dab-63d7-4227-9923-2f5104fd3277",
   "metadata": {},
   "outputs": [
    {
     "data": {
      "text/html": [
       "<div>\n",
       "<style scoped>\n",
       "    .dataframe tbody tr th:only-of-type {\n",
       "        vertical-align: middle;\n",
       "    }\n",
       "\n",
       "    .dataframe tbody tr th {\n",
       "        vertical-align: top;\n",
       "    }\n",
       "\n",
       "    .dataframe thead th {\n",
       "        text-align: right;\n",
       "    }\n",
       "</style>\n",
       "<table border=\"1\" class=\"dataframe\">\n",
       "  <thead>\n",
       "    <tr style=\"text-align: right;\">\n",
       "      <th></th>\n",
       "      <th>Age</th>\n",
       "      <th>Sex</th>\n",
       "      <th>ChestPain</th>\n",
       "      <th>RestBP</th>\n",
       "      <th>Chol</th>\n",
       "      <th>Fbs</th>\n",
       "      <th>RestECG</th>\n",
       "      <th>MaxHR</th>\n",
       "      <th>ExAng</th>\n",
       "      <th>Oldpeak</th>\n",
       "      <th>Slope</th>\n",
       "      <th>Ca</th>\n",
       "      <th>Thal</th>\n",
       "      <th>AHD</th>\n",
       "    </tr>\n",
       "  </thead>\n",
       "  <tbody>\n",
       "    <tr>\n",
       "      <th>1</th>\n",
       "      <td>63</td>\n",
       "      <td>1</td>\n",
       "      <td>typical</td>\n",
       "      <td>145</td>\n",
       "      <td>233</td>\n",
       "      <td>1</td>\n",
       "      <td>2</td>\n",
       "      <td>150</td>\n",
       "      <td>0</td>\n",
       "      <td>2.3</td>\n",
       "      <td>3</td>\n",
       "      <td>0.0</td>\n",
       "      <td>fixed</td>\n",
       "      <td>No</td>\n",
       "    </tr>\n",
       "    <tr>\n",
       "      <th>2</th>\n",
       "      <td>67</td>\n",
       "      <td>1</td>\n",
       "      <td>asymptomatic</td>\n",
       "      <td>160</td>\n",
       "      <td>286</td>\n",
       "      <td>0</td>\n",
       "      <td>2</td>\n",
       "      <td>108</td>\n",
       "      <td>1</td>\n",
       "      <td>1.5</td>\n",
       "      <td>2</td>\n",
       "      <td>3.0</td>\n",
       "      <td>normal</td>\n",
       "      <td>Yes</td>\n",
       "    </tr>\n",
       "    <tr>\n",
       "      <th>3</th>\n",
       "      <td>67</td>\n",
       "      <td>1</td>\n",
       "      <td>asymptomatic</td>\n",
       "      <td>120</td>\n",
       "      <td>229</td>\n",
       "      <td>0</td>\n",
       "      <td>2</td>\n",
       "      <td>129</td>\n",
       "      <td>1</td>\n",
       "      <td>2.6</td>\n",
       "      <td>2</td>\n",
       "      <td>2.0</td>\n",
       "      <td>reversable</td>\n",
       "      <td>Yes</td>\n",
       "    </tr>\n",
       "  </tbody>\n",
       "</table>\n",
       "</div>"
      ],
      "text/plain": [
       "   Age  Sex     ChestPain  RestBP  Chol  Fbs  RestECG  MaxHR  ExAng  Oldpeak  \\\n",
       "1   63    1       typical     145   233    1        2    150      0      2.3   \n",
       "2   67    1  asymptomatic     160   286    0        2    108      1      1.5   \n",
       "3   67    1  asymptomatic     120   229    0        2    129      1      2.6   \n",
       "\n",
       "   Slope   Ca        Thal  AHD  \n",
       "1      3  0.0       fixed   No  \n",
       "2      2  3.0      normal  Yes  \n",
       "3      2  2.0  reversable  Yes  "
      ]
     },
     "execution_count": 2,
     "metadata": {},
     "output_type": "execute_result"
    }
   ],
   "source": [
    "heart_data = pd.read_csv('./data/Heart.csv', index_col=0)\n",
    "heart_data.head(3)"
   ]
  },
  {
   "cell_type": "code",
   "execution_count": 3,
   "id": "4b625178-4e29-4ac5-b5a5-e1e75a0f3f14",
   "metadata": {},
   "outputs": [
    {
     "name": "stdout",
     "output_type": "stream",
     "text": [
      "<class 'pandas.core.frame.DataFrame'>\n",
      "Int64Index: 303 entries, 1 to 303\n",
      "Data columns (total 14 columns):\n",
      " #   Column     Non-Null Count  Dtype  \n",
      "---  ------     --------------  -----  \n",
      " 0   Age        303 non-null    int64  \n",
      " 1   Sex        303 non-null    int64  \n",
      " 2   ChestPain  303 non-null    object \n",
      " 3   RestBP     303 non-null    int64  \n",
      " 4   Chol       303 non-null    int64  \n",
      " 5   Fbs        303 non-null    int64  \n",
      " 6   RestECG    303 non-null    int64  \n",
      " 7   MaxHR      303 non-null    int64  \n",
      " 8   ExAng      303 non-null    int64  \n",
      " 9   Oldpeak    303 non-null    float64\n",
      " 10  Slope      303 non-null    int64  \n",
      " 11  Ca         299 non-null    float64\n",
      " 12  Thal       301 non-null    object \n",
      " 13  AHD        303 non-null    object \n",
      "dtypes: float64(2), int64(9), object(3)\n",
      "memory usage: 35.5+ KB\n"
     ]
    }
   ],
   "source": [
    "heart_data.info()"
   ]
  },
  {
   "cell_type": "code",
   "execution_count": 4,
   "id": "305dee75-4a6b-44f6-9043-51ec5ef3b535",
   "metadata": {},
   "outputs": [
    {
     "data": {
      "text/plain": [
       "(297, 14)"
      ]
     },
     "execution_count": 4,
     "metadata": {},
     "output_type": "execute_result"
    }
   ],
   "source": [
    "# Null 값 데이터 제거\n",
    "heart_data = heart_data.dropna()\n",
    "heart_data.shape"
   ]
  },
  {
   "cell_type": "code",
   "execution_count": 5,
   "id": "b40eb713-2d9f-448d-b702-8f3c3d0b355a",
   "metadata": {},
   "outputs": [
    {
     "name": "stdout",
     "output_type": "stream",
     "text": [
      "(237, 13) (237,)\n",
      "(60, 13) (60,)\n"
     ]
    }
   ],
   "source": [
    "# X, y갑 분할\n",
    "X = heart_data[heart_data.columns.difference(['AHD'])]\n",
    "y = heart_data['AHD']\n",
    "\n",
    "# 학습, 테스트 데이터 분할\n",
    "X_train, X_test, y_train, y_test = train_test_split(X, y, random_state=123, test_size=0.2)\n",
    "print(X_train.shape, y_train.shape)\n",
    "print(X_test.shape, y_test.shape)"
   ]
  },
  {
   "cell_type": "code",
   "execution_count": 6,
   "id": "da9a23e6-d15a-47b5-9de9-af6862b97084",
   "metadata": {},
   "outputs": [
    {
     "data": {
      "text/html": [
       "<div>\n",
       "<style scoped>\n",
       "    .dataframe tbody tr th:only-of-type {\n",
       "        vertical-align: middle;\n",
       "    }\n",
       "\n",
       "    .dataframe tbody tr th {\n",
       "        vertical-align: top;\n",
       "    }\n",
       "\n",
       "    .dataframe thead th {\n",
       "        text-align: right;\n",
       "    }\n",
       "</style>\n",
       "<table border=\"1\" class=\"dataframe\">\n",
       "  <thead>\n",
       "    <tr style=\"text-align: right;\">\n",
       "      <th></th>\n",
       "      <th>Age</th>\n",
       "      <th>Ca</th>\n",
       "      <th>Chol</th>\n",
       "      <th>ExAng</th>\n",
       "      <th>Fbs</th>\n",
       "      <th>MaxHR</th>\n",
       "      <th>Oldpeak</th>\n",
       "      <th>RestBP</th>\n",
       "      <th>RestECG</th>\n",
       "      <th>Sex</th>\n",
       "      <th>Slope</th>\n",
       "      <th>ChestPain_asymptomatic</th>\n",
       "      <th>ChestPain_nonanginal</th>\n",
       "      <th>ChestPain_nontypical</th>\n",
       "      <th>ChestPain_typical</th>\n",
       "      <th>Thal_fixed</th>\n",
       "      <th>Thal_normal</th>\n",
       "      <th>Thal_reversable</th>\n",
       "    </tr>\n",
       "  </thead>\n",
       "  <tbody>\n",
       "    <tr>\n",
       "      <th>54</th>\n",
       "      <td>44</td>\n",
       "      <td>0.0</td>\n",
       "      <td>219</td>\n",
       "      <td>0</td>\n",
       "      <td>0</td>\n",
       "      <td>188</td>\n",
       "      <td>0.0</td>\n",
       "      <td>130</td>\n",
       "      <td>2</td>\n",
       "      <td>1</td>\n",
       "      <td>1</td>\n",
       "      <td>0</td>\n",
       "      <td>0</td>\n",
       "      <td>1</td>\n",
       "      <td>0</td>\n",
       "      <td>0</td>\n",
       "      <td>1</td>\n",
       "      <td>0</td>\n",
       "    </tr>\n",
       "    <tr>\n",
       "      <th>268</th>\n",
       "      <td>59</td>\n",
       "      <td>1.0</td>\n",
       "      <td>218</td>\n",
       "      <td>0</td>\n",
       "      <td>1</td>\n",
       "      <td>134</td>\n",
       "      <td>2.2</td>\n",
       "      <td>126</td>\n",
       "      <td>0</td>\n",
       "      <td>1</td>\n",
       "      <td>2</td>\n",
       "      <td>0</td>\n",
       "      <td>1</td>\n",
       "      <td>0</td>\n",
       "      <td>0</td>\n",
       "      <td>1</td>\n",
       "      <td>0</td>\n",
       "      <td>0</td>\n",
       "    </tr>\n",
       "    <tr>\n",
       "      <th>97</th>\n",
       "      <td>59</td>\n",
       "      <td>1.0</td>\n",
       "      <td>239</td>\n",
       "      <td>1</td>\n",
       "      <td>0</td>\n",
       "      <td>142</td>\n",
       "      <td>1.2</td>\n",
       "      <td>110</td>\n",
       "      <td>2</td>\n",
       "      <td>1</td>\n",
       "      <td>2</td>\n",
       "      <td>1</td>\n",
       "      <td>0</td>\n",
       "      <td>0</td>\n",
       "      <td>0</td>\n",
       "      <td>0</td>\n",
       "      <td>0</td>\n",
       "      <td>1</td>\n",
       "    </tr>\n",
       "  </tbody>\n",
       "</table>\n",
       "</div>"
      ],
      "text/plain": [
       "     Age   Ca  Chol  ExAng  Fbs  MaxHR  Oldpeak  RestBP  RestECG  Sex  Slope  \\\n",
       "54    44  0.0   219      0    0    188      0.0     130        2    1      1   \n",
       "268   59  1.0   218      0    1    134      2.2     126        0    1      2   \n",
       "97    59  1.0   239      1    0    142      1.2     110        2    1      2   \n",
       "\n",
       "     ChestPain_asymptomatic  ChestPain_nonanginal  ChestPain_nontypical  \\\n",
       "54                        0                     0                     1   \n",
       "268                       0                     1                     0   \n",
       "97                        1                     0                     0   \n",
       "\n",
       "     ChestPain_typical  Thal_fixed  Thal_normal  Thal_reversable  \n",
       "54                   0           0            1                0  \n",
       "268                  0           1            0                0  \n",
       "97                   0           0            0                1  "
      ]
     },
     "execution_count": 6,
     "metadata": {},
     "output_type": "execute_result"
    }
   ],
   "source": [
    "# dummies\n",
    "X_train = pd.get_dummies(X_train)\n",
    "X_test = pd.get_dummies(X_test)\n",
    "\n",
    "X_train.head(3)"
   ]
  },
  {
   "cell_type": "code",
   "execution_count": 7,
   "id": "30319c7a-9bd7-47b9-8553-ffcb5d72bb98",
   "metadata": {},
   "outputs": [
    {
     "data": {
      "text/plain": [
       "54     0\n",
       "268    1\n",
       "97     1\n",
       "266    1\n",
       "236    1\n",
       "      ..\n",
       "108    1\n",
       "84     1\n",
       "18     0\n",
       "234    0\n",
       "100    0\n",
       "Name: AHD, Length: 237, dtype: int64"
      ]
     },
     "execution_count": 7,
     "metadata": {},
     "output_type": "execute_result"
    }
   ],
   "source": [
    "# y데이터 가공\n",
    "y_train = y_train.apply(lambda x: 1 if x.strip() == 'Yes' else 0)\n",
    "y_test = y_test.apply(lambda x: 1 if x.strip() == 'Yes' else 0)\n",
    "y_train"
   ]
  },
  {
   "cell_type": "code",
   "execution_count": 8,
   "id": "27ac3984-71a0-4d79-b574-313b5ebb23a1",
   "metadata": {},
   "outputs": [
    {
     "name": "stdout",
     "output_type": "stream",
     "text": [
      "XGBosst Score:  0.8833333333333333\n",
      "RandomForest Score:  0.8333333333333334\n"
     ]
    }
   ],
   "source": [
    "# XGBoost와 Random Forest의 간단한 비교\n",
    "\n",
    "# XGBoost 학습 및 스코어링\n",
    "xgb = XGBClassifier(random_state=9)\n",
    "xgb.fit(X_train, y_train)\n",
    "xgb_score = xgb.score(X_test, y_test)\n",
    "\n",
    "# Random Forest 학습 및 스코어링\n",
    "rf = RandomForestClassifier(random_state=9)\n",
    "rf.fit(X_train, y_train)\n",
    "rf_score = rf.score(X_test, y_test)\n",
    "\n",
    "print('XGBosst Score: ', xgb_score)\n",
    "print('RandomForest Score: ', rf_score)"
   ]
  },
  {
   "cell_type": "code",
   "execution_count": 28,
   "id": "fb505cce-1a64-43b9-9b9c-ee3a15ba6236",
   "metadata": {},
   "outputs": [],
   "source": [
    "# Confusion Matrix 반환 함수\n",
    "def _get_confusion_mat(model, _X, _y):\n",
    "    _y_pred = model.predict(_X)\n",
    "    confusion_mat = pd.crosstab(_y.values.ravel(), _y_pred, \n",
    "                                rownames=['Actual'], \n",
    "                                colnames=['Predicted'])\n",
    "    return confusion_mat\n",
    "\n",
    "# Confusion Report 반환 함수\n",
    "def _get_confusion_report(model, _X, _y):\n",
    "    _y_pred = model.predict(_X)\n",
    "    return classification_report(_y, _y_pred)\n",
    "\n",
    "# Confusion Matrix를 그려주는 함수\n",
    "def print_confusion_mat(model, _X, _y):\n",
    "    # confusion matrix 산출 \n",
    "    confusion_mat = _get_confusion_mat(model, _X, _y)\n",
    "    \n",
    "    # confusion matrix 시각화\n",
    "    fig = sns.heatmap(confusion_mat, \n",
    "                      annot=True, \n",
    "                      fmt='d', \n",
    "                      cmap=\"YlGnBu\")\n",
    "    fig.set_title('Confusion Matrix')\n",
    "    plt.show()\n",
    "    \n",
    "    # 여러 측정지표 확인\n",
    "    print('\\n[Confusion Report]\\n\\n', _get_confusion_report(model, _X, _y))"
   ]
  },
  {
   "cell_type": "code",
   "execution_count": 29,
   "id": "48b7455b-f3d9-4b4c-a3d2-207c258db711",
   "metadata": {},
   "outputs": [
    {
     "data": {
      "image/png": "[encoded data removed]",
      "text/plain": [
       "<Figure size 432x288 with 2 Axes>"
      ]
     },
     "metadata": {
      "needs_background": "light"
     },
     "output_type": "display_data"
    },
    {
     "name": "stdout",
     "output_type": "stream",
     "text": [
      "\n",
      "[Confusion Report]\n",
      "\n",
      "               precision    recall  f1-score   support\n",
      "\n",
      "           0       0.91      0.88      0.89        33\n",
      "           1       0.86      0.89      0.87        27\n",
      "\n",
      "    accuracy                           0.88        60\n",
      "   macro avg       0.88      0.88      0.88        60\n",
      "weighted avg       0.88      0.88      0.88        60\n",
      "\n"
     ]
    }
   ],
   "source": [
    "# XGBoost Confusion Matrix\n",
    "print_confusion_mat(xgb, X_test, y_test)"
   ]
  },
  {
   "cell_type": "code",
   "execution_count": 30,
   "id": "7b341eac-7266-4b0e-ba99-568b0dc5a4c8",
   "metadata": {},
   "outputs": [
    {
     "data": {
      "image/png": "[encoded data removed]",
      "text/plain": [
       "<Figure size 432x288 with 2 Axes>"
      ]
     },
     "metadata": {
      "needs_background": "light"
     },
     "output_type": "display_data"
    },
    {
     "name": "stdout",
     "output_type": "stream",
     "text": [
      "\n",
      "[Confusion Report]\n",
      "\n",
      "               precision    recall  f1-score   support\n",
      "\n",
      "           0       0.85      0.85      0.85        33\n",
      "           1       0.81      0.81      0.81        27\n",
      "\n",
      "    accuracy                           0.83        60\n",
      "   macro avg       0.83      0.83      0.83        60\n",
      "weighted avg       0.83      0.83      0.83        60\n",
      "\n"
     ]
    }
   ],
   "source": [
    "# Random Forest Confusion Matrix\n",
    "print_confusion_mat(rf, X_test, y_test)"
   ]
  },
  {
   "cell_type": "code",
   "execution_count": 64,
   "id": "237a619c-71ed-4eac-bd7b-bcd6983b0d05",
   "metadata": {},
   "outputs": [
    {
     "name": "stdout",
     "output_type": "stream",
     "text": [
      "Best Parm (ACC):  XGBClassifier(learning_rate=0.5, max_depth=8, n_estimators=120, random_state=9)\n",
      "Best Score (ACC):  0.7890957446808511\n",
      "Time taken:  13.7\n"
     ]
    }
   ],
   "source": [
    "# XGBoost parmeter Geedy Search로 최적화 하기\n",
    "\n",
    "# 실행 시간 측정\n",
    "start = time()\n",
    "\n",
    "# 모델 생성 및 탐색할 파라미터 범주 설정\n",
    "xgb = XGBClassifier(random_state=9)\n",
    "parm = {'learning_rate': [0.1, 0.3, 0.5],    # learning rate 값, 높을수록 과적합이 쉽다.\n",
    "        'n_estimators': [80, 100, 120],      # 생성할 weak learner의 수, learning rate가 낮을 때 n_estimator가 높아야 과적합을 방지한다.\n",
    "        'max_depth': [4, 6, 8],              # 트리의 maximum depth, 보통 3~10의 값을 가지며 높을수록 복잡도 증가와 과적합이 쉬워진다.\n",
    "        'gamma': [0, 0.1, 0.5]               # 리프노드의 추가 분할을 결정할 최소손실 감소 값, 높을수록 과적합이 방지된다.\n",
    "       }\n",
    "\n",
    "# 최적 파라미터 탐색 및 모델 학습\n",
    "xgb_greedyCV_acc = GridSearchCV(xgb, param_grid=parm, cv=5, scoring='accuracy')\n",
    "xgb_greedyCV_acc.fit(X_train, y_train)\n",
    "\n",
    "print('Best Parm (ACC): ', xgb_greedyCV_acc.best_estimator_)\n",
    "print('Best Score (ACC): ', xgb_greedyCV_acc.best_score_)\n",
    "\n",
    "# 실행 시간 측정\n",
    "print('Time taken: ', round(time() - start, 3))"
   ]
  },
  {
   "cell_type": "code",
   "execution_count": 68,
   "id": "31027fee-9249-4099-aafe-6fd9da401e9e",
   "metadata": {},
   "outputs": [
    {
     "data": {
      "image/png": "[encoded data removed]",
      "text/plain": [
       "<Figure size 432x288 with 2 Axes>"
      ]
     },
     "metadata": {
      "needs_background": "light"
     },
     "output_type": "display_data"
    },
    {
     "name": "stdout",
     "output_type": "stream",
     "text": [
      "\n",
      "[Confusion Report]\n",
      "\n",
      "               precision    recall  f1-score   support\n",
      "\n",
      "           0       0.87      0.79      0.83        33\n",
      "           1       0.77      0.85      0.81        27\n",
      "\n",
      "    accuracy                           0.82        60\n",
      "   macro avg       0.82      0.82      0.82        60\n",
      "weighted avg       0.82      0.82      0.82        60\n",
      "\n"
     ]
    }
   ],
   "source": [
    "#  Confusion Matrix\n",
    "print_confusion_mat(xgb_greedyCV_acc, X_test, y_test)"
   ]
  },
  {
   "cell_type": "code",
   "execution_count": 69,
   "id": "5b63d3ea-60e6-4bd6-8bb0-9ffdf34f1040",
   "metadata": {},
   "outputs": [
    {
     "name": "stdout",
     "output_type": "stream",
     "text": [
      "Best Parm (ACC):  XGBClassifier(learning_rate=0.5, max_depth=8, n_estimators=120, random_state=9)\n",
      "Best Score (ACC):  0.7890957446808511\n",
      "Time taken:  3.76\n"
     ]
    }
   ],
   "source": [
    "# XGBoost parmeter Random Seach로 최적화 하기\n",
    "\n",
    "# 실행 시간 측정\n",
    "start = time()\n",
    "\n",
    "# 최적 파라미터 탐색 및 모델 학습\n",
    "xgb = XGBClassifier(random_state=9)\n",
    "xgb_randCV_acc = RandomizedSearchCV(xgb, param_distributions=parm, cv=5, n_iter=20, scoring='accuracy')\n",
    "xgb_randCV_acc.fit(X_train, y_train)\n",
    "\n",
    "print('Best Parm (ACC): ', xgb_greedyCV_acc.best_estimator_)\n",
    "print('Best Score (ACC): ', xgb_greedyCV_acc.best_score_)\n",
    "\n",
    "# 실행 시간 측정\n",
    "print('Time taken: ', round(time() - start, 3))"
   ]
  },
  {
   "cell_type": "code",
   "execution_count": 70,
   "id": "05797926-a291-4cf1-9d0e-f986c272588d",
   "metadata": {},
   "outputs": [
    {
     "data": {
      "image/png": "[encoded data removed]",
      "text/plain": [
       "<Figure size 432x288 with 2 Axes>"
      ]
     },
     "metadata": {
      "needs_background": "light"
     },
     "output_type": "display_data"
    },
    {
     "name": "stdout",
     "output_type": "stream",
     "text": [
      "\n",
      "[Confusion Report]\n",
      "\n",
      "               precision    recall  f1-score   support\n",
      "\n",
      "           0       0.84      0.79      0.81        33\n",
      "           1       0.76      0.81      0.79        27\n",
      "\n",
      "    accuracy                           0.80        60\n",
      "   macro avg       0.80      0.80      0.80        60\n",
      "weighted avg       0.80      0.80      0.80        60\n",
      "\n"
     ]
    }
   ],
   "source": [
    "# Random Forest Confusion Matrix\n",
    "print_confusion_mat(xgb_randCV_acc, X_test, y_test)"
   ]
  },
  {
   "cell_type": "markdown",
   "id": "930a27f5-a68a-42c8-accb-207691fb8799",
   "metadata": {},
   "source": [
    "<br/>\n",
    "\n",
    "**결론)**   \n",
    "\n",
    "Random Search는 Greedy Search보다 빠르고 좋은 결과를 가져오는 경우도 많다. 가급적 Random Search가 좋다. 또한 파라미터의 최적화가 언제나 좋은 결과를 가져오는 것은 아니다.\n",
    "\n",
    "<br/>"
   ]
  },
  {
   "cell_type": "markdown",
   "id": "968fe49a-a49e-4ffd-a27f-e643214ac4fd",
   "metadata": {},
   "source": [
    "----"
   ]
  },
  {
   "cell_type": "markdown",
   "id": "5b609fe6-9e34-43dd-bc38-7d6fefae3977",
   "metadata": {},
   "source": [
    "**TIP)**   \n",
    "*XGBoost의 기본 원리*"
   ]
  },
  {
   "cell_type": "markdown",
   "id": "0a0f33cc-b75c-4077-9e87-dc95405ac093",
   "metadata": {},
   "source": [
    "XGBoost는 Boosting 기법을 사용하고 Boosting 기법은 약한 분류기를 조합하여 보다 높은 정확도를 이끌어내는 기법이다. 예를 들어 어떤 학습기 $M$에 대하여 $Y$를 예측할 확률은 $Y = M_{x_{1}} + error_{(1)}$로 표현 할 수 있는데, error를 좀 더 상세하게 분류 할 수 있는 $G$모델이 있다면 $error_{(1)}$은 $error_{(1)} = G_{x_{2}} + error_{(2)}$로 표현 할 수 있다. 마찬가지로 $error_{(2)}$는 임의의 모델 $H$에 의해 $error_{(2)} = H_{x_{3}} + error_{(3)}$로 표현된다."
   ]
  },
  {
   "cell_type": "markdown",
   "id": "c9cfba8d-5243-4648-b4e7-948ad7127b05",
   "metadata": {},
   "source": [
    "결론적으로, $Y$는 아래의 식으로 표현 될 수 있다.  \n",
    "$Y = M_{x_{1}} + G_{x_{2}} + H_{x_{3}} + error_{(3)}$ $(단, error_{(1)} > error_{(2)} > error_{(3)})$"
   ]
  },
  {
   "cell_type": "markdown",
   "id": "8ae5b2c3-5f54-407d-9aa9-b3ace699bf4c",
   "metadata": {},
   "source": [
    "이는, $M$ 하나의 모델만을 사용할 때 보다는 높은 결과를 얻을 수 있겠지만 같은 비중으로 모델 $M$, $G$, $H$를 처리하게 되면 서로 모델이 간섭하여 좋은 결과를 얻기 힘드므로, 각 모델의 가중치를 반영하고 그 결과는 다음과 같다.   \n",
    "$Y = W_{1}M_{x_{1}} + W_{2}G_{x_{2}} + W_{3}H_{x_{3}} + error_{(3)}$   "
   ]
  },
  {
   "cell_type": "markdown",
   "id": "cbdd716c-f1ac-49ea-bbe1-e1a59e60d6e8",
   "metadata": {},
   "source": [
    "----"
   ]
  }
 ],
 "metadata": {
  "kernelspec": {
   "display_name": "Python 3 (ipykernel)",
   "language": "python",
   "name": "python3"
  },
  "language_info": {
   "codemirror_mode": {
    "name": "ipython",
    "version": 3
   },
   "file_extension": ".py",
   "mimetype": "text/x-python",
   "name": "python",
   "nbconvert_exporter": "python",
   "pygments_lexer": "ipython3",
   "version": "3.7.4"
  }
 },
 "nbformat": 4,
 "nbformat_minor": 5
}
