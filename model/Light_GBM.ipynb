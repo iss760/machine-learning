{
 "cells": [
  {
   "cell_type": "markdown",
   "id": "3aab3bc2-fd42-440e-b433-407e0d6cd8c2",
   "metadata": {},
   "source": [
    "# Light GBM"
   ]
  },
  {
   "cell_type": "markdown",
   "id": "8c31e962-eba5-49b4-9abd-b1e6c71006e5",
   "metadata": {},
   "source": [
    "Light GBM은 Tree 기반의 Gradient Boosting 알고리즘 모델이다. Light GBM은 수평적으로 확장하는 leaf-wise 방식으로 기존 Tree의 level-wise보다 더 많은 loss를 줄일 수 있다. Ligth GBM은 큰 사이즈의 데이터를 적은 메모리 환경에서도 빠르게 처리할 수 있다. 또한 GPU에서의 학습 환경도 지원한다. 하지만, 적은 양의 데이터에서 과적합의 위험도가 높으므로 일정 이상(10,000 Row이상)의 데이터가 필요하다. "
   ]
  },
  {
   "cell_type": "markdown",
   "id": "01484d4d-1ede-46e3-8b1e-7308cd250a34",
   "metadata": {},
   "source": [
    "<img src='./image/gbm_diff.png'>"
   ]
  },
  {
   "cell_type": "code",
   "execution_count": null,
   "id": "1c164297-566e-4117-b907-bacbfc6129f1",
   "metadata": {},
   "outputs": [],
   "source": []
  }
 ],
 "metadata": {
  "kernelspec": {
   "display_name": "Python 3 (ipykernel)",
   "language": "python",
   "name": "python3"
  },
  "language_info": {
   "codemirror_mode": {
    "name": "ipython",
    "version": 3
   },
   "file_extension": ".py",
   "mimetype": "text/x-python",
   "name": "python",
   "nbconvert_exporter": "python",
   "pygments_lexer": "ipython3",
   "version": "3.7.4"
  }
 },
 "nbformat": 4,
 "nbformat_minor": 5
}
