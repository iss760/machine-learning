{
 "cells": [
  {
   "cell_type": "markdown",
   "id": "e1982901-ce93-43f5-ae8b-92b10c118a5a",
   "metadata": {},
   "source": [
    "# SVM (Support Vector Machine)"
   ]
  },
  {
   "cell_type": "markdown",
   "id": "f587034d-df46-4cf3-ac32-08441f7296a3",
   "metadata": {},
   "source": [
    "SVM은 딥러닝 이전 뛰어난 성능으로 많은 주목을 받았던 모델로써 분류, 회귀 모두에서 활용가능하다. 주어진 데이터 집합을 바탕으로 하여 새로운 데이터가 어느 카테고리에 속할지에 대해 비확률적 이진 선형 분류 모델을 만든다."
   ]
  },
  {
   "cell_type": "code",
   "execution_count": 141,
   "id": "0fbe032b-a19d-42f8-bc0e-5577866d6de7",
   "metadata": {},
   "outputs": [],
   "source": [
    "import numpy as np\n",
    "import pandas as pd\n",
    "import matplotlib.pyplot as plt\n",
    "import seaborn as sns\n",
    "import sklearn\n",
    "from sklearn.svm import SVC, NuSVC, LinearSVC, SVR\n",
    "from sklearn.model_selection import train_test_split, cross_val_score\n",
    "from matplotlib.colors import ListedColormap\n",
    "\n",
    "%matplotlib inline"
   ]
  },
  {
   "cell_type": "markdown",
   "id": "c0836b36-f328-4ffd-b536-ff88e8406e7b",
   "metadata": {},
   "source": [
    "----"
   ]
  },
  {
   "cell_type": "markdown",
   "id": "c5cf4189-7ab5-441b-845e-dfec49fb0200",
   "metadata": {},
   "source": [
    "**TIP)**    \n",
    "*Margin*    "
   ]
  },
  {
   "cell_type": "markdown",
   "id": "63dea5bb-913c-401f-aae6-23daef040c53",
   "metadata": {},
   "source": [
    "참고자료: https://ratsgo.github.io/machine%20learning/2017/05/23/SVM/"
   ]
  },
  {
   "cell_type": "markdown",
   "id": "89fa66ad-3ec7-44bb-aa98-ecc4de3485f5",
   "metadata": {},
   "source": [
    "아래 그림에서 $B_{1}$은 $B_{2}$보다 두 범주를 여유롭게 가르고 있으며, 이때 $b_{11}$을 plus-plane, $b_{12}$를 minus-plane이라고 하며 $b_{11}$과 $b_{12}$ 사이의 거리를 margin이라고 한다. SVM은 이 margin을 최대화 하는 분류 경계면을 찾는 기법이다."
   ]
  },
  {
   "cell_type": "markdown",
   "id": "c7f44194-3721-4e18-a992-01bca2d783b6",
   "metadata": {},
   "source": [
    "<img src='./image/margin.png'>"
   ]
  },
  {
   "cell_type": "markdown",
   "id": "3d87c2ea-30d3-415f-a902-060340715b2c",
   "metadata": {},
   "source": [
    "찾아야 하는 경계면을 $w^{T}x + b = 0$이라고 할때 $w$는 경계면과 수직인 법선벡터가 되며 plus-plane은 $w^{T}x + b = 1$, minus-plane은 $w^{T}x + b = -1$이 된다.    \n",
    "    \n",
    "plus-plane 위에 있는 벡터$x^{+}$는 $x^{-}$와 $x^{+} = x^{-} + \\lambda w$과 같은 관계를 가진다. 위 관계를 통해 $\\lambda$를 구하면 다음과 같다.    \n",
    "> $w^{T}x^{+} + b = 1$    \n",
    "$w^{T}(x^{-} + \\lambda w) + b = 1$    \n",
    "$W^{T}x^{-} + b + \\lambda w^{T}w = 1$    \n",
    "$-1 + \\lambda w^{T}w = 1$    \n",
    "$\\lambda = \\frac{2}{w^{T}w}$    \n",
    "    \n",
    "$\\lambda$를 구했으므로 margin을 $w$로 정리할 수가 있다.    \n",
    ">$Margin = distance(x^{+}, x^{-})$    \n",
    "&nbsp;    $= \\parallel x^{+} - x^{-}  \\parallel_{2}$    \n",
    "&nbsp;    $= \\parallel x^{-} + \\lambda w - x^{-}  \\parallel_{2}$   \n",
    "&nbsp;    $= \\parallel \\lambda w  \\parallel_{2}$   \n",
    "&nbsp;    $= \\lambda \\sqrt{w^{T}w}$   \n",
    "&nbsp;    $= \\frac{2}{w^{T}w} \\sqrt{w^{T}w}$   \n",
    "&nbsp;    $= \\frac{2}{\\sqrt{w^{T}w}}$    \n",
    "&nbsp;    $= \\frac{2}{\\parallel w \\parallel_{2}}$    "
   ]
  },
  {
   "cell_type": "markdown",
   "id": "96c61ae3-1633-4e1d-b851-32160f2939f9",
   "metadata": {},
   "source": [
    "SVM의 목적은 margin을 최대화 하는 경계면을 찾는 것이므로 $max (\\frac{2}{\\parallel w \\parallel_{2}})$의 문제를 푸는것으로 귀결된다. 계산의 편의를 위해 margin의 절반을 제곱한 것에 역수를 취한 뒤 그 절반을 최소화 하는 문제로 바꾼 뒤에 계산한다. (문제의 본질은 동일하다) 이때, plus-plane보다 위에 있는 관측치들은 $y=1$이고 $w^{T}x + b$가 1보다 크다. 반대로 minus-plane보다 아래에 있는 관측치들은 $y=-1$이고 $w^{T}x + b$가 -1보다 작다. 이 두 조건으로 인해 제약조건은 다음과 같다.      \n",
    "> $max (\\frac{2}{\\parallel w \\parallel_{2}}$) -> $min (\\frac{\\parallel w \\parallel_{2}^{2}}{2}$)    \n",
    "\n",
    "> 제약식:  $y_{i}(w^{T}x_{i}+b) \\geq 1$    "
   ]
  },
  {
   "cell_type": "markdown",
   "id": "426d5ed3-d628-4ede-85cd-2495ae41b827",
   "metadata": {},
   "source": [
    "라그랑지안 승수법(Lagrange multiple method)은 제약식에 형식적인 라그랑지안 승수를 곱항 항을 최적화 하려는 목적식에 더하여, 제약된 문제를 제약이 없는 문제로 바꾸는 기법이다. 이 라그랑지안 승수법을 이용하여 정의된 목적식과 제약식을 라그랑지안 문제로 식을 다시 쓰면 다음과 같다. 이때, 원래 제약식의 범위가 0 이상이므로 $L_{p}$의 제약은 아래와 같다.      \n",
    "> $min(L_{p}(w, b, \\alpha_{i})) = \\frac{2}{\\parallel w \\parallel_{2}} - \\sum^{n}_{i=1}\\alpha_{i}(y_{i}(w^{T}x_{i}+b) - 1)$    \n",
    "\n",
    "> 제약식: $\\alpha_{i} \\geq 0, (i=1, 2, ..., n$)"
   ]
  },
  {
   "cell_type": "markdown",
   "id": "804faf0e-8d98-474e-8219-89ba38803391",
   "metadata": {},
   "source": [
    "$L_{p}$를 미지수로 각각 편미분한 식이 0이 되는 지점에서 최소값을 가지므로 아래의 문제를 풀면된다.   \n",
    "> $\\frac{\\partial L(w, b, \\alpha_{i})}{\\partial w} = 0$  ->  $w = \\sum^{n}_{i=1}\\alpha_{i} y_{i} x_{i}$ \n",
    "    \n",
    "> $\\frac{\\partial L(w, b, \\alpha_{i})}{\\partial b} = 0$  ->  $\\sum^{n}_{i=1}\\alpha_{i} y_{i} = 0$"
   ]
  },
  {
   "cell_type": "markdown",
   "id": "63d7ea3b-3210-4dc4-8ee9-ee0f4730b895",
   "metadata": {},
   "source": [
    "첫번째 항인 $\\frac{2}{\\parallel w \\parallel_{2}}$을 정리하면 다음과 같다.   \n",
    "> $\\frac{2}{\\parallel w \\parallel_{2}}$ = $\\frac{1}{2}w^{T}w$   \n",
    "&nbsp;&nbsp;&nbsp;  = $\\frac{1}{2}w^{T}\\sum^{n}_{j=1}\\alpha_{j}y_{j}x_{j}$    \n",
    "&nbsp;&nbsp;&nbsp;  = $\\frac{1}{2}\\sum^{n}_{j=1}\\alpha_{j}y_{j}(w^{T}x_{j})$    \n",
    "&nbsp;&nbsp;&nbsp;  = $\\frac{1}{2}\\sum^{n}_{j=1}\\alpha_{j}y_{j}(\\sum^{n}_{i=1}\\alpha_{i}y_{i}x^{T}_{i}x_{j})$   \n",
    "&nbsp;&nbsp;&nbsp;  = $\\frac{1}\n",
    "{2}\\sum^{n}_{i=1}\\sum^{n}_{j=1}\\alpha_{i}\\alpha_{j}y_{i}y_{j}x^{T}_{i}x_{j}$   "
   ]
  },
  {
   "cell_type": "markdown",
   "id": "ff565749-f7b1-494a-898c-e3b788990ced",
   "metadata": {},
   "source": [
    "두번째 항인 $- \\sum^{n}_{i=1}\\alpha_{i}(y_{i}(w^{T}x_{i}+b) - 1)$을 정리하면 다음과 같다.   \n",
    "> $- \\sum^{n}_{i=1}\\alpha_{i}(y_{i}(w^{T}x_{i}+b) - 1)$ = $-\\sum^{n}_{i=1}\\alpha_{i}y_{i}(w^{T}x_{i} + b) + \\sum^{n}_{i=1}\\alpha_{i}$    \n",
    "&nbsp;&nbsp;             = $-\\sum^{n}_{i=1}\\alpha_{i}y_{i}w^{T}x_{i} - b\\sum^{n}_{i=1}\\alpha_{i}y_{i} + \\sum^{n}_{i=1}\\alpha_{i}$    \n",
    "&nbsp;&nbsp;             = $-\\sum^{n}_{i=1}\\sum^{n}_{j=1}\\alpha_{i}\\alpha_{j}y_{i}y_{j}x^{T}_{i}x_{j} + \\sum^{n}_{i=1}\\alpha_{i}$"
   ]
  },
  {
   "cell_type": "markdown",
   "id": "2254060f-c884-468a-8aa8-f7ab29eec13d",
   "metadata": {},
   "source": [
    "첫번째 항과 두번쨰 항의 정리 결과를 토대로 $L_{p}$를 정리하면 되는데, 식을 변형 하는 과정에서 $\\alpha$의 최고차항의 계수가 음수이므로 최소값을 찾는 문제가 최대값을 찾는 문제로 바뀌었고 변형된 $L_{D}$는 다음과 같다. 이떄, $L_{D}$의 제약식은 아래와 같다.    \n",
    "> $max(L_{D}(\\alpha_{i})) = \\sum^{n}_{i=1}\\alpha_{i} - \\frac{1}{2}\\sum^{n}_{i=1}\\sum^{n}_{j=1}\\alpha_{i}\\alpha_{j}y_{i}y_{j}x^{T}_{i}x_{j}$    \n",
    "\n",
    "> 제약식: $\\sum^{n}_{i=1}\\alpha_{i}y_{i} = 0, (\\alpha_{i} \\geq 0,  i = 1, 2, ..., n$)"
   ]
  },
  {
   "cell_type": "markdown",
   "id": "d1e393cb-23aa-4ada-8dcc-266d5f0170c1",
   "metadata": {},
   "source": [
    "찾고자 하는 최대된 분류경계면은 $w^{T}x + b$이므로 $w$와 $b$를 알면 SVM의 해를 구할 수 있다. $w = \\sum^{n}_{i=1}\\alpha_{i} y_{i} x_{i}$이고 $x_{i}$와 $y_{i}$는 우리가 가지고 있는 학습 데이터이므로 $\\alpha$의 값들만 알면 $w$를 찾을 수 있다. 그런데 여기서 $\\alpha_{i}$가 0인 관측치들은 분류경계면 형성에 아무런 영향을 끼치지 못한다. 다시 말해, $i$번째 관측치에 대응하는 라그랑지안 승수 $\\alpha_{i}$가 0보다 커야 margin결정에 유의미 하다는 이야기이다.    \n",
    "아울러 KKT(Karush-Kuhn-Tucker) 조건에서 함수가 최적값을 갖는다면, $\\alpha_{i}$ 또는 $y_{i}(w^{T}x_{i} + b) - 1$ 두 개 가운데 하나는 반드시 0이므로 $\\alpha_{i}$가 0이 아니라면 $y_{i}(w^{T}x_{i} + b) - 1$는 반드시 0이 되어야 한다. 따라서 $x_{i}$는 plus-plane, minus-plane 위에 있는 벡터가 된다.    "
   ]
  },
  {
   "cell_type": "markdown",
   "id": "dcc622e7-f600-4cab-8b1b-e9a60feddd51",
   "metadata": {},
   "source": [
    "<img src='./image/support_vectors.png' width=400 height=400>"
   ]
  },
  {
   "cell_type": "markdown",
   "id": "e9582055-c0fe-4168-9dcc-a3629be04006",
   "metadata": {
    "tags": []
   },
   "source": [
    "이렇게 margin의 결정에 영향을 끼치는 관측치들을 support vectors라고 한다.    \n",
    "한편, $b$는 이미 구한 $w$와 학습데이터 $y_{i}(w^{T}x_{i} + b - 1) = 0$ 식을 활용하여 바로 구할 수가 있다. 새로운 데이터가 들어왔을 때, 해당 관측치를 $y_{i}(w^{T}x_{i} + b - 1)$에 넣어서 0보다 크면 1, 0보다 작으면 -1 범주로 예측하면 된다."
   ]
  },
  {
   "cell_type": "markdown",
   "id": "40cc18d3-46c5-4905-bf2d-344a0705a343",
   "metadata": {},
   "source": [
    "----"
   ]
  },
  {
   "cell_type": "markdown",
   "id": "05d983ce-02b8-40e0-9ba6-c98d2864866f",
   "metadata": {
    "tags": []
   },
   "source": [
    "## 1. Create Datasets"
   ]
  },
  {
   "cell_type": "markdown",
   "id": "ea980a26-54c3-463a-8c93-1742e0d243ed",
   "metadata": {},
   "source": [
    "문제를 직관적으로 바라보기 위하여 임의의 데이터를 생성하여 SVM을 학습시키다."
   ]
  },
  {
   "cell_type": "code",
   "execution_count": 2,
   "id": "13eb5571-17a4-4f28-8fad-b8bbbd2a29ae",
   "metadata": {},
   "outputs": [
    {
     "data": {
      "image/png": "[encoded data removed]",
      "text/plain": [
       "<Figure size 432x288 with 1 Axes>"
      ]
     },
     "metadata": {
      "needs_background": "light"
     },
     "output_type": "display_data"
    }
   ],
   "source": [
    "# 임의의 Data Sets 생성\n",
    "np.random.seed(1)\n",
    "X = np.random.randn(20, 2)\n",
    "y = np.repeat([-1, 1], 10)\n",
    "X[y==1] = X[y==1]  + 1\n",
    "plt.scatter(X[:, 0], X[:, 1], s=30, c=y, cmap='copper')\n",
    "plt.xlabel('X0')\n",
    "plt.ylabel('X1')\n",
    "plt.show()"
   ]
  },
  {
   "cell_type": "markdown",
   "id": "8a954e32-8897-481b-88f7-5bc751979655",
   "metadata": {},
   "source": [
    "## 2. Draw SVM with Sample Data"
   ]
  },
  {
   "cell_type": "code",
   "execution_count": 186,
   "id": "c87dd699-a9a7-43dd-9c81-c8d50794731d",
   "metadata": {},
   "outputs": [],
   "source": [
    "# SVM 시각화 함수\n",
    "def plot_classifier(classifier, X, y, h=0.02, buffer=0.5):   # should be 2D feature space \n",
    "\n",
    "    # initialize custom marker and color-map : 쵀대 7개 class 까지 지원 \n",
    "    markers = ('o', '^', 's', 'x', 'v', 'D', '*')\n",
    "    colors = ('gray', 'green', 'yellow', 'cyan', 'magenta', 'blue', 'red')\n",
    "    cmap = ListedColormap(colors[:len(np.unique(y))])\n",
    "\n",
    "    #fig, ax1 = plt.subplots(nrows=1, ncols=1, figsize=(6, 5))\n",
    "    plt.figure(figsize=(6, 4))\n",
    "    \n",
    "    # create a mesh to plot in\n",
    "    x_min, x_max = X[:, 0].min() - buffer, X[:, 0].max() + buffer\n",
    "    y_min, y_max = X[:, 1].min() - buffer, X[:, 1].max() + buffer\n",
    "    xx, yy = np.meshgrid(np.arange(x_min, x_max, h), np.arange(y_min, y_max, h))\n",
    "    \n",
    "    # Plot the decision boundary.\n",
    "    Z = classifier.predict(np.c_[xx.ravel(), yy.ravel()])\n",
    "    Z = Z.reshape(xx.shape) # Put the result into a color plot\n",
    "    plt.contourf(xx, yy, Z, alpha=0.4, cmap=cmap)\n",
    "    plt.xlim(xx.min(), xx.max())\n",
    "    plt.ylim(yy.min(), yy.max())\n",
    "\n",
    "    # Plot sample points\n",
    "    for idx, cls in enumerate(np.unique(y)):\n",
    "        plt.scatter(x=X[y == cls, 0], y=X[y == cls, 1], alpha=0.9, s=60,\n",
    "                    marker=markers[idx], label=cls)\n",
    "        \n",
    "    plt.legend(loc='upper right', frameon=True, framealpha=0.3, borderaxespad=0.9)\n",
    "    # additionally, support vectors have a white hole in a marker  \n",
    "    if isinstance(classifier, (SVC, SVC)):\n",
    "        sv = classifier.support_vectors_\n",
    "        plt.scatter(sv[:,0], sv[:,1], c='w', marker='.', s=40)\n",
    "        plt.xlim(x_min, x_max)\n",
    "        plt.ylim(y_min, y_max) \n",
    "        \n",
    "#         # plot the parallels to the separating hyperplane that pass through the support vectors\n",
    "#         w = classifier.coef_[0]\n",
    "#         a = -w[0] / w[1]\n",
    "#         xx1 = np.linspace(-5, 5)\n",
    "#         yy1 = a * xx1 - (classifier.intercept_[0]) / w[1]\n",
    "        \n",
    "#         margin = 1 / np.sqrt(np.sum(classifier.coef_ ** 2))\n",
    "#         yy_down = yy1 + a * margin\n",
    "#         yy_up = yy1 - a * margin\n",
    "        \n",
    "#         # plot the line, the points, and the nearest vectors to the plane\n",
    "#         plt.plot(xx1, yy_down, 'k--')\n",
    "#         plt.plot(xx1, yy_up, 'k--')\n",
    "#         plt.xlim(x_min, x_max)\n",
    "#         plt.ylim(y_min, y_max)\n",
    "                \n",
    "        print('Number of Support Vectors (Class, SV) : ', list(zip(np.unique(y), classifier.n_support_)))\n",
    "        print('indices of vectors: ', classifier.support_)\n",
    "        g = map(lambda x: [round(x[0], 2), round(x[1], 2)], classifier.support_vectors_)\n",
    "        print('support vectors:')\n",
    "        for v in sorted(list(g)):\n",
    "            print(v)\n",
    "        print()"
   ]
  },
  {
   "cell_type": "code",
   "execution_count": 187,
   "id": "bad653bc-258e-4019-b950-463efc1215d2",
   "metadata": {},
   "outputs": [
    {
     "name": "stdout",
     "output_type": "stream",
     "text": [
      "Number of Support Vectors (Class, SV) :  [(-1, 3), (1, 3)]\n",
      "indices of vectors:  [ 0  4  9 13 15 16]\n",
      "support vectors:\n",
      "[0.04, 0.58]\n",
      "[0.31, 0.15]\n",
      "[0.31, 0.6]\n",
      "[0.32, -0.25]\n",
      "[0.88, 0.06]\n",
      "[1.62, -0.61]\n",
      "\n"
     ]
    },
    {
     "data": {
      "image/png": "[encoded data removed]",
      "text/plain": [
       "<Figure size 432x288 with 1 Axes>"
      ]
     },
     "metadata": {
      "needs_background": "light"
     },
     "output_type": "display_data"
    }
   ],
   "source": [
    "# C : Penalty for the error. C higher -> smaller margin, less support vectors\n",
    "svc = SVC(C= 10, kernel='linear', probability=True)    # C -> 10으로 세팅\n",
    "svc.fit(X, y)\n",
    "\n",
    "plot_classifier(svc, X, y)\n",
    "plt.xlabel('X0')\n",
    "plt.ylabel('X1')\n",
    "plt.show()"
   ]
  },
  {
   "cell_type": "code",
   "execution_count": 140,
   "id": "6b757373-3dc7-44e5-88fb-8cd79cbdb975",
   "metadata": {},
   "outputs": [
    {
     "name": "stdout",
     "output_type": "stream",
     "text": [
      "Number of Support Vectors (Class, SV) :  [(-1, 7), (1, 8)]\n",
      "indices of vectors:  [ 0  3  4  6  7  8  9 11 12 13 14 15 16 17 18]\n",
      "support vectors:\n",
      "[-0.32, -0.38]\n",
      "[-0.17, -0.88]\n",
      "[-0.12, 1.23]\n",
      "[0.04, 0.58]\n",
      "[0.31, 0.15]\n",
      "[0.31, 0.6]\n",
      "[0.32, -0.25]\n",
      "[0.33, 0.99]\n",
      "[0.73, 1.53]\n",
      "[0.88, 0.06]\n",
      "[1.13, -1.1]\n",
      "[1.62, -0.61]\n",
      "[1.74, -0.76]\n",
      "[1.9, 0.32]\n",
      "[1.9, 1.5]\n",
      "\n"
     ]
    },
    {
     "data": {
      "image/png": "[encoded data removed]",
      "text/plain": [
       "<Figure size 432x288 with 1 Axes>"
      ]
     },
     "metadata": {
      "needs_background": "light"
     },
     "output_type": "display_data"
    }
   ],
   "source": [
    "# C : Penalty for the error. C higher -> smaller margin, less support vectors\n",
    "svc = SVC(C= .1, kernel='linear', probability=True)    # C -> 0.1로 세팅\n",
    "svc.fit(X, y)\n",
    "\n",
    "plot_classifier(svc, X, y)\n",
    "plt.xlabel('X0')\n",
    "plt.ylabel('X1')\n",
    "plt.show()"
   ]
  },
  {
   "cell_type": "markdown",
   "id": "3cef600a-b148-4042-b5ad-cd8f3ad4a3cc",
   "metadata": {},
   "source": [
    "Cost(Panalty)를 10에서 0.1로 낮출 경우 margin이 커지며 더 많은 misclassification을 허용하고, support vector의 수가 늘어난다. 이는 곧 모델이 조금 더 소프트해졌다는 것을 뜻한다."
   ]
  },
  {
   "cell_type": "code",
   "execution_count": 189,
   "id": "b261c869-1c0b-4aea-a8e1-2089a5389e0a",
   "metadata": {},
   "outputs": [
    {
     "name": "stdout",
     "output_type": "stream",
     "text": [
      "c: 100.000000 \t 0.90\n",
      "c: 50.000000 \t 0.85\n",
      "c: 10.000000 \t 0.90\n",
      "c: 5.000000 \t 0.90\n",
      "c: 1.000000 \t 0.85\n",
      "c: 0.500000 \t 0.80\n",
      "c: 0.010000 \t 0.40\n",
      "c: 0.005000 \t 0.40\n",
      "c: 0.001000 \t 0.40\n",
      "c: 0.000500 \t 0.40\n",
      "c: 0.000100 \t 0.40\n"
     ]
    }
   ],
   "source": [
    "# C의 변화에 따라 변경되는 모델의 정확도\n",
    "# 이 경우에는 Data Set이 임의로 생성된 데이터이며 사이즈가 작고 차원이 낮아 신뢰성은 없다.\n",
    "range_c = [100, 50, 10, 5, 1, 0.5, 0.01, 0.005, 0.001, 0.0005, 0.0001]\n",
    "scores = []\n",
    "for c in range_c:\n",
    "    svc = SVC(C=c, kernel='linear', probability=False)\n",
    "    score = cross_val_score(svc, X, y, cv=4, scoring='accuracy')\n",
    "    scores.append(np.mean(score))\n",
    "for c, s in zip(range_c, scores):\n",
    "    print('c: %5f \\t %.2f' %(c, s))"
   ]
  },
  {
   "cell_type": "code",
   "execution_count": null,
   "id": "4ce6a313-5f86-4e22-8fc3-b9e9c1f0aaa3",
   "metadata": {},
   "outputs": [],
   "source": []
  }
 ],
 "metadata": {
  "kernelspec": {
   "display_name": "Python 3 (ipykernel)",
   "language": "python",
   "name": "python3"
  },
  "language_info": {
   "codemirror_mode": {
    "name": "ipython",
    "version": 3
   },
   "file_extension": ".py",
   "mimetype": "text/x-python",
   "name": "python",
   "nbconvert_exporter": "python",
   "pygments_lexer": "ipython3",
   "version": "3.7.4"
  }
 },
 "nbformat": 4,
 "nbformat_minor": 5
}
