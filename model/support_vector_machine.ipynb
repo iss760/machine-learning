{
 "cells": [
  {
   "cell_type": "markdown",
   "id": "e1982901-ce93-43f5-ae8b-92b10c118a5a",
   "metadata": {},
   "source": [
    "# SVM (Support Vector Machine)"
   ]
  },
  {
   "cell_type": "markdown",
   "id": "f587034d-df46-4cf3-ac32-08441f7296a3",
   "metadata": {},
   "source": [
    "SVM은 딥러닝 이전 뛰어난 성능으로 많은 주목을 받았던 모델로써 분류, 회귀 모두에서 활용가능하다. 주어진 데이터 집합을 바탕으로 하여 새로운 데이터가 어느 카테고리에 속할지에 대해 비확률적 이진 선형 분류 모델을 만든다."
   ]
  },
  {
   "cell_type": "code",
   "execution_count": 5,
   "id": "0fbe032b-a19d-42f8-bc0e-5577866d6de7",
   "metadata": {},
   "outputs": [],
   "source": [
    "import numpy as np\n",
    "import pandas as pd\n",
    "import matplotlib.pyplot as plt\n",
    "import seaborn as sns\n",
    "import sklearn\n",
    "from sklearn.svm import SVC\n",
    "from sklearn.model_selection import train_test_split, cross_val_score, GridSearchCV, RandomizedSearchCV\n",
    "from sklearn.metrics import classification_report\n",
    "from matplotlib.colors import ListedColormap\n",
    "\n",
    "%matplotlib inline"
   ]
  },
  {
   "cell_type": "markdown",
   "id": "c0836b36-f328-4ffd-b536-ff88e8406e7b",
   "metadata": {},
   "source": [
    "----"
   ]
  },
  {
   "cell_type": "markdown",
   "id": "c5cf4189-7ab5-441b-845e-dfec49fb0200",
   "metadata": {},
   "source": [
    "**TIP)**    \n",
    "*Margin*    "
   ]
  },
  {
   "cell_type": "markdown",
   "id": "63dea5bb-913c-401f-aae6-23daef040c53",
   "metadata": {},
   "source": [
    "참고자료: https://ratsgo.github.io/machine%20learning/2017/05/23/SVM/"
   ]
  },
  {
   "cell_type": "markdown",
   "id": "89fa66ad-3ec7-44bb-aa98-ecc4de3485f5",
   "metadata": {},
   "source": [
    "아래 그림에서 $B_{1}$은 $B_{2}$보다 두 범주를 여유롭게 가르고 있으며, 이때 $b_{11}$을 plus-plane, $b_{12}$를 minus-plane이라고 하며 $b_{11}$과 $b_{12}$ 사이의 거리를 margin이라고 한다. SVM은 이 margin을 최대화 하는 분류 경계면을 찾는 기법이다."
   ]
  },
  {
   "cell_type": "markdown",
   "id": "c7f44194-3721-4e18-a992-01bca2d783b6",
   "metadata": {},
   "source": [
    "<img src='./image/margin.png'>"
   ]
  },
  {
   "cell_type": "markdown",
   "id": "3d87c2ea-30d3-415f-a902-060340715b2c",
   "metadata": {},
   "source": [
    "찾아야 하는 경계면을 $w^{T}x + b = 0$이라고 할때 $w$는 경계면과 수직인 법선벡터가 되며 plus-plane은 $w^{T}x + b = 1$, minus-plane은 $w^{T}x + b = -1$이 된다.    \n",
    "    \n",
    "plus-plane 위에 있는 벡터$x^{+}$는 $x^{-}$와 $x^{+} = x^{-} + \\lambda w$과 같은 관계를 가진다. 위 관계를 통해 $\\lambda$를 구하면 다음과 같다.    \n",
    "> $w^{T}x^{+} + b = 1$    \n",
    "$w^{T}(x^{-} + \\lambda w) + b = 1$    \n",
    "$W^{T}x^{-} + b + \\lambda w^{T}w = 1$    \n",
    "$-1 + \\lambda w^{T}w = 1$    \n",
    "$\\lambda = \\frac{2}{w^{T}w}$    \n",
    "    \n",
    "$\\lambda$를 구했으므로 margin을 $w$로 정리할 수가 있다.    \n",
    ">$Margin = distance(x^{+}, x^{-})$    \n",
    "&nbsp;    $= \\parallel x^{+} - x^{-}  \\parallel_{2}$    \n",
    "&nbsp;    $= \\parallel x^{-} + \\lambda w - x^{-}  \\parallel_{2}$   \n",
    "&nbsp;    $= \\parallel \\lambda w  \\parallel_{2}$   \n",
    "&nbsp;    $= \\lambda \\sqrt{w^{T}w}$   \n",
    "&nbsp;    $= \\frac{2}{w^{T}w} \\sqrt{w^{T}w}$   \n",
    "&nbsp;    $= \\frac{2}{\\sqrt{w^{T}w}}$    \n",
    "&nbsp;    $= \\frac{2}{\\parallel w \\parallel_{2}}$    "
   ]
  },
  {
   "cell_type": "markdown",
   "id": "96c61ae3-1633-4e1d-b851-32160f2939f9",
   "metadata": {},
   "source": [
    "SVM의 목적은 margin을 최대화 하는 경계면을 찾는 것이므로 $max (\\frac{2}{\\parallel w \\parallel_{2}})$의 문제를 푸는것으로 귀결된다. 계산의 편의를 위해 margin의 절반을 제곱한 것에 역수를 취한 뒤 그 절반을 최소화 하는 문제로 바꾼 뒤에 계산한다. (문제의 본질은 동일하다) 이때, plus-plane보다 위에 있는 관측치들은 $y=1$이고 $w^{T}x + b$가 1보다 크다. 반대로 minus-plane보다 아래에 있는 관측치들은 $y=-1$이고 $w^{T}x + b$가 -1보다 작다. 이 두 조건으로 인해 제약조건은 다음과 같다.      \n",
    "> $max (\\frac{2}{\\parallel w \\parallel_{2}}$) -> $min (\\frac{\\parallel w \\parallel_{2}^{2}}{2}$)    \n",
    "\n",
    "> 제약식:  $y_{i}(w^{T}x_{i}+b) \\geq 1$    "
   ]
  },
  {
   "cell_type": "markdown",
   "id": "426d5ed3-d628-4ede-85cd-2495ae41b827",
   "metadata": {},
   "source": [
    "라그랑지안 승수법(Lagrange multiple method)은 제약식에 형식적인 라그랑지안 승수를 곱항 항을 최적화 하려는 목적식에 더하여, 제약된 문제를 제약이 없는 문제로 바꾸는 기법이다. 이 라그랑지안 승수법을 이용하여 정의된 목적식과 제약식을 라그랑지안 문제로 식을 다시 쓰면 다음과 같다. 이때, 원래 제약식의 범위가 0 이상이므로 $L_{p}$의 제약은 아래와 같다.      \n",
    "> $min(L_{p}(w, b, \\alpha_{i})) = \\frac{2}{\\parallel w \\parallel_{2}} - \\sum^{n}_{i=1}\\alpha_{i}(y_{i}(w^{T}x_{i}+b) - 1)$    \n",
    "\n",
    "> 제약식: $\\alpha_{i} \\geq 0, (i=1, 2, ..., n$)"
   ]
  },
  {
   "cell_type": "markdown",
   "id": "804faf0e-8d98-474e-8219-89ba38803391",
   "metadata": {},
   "source": [
    "$L_{p}$를 미지수로 각각 편미분한 식이 0이 되는 지점에서 최소값을 가지므로 아래의 문제를 풀면된다.   \n",
    "> $\\frac{\\partial L(w, b, \\alpha_{i})}{\\partial w} = 0$  ->  $w = \\sum^{n}_{i=1}\\alpha_{i} y_{i} x_{i}$ \n",
    "    \n",
    "> $\\frac{\\partial L(w, b, \\alpha_{i})}{\\partial b} = 0$  ->  $\\sum^{n}_{i=1}\\alpha_{i} y_{i} = 0$"
   ]
  },
  {
   "cell_type": "markdown",
   "id": "63d7ea3b-3210-4dc4-8ee9-ee0f4730b895",
   "metadata": {},
   "source": [
    "첫번째 항인 $\\frac{2}{\\parallel w \\parallel_{2}}$을 정리하면 다음과 같다.   \n",
    "> $\\frac{2}{\\parallel w \\parallel_{2}}$ = $\\frac{1}{2}w^{T}w$   \n",
    "&nbsp;&nbsp;&nbsp;  = $\\frac{1}{2}w^{T}\\sum^{n}_{j=1}\\alpha_{j}y_{j}x_{j}$    \n",
    "&nbsp;&nbsp;&nbsp;  = $\\frac{1}{2}\\sum^{n}_{j=1}\\alpha_{j}y_{j}(w^{T}x_{j})$    \n",
    "&nbsp;&nbsp;&nbsp;  = $\\frac{1}{2}\\sum^{n}_{j=1}\\alpha_{j}y_{j}(\\sum^{n}_{i=1}\\alpha_{i}y_{i}x^{T}_{i}x_{j})$   \n",
    "&nbsp;&nbsp;&nbsp;  = $\\frac{1}\n",
    "{2}\\sum^{n}_{i=1}\\sum^{n}_{j=1}\\alpha_{i}\\alpha_{j}y_{i}y_{j}x^{T}_{i}x_{j}$   "
   ]
  },
  {
   "cell_type": "markdown",
   "id": "ff565749-f7b1-494a-898c-e3b788990ced",
   "metadata": {},
   "source": [
    "두번째 항인 $- \\sum^{n}_{i=1}\\alpha_{i}(y_{i}(w^{T}x_{i}+b) - 1)$을 정리하면 다음과 같다.   \n",
    "> $- \\sum^{n}_{i=1}\\alpha_{i}(y_{i}(w^{T}x_{i}+b) - 1)$ = $-\\sum^{n}_{i=1}\\alpha_{i}y_{i}(w^{T}x_{i} + b) + \\sum^{n}_{i=1}\\alpha_{i}$    \n",
    "&nbsp;&nbsp;             = $-\\sum^{n}_{i=1}\\alpha_{i}y_{i}w^{T}x_{i} - b\\sum^{n}_{i=1}\\alpha_{i}y_{i} + \\sum^{n}_{i=1}\\alpha_{i}$    \n",
    "&nbsp;&nbsp;             = $-\\sum^{n}_{i=1}\\sum^{n}_{j=1}\\alpha_{i}\\alpha_{j}y_{i}y_{j}x^{T}_{i}x_{j} + \\sum^{n}_{i=1}\\alpha_{i}$"
   ]
  },
  {
   "cell_type": "markdown",
   "id": "2254060f-c884-468a-8aa8-f7ab29eec13d",
   "metadata": {},
   "source": [
    "첫번째 항과 두번쨰 항의 정리 결과를 토대로 $L_{p}$를 정리하면 되는데, 식을 변형 하는 과정에서 $\\alpha$의 최고차항의 계수가 음수이므로 최소값을 찾는 문제가 최대값을 찾는 문제로 바뀌었고 변형된 $L_{D}$는 다음과 같다. 이떄, $L_{D}$의 제약식은 아래와 같다.    \n",
    "> $max(L_{D}(\\alpha_{i})) = \\sum^{n}_{i=1}\\alpha_{i} - \\frac{1}{2}\\sum^{n}_{i=1}\\sum^{n}_{j=1}\\alpha_{i}\\alpha_{j}y_{i}y_{j}x^{T}_{i}x_{j}$    \n",
    "\n",
    "> 제약식: $\\sum^{n}_{i=1}\\alpha_{i}y_{i} = 0, (\\alpha_{i} \\geq 0,  i = 1, 2, ..., n$)"
   ]
  },
  {
   "cell_type": "markdown",
   "id": "d1e393cb-23aa-4ada-8dcc-266d5f0170c1",
   "metadata": {},
   "source": [
    "찾고자 하는 최대된 분류경계면은 $w^{T}x + b$이므로 $w$와 $b$를 알면 SVM의 해를 구할 수 있다. $w = \\sum^{n}_{i=1}\\alpha_{i} y_{i} x_{i}$이고 $x_{i}$와 $y_{i}$는 우리가 가지고 있는 학습 데이터이므로 $\\alpha$의 값들만 알면 $w$를 찾을 수 있다. 그런데 여기서 $\\alpha_{i}$가 0인 관측치들은 분류경계면 형성에 아무런 영향을 끼치지 못한다. 다시 말해, $i$번째 관측치에 대응하는 라그랑지안 승수 $\\alpha_{i}$가 0보다 커야 margin결정에 유의미 하다는 이야기이다.    \n",
    "아울러 KKT(Karush-Kuhn-Tucker) 조건에서 함수가 최적값을 갖는다면, $\\alpha_{i}$ 또는 $y_{i}(w^{T}x_{i} + b) - 1$ 두 개 가운데 하나는 반드시 0이므로 $\\alpha_{i}$가 0이 아니라면 $y_{i}(w^{T}x_{i} + b) - 1$는 반드시 0이 되어야 한다. 따라서 $x_{i}$는 plus-plane, minus-plane 위에 있는 벡터가 된다.    "
   ]
  },
  {
   "cell_type": "markdown",
   "id": "dcc622e7-f600-4cab-8b1b-e9a60feddd51",
   "metadata": {},
   "source": [
    "<img src='./image/support_vectors.png' width=400 height=400>"
   ]
  },
  {
   "cell_type": "markdown",
   "id": "e9582055-c0fe-4168-9dcc-a3629be04006",
   "metadata": {
    "tags": []
   },
   "source": [
    "이렇게 margin의 결정에 영향을 끼치는 관측치들을 support vectors라고 한다.    \n",
    "한편, $b$는 이미 구한 $w$와 학습데이터 $y_{i}(w^{T}x_{i} + b - 1) = 0$ 식을 활용하여 바로 구할 수가 있다. 새로운 데이터가 들어왔을 때, 해당 관측치를 $y_{i}(w^{T}x_{i} + b - 1)$에 넣어서 0보다 크면 1, 0보다 작으면 -1 범주로 예측하면 된다."
   ]
  },
  {
   "cell_type": "markdown",
   "id": "40cc18d3-46c5-4905-bf2d-344a0705a343",
   "metadata": {},
   "source": [
    "----"
   ]
  },
  {
   "cell_type": "markdown",
   "id": "ea980a26-54c3-463a-8c93-1742e0d243ed",
   "metadata": {},
   "source": [
    "문제를 직관적으로 바라보기 위하여 임의의 데이터를 생성하여 SVM을 학습시키다."
   ]
  },
  {
   "cell_type": "markdown",
   "id": "8a954e32-8897-481b-88f7-5bc751979655",
   "metadata": {},
   "source": [
    "## 1. Draw SVM with Sample Data 01 (Linear)"
   ]
  },
  {
   "cell_type": "markdown",
   "id": "ec7bd517-5463-4f87-9f66-d97af9da6a50",
   "metadata": {},
   "source": [
    "문제를 직관적으로 바라보기 위하여 임의의 데이터를 생성하여 SVM을 학습시키다."
   ]
  },
  {
   "cell_type": "code",
   "execution_count": 2,
   "id": "21737fa2-337d-47d0-95cd-074e7a5cbdf7",
   "metadata": {},
   "outputs": [
    {
     "data": {
      "image/png": "[encoded data removed]",
      "text/plain": [
       "<Figure size 432x288 with 1 Axes>"
      ]
     },
     "metadata": {
      "needs_background": "light"
     },
     "output_type": "display_data"
    }
   ],
   "source": [
    "# 임의의 Data Sets 생성\n",
    "np.random.seed(1)\n",
    "X = np.random.randn(20, 2)\n",
    "y = np.repeat([-1, 1], 10)\n",
    "X[y==1] = X[y==1]  + 1\n",
    "plt.scatter(X[:, 0], X[:, 1], s=30, c=y, cmap='copper')\n",
    "plt.xlabel('X0')\n",
    "plt.ylabel('X1')\n",
    "plt.show()"
   ]
  },
  {
   "cell_type": "code",
   "execution_count": 3,
   "id": "c87dd699-a9a7-43dd-9c81-c8d50794731d",
   "metadata": {},
   "outputs": [],
   "source": [
    "# SVM 시각화 함수\n",
    "def plot_classifier(classifier, X, y, h=0.02, buffer=0.5):   # should be 2D feature space \n",
    "\n",
    "    # initialize custom marker and color-map : 쵀대 7개 class 까지 지원 \n",
    "    markers = ('o', '^', 's', 'x', 'v', 'D', '*')\n",
    "    colors = ('gray', 'green', 'yellow', 'cyan', 'magenta', 'blue', 'red')\n",
    "    cmap = ListedColormap(colors[:len(np.unique(y))])\n",
    "\n",
    "    #fig, ax1 = plt.subplots(nrows=1, ncols=1, figsize=(6, 5))\n",
    "    plt.figure(figsize=(6, 4))\n",
    "    \n",
    "    # create a mesh to plot in\n",
    "    x_min, x_max = X[:, 0].min() - buffer, X[:, 0].max() + buffer\n",
    "    y_min, y_max = X[:, 1].min() - buffer, X[:, 1].max() + buffer\n",
    "    xx, yy = np.meshgrid(np.arange(x_min, x_max, h), np.arange(y_min, y_max, h))\n",
    "    \n",
    "    # Plot the decision boundary.\n",
    "    Z = classifier.predict(np.c_[xx.ravel(), yy.ravel()])\n",
    "    Z = Z.reshape(xx.shape) # Put the result into a color plot\n",
    "    plt.contourf(xx, yy, Z, alpha=0.4, cmap=cmap)\n",
    "    plt.xlim(xx.min(), xx.max())\n",
    "    plt.ylim(yy.min(), yy.max())\n",
    "\n",
    "    # Plot sample points\n",
    "    for idx, cls in enumerate(np.unique(y)):\n",
    "        plt.scatter(x=X[y == cls, 0], y=X[y == cls, 1], alpha=0.9, s=60,\n",
    "                    marker=markers[idx], label=cls)\n",
    "        \n",
    "    plt.legend(loc='upper right', frameon=True, framealpha=0.3, borderaxespad=0.9)\n",
    "    # additionally, support vectors have a white hole in a marker  \n",
    "    if isinstance(classifier, (SVC, SVC)):\n",
    "        sv = classifier.support_vectors_\n",
    "        plt.scatter(sv[:,0], sv[:,1], c='w', marker='.', s=40)\n",
    "        plt.xlim(x_min, x_max)\n",
    "        plt.ylim(y_min, y_max)\n",
    "                \n",
    "        print('Number of Support Vectors (Class, SV) : ', list(zip(np.unique(y), classifier.n_support_)))\n",
    "        print('indices of vectors: ', classifier.support_)\n",
    "        g = map(lambda x: [round(x[0], 2), round(x[1], 2)], classifier.support_vectors_)\n",
    "        print()"
   ]
  },
  {
   "cell_type": "code",
   "execution_count": 6,
   "id": "bad653bc-258e-4019-b950-463efc1215d2",
   "metadata": {},
   "outputs": [
    {
     "name": "stdout",
     "output_type": "stream",
     "text": [
      "Number of Support Vectors (Class, SV) :  [(-1, 3), (1, 3)]\n",
      "indices of vectors:  [ 0  4  9 13 15 16]\n",
      "\n"
     ]
    },
    {
     "data": {
      "image/png": "[encoded data removed]",
      "text/plain": [
       "<Figure size 432x288 with 1 Axes>"
      ]
     },
     "metadata": {
      "needs_background": "light"
     },
     "output_type": "display_data"
    }
   ],
   "source": [
    "# SVM 모델 학습\n",
    "# C : Penalty for the error. C higher -> smaller margin, less support vectors\n",
    "# C의 값이 증가할수록 모델은 complex해진다.\n",
    "svc = SVC(C= 10, kernel='linear', probability=True)    # C -> 10으로 세팅\n",
    "svc.fit(X, y)\n",
    "\n",
    "plot_classifier(svc, X, y)\n",
    "plt.xlabel('X0')\n",
    "plt.ylabel('X1')\n",
    "plt.show()"
   ]
  },
  {
   "cell_type": "code",
   "execution_count": 7,
   "id": "6b757373-3dc7-44e5-88fb-8cd79cbdb975",
   "metadata": {},
   "outputs": [
    {
     "name": "stdout",
     "output_type": "stream",
     "text": [
      "Number of Support Vectors (Class, SV) :  [(-1, 7), (1, 8)]\n",
      "indices of vectors:  [ 0  3  4  6  7  8  9 11 12 13 14 15 16 17 18]\n",
      "\n"
     ]
    },
    {
     "data": {
      "image/png": "[encoded data removed]",
      "text/plain": [
       "<Figure size 432x288 with 1 Axes>"
      ]
     },
     "metadata": {
      "needs_background": "light"
     },
     "output_type": "display_data"
    }
   ],
   "source": [
    "# C : Penalty for the error. C higher -> smaller margin, less support vectors\n",
    "svc = SVC(C= .1, kernel='linear', probability=True)    # C -> 0.1로 세팅\n",
    "svc.fit(X, y)\n",
    "\n",
    "plot_classifier(svc, X, y)\n",
    "plt.xlabel('X0')\n",
    "plt.ylabel('X1')\n",
    "plt.show()"
   ]
  },
  {
   "cell_type": "markdown",
   "id": "3cef600a-b148-4042-b5ad-cd8f3ad4a3cc",
   "metadata": {},
   "source": [
    "Cost(Panalty)를 10에서 0.1로 낮출 경우 margin이 커지며 더 많은 misclassification을 허용하고, support vector의 수가 늘어난다. 이는 곧 모델이 조금 더 소프트해졌다는 것을 뜻한다."
   ]
  },
  {
   "cell_type": "code",
   "execution_count": 8,
   "id": "b261c869-1c0b-4aea-a8e1-2089a5389e0a",
   "metadata": {},
   "outputs": [
    {
     "name": "stdout",
     "output_type": "stream",
     "text": [
      "c: 100.000000 \t 0.90\n",
      "c: 50.000000 \t 0.85\n",
      "c: 10.000000 \t 0.90\n",
      "c: 5.000000 \t 0.90\n",
      "c: 1.000000 \t 0.85\n",
      "c: 0.500000 \t 0.80\n",
      "c: 0.010000 \t 0.40\n",
      "c: 0.005000 \t 0.40\n",
      "c: 0.001000 \t 0.40\n",
      "c: 0.000500 \t 0.40\n",
      "c: 0.000100 \t 0.40\n"
     ]
    }
   ],
   "source": [
    "# C의 변화에 따라 변경되는 모델의 정확도\n",
    "# 이 경우에는 Data Set이 임의로 생성된 데이터이며 사이즈가 작고 차원이 낮아 신뢰성은 없다.\n",
    "range_c = [100, 50, 10, 5, 1, 0.5, 0.01, 0.005, 0.001, 0.0005, 0.0001]\n",
    "scores = []\n",
    "for c in range_c:\n",
    "    svc = SVC(C=c, kernel='linear', probability=False)\n",
    "    score = cross_val_score(svc, X, y, cv=4, scoring='accuracy')\n",
    "    scores.append(np.mean(score))\n",
    "for c, s in zip(range_c, scores):\n",
    "    print('c: %5f \\t %.2f' %(c, s))"
   ]
  },
  {
   "cell_type": "markdown",
   "id": "e936d4b4-b406-4958-b891-c9ef57a995b8",
   "metadata": {},
   "source": [
    "## 2. Draw SVM with Sample Data 02 (RBF)"
   ]
  },
  {
   "cell_type": "markdown",
   "id": "be3000d5-29c2-4202-9229-8313faa1e787",
   "metadata": {},
   "source": [
    "RBF(Radial Basis Function) 커널은 가우시안(Gaussian Kernel)이라고도 불리며, 무한차원으로의 projection이 될 수 있다."
   ]
  },
  {
   "cell_type": "code",
   "execution_count": 9,
   "id": "a1bb0ac3-92a4-4172-9a8d-6ef567addbc3",
   "metadata": {},
   "outputs": [
    {
     "data": {
      "image/png": "[encoded data removed]",
      "text/plain": [
       "<Figure size 432x288 with 1 Axes>"
      ]
     },
     "metadata": {
      "needs_background": "light"
     },
     "output_type": "display_data"
    }
   ],
   "source": [
    "# 임의의 Data Sets 생성\n",
    "np.random.seed(37)\n",
    "X = np.random.randn(200, 2)\n",
    "X[:100, :] = X[:100, :] + 2\n",
    "X[100:150, :] = X[100:150, :] - 2\n",
    "y = np.repeat([0, 1], [150, 50])\n",
    "\n",
    "plt.scatter(X[:, 0], X[:, 1], s=40, c=y, cmap='copper')\n",
    "plt.xlabel('X0')\n",
    "plt.ylabel('X1')\n",
    "plt.show()"
   ]
  },
  {
   "cell_type": "code",
   "execution_count": 10,
   "id": "66ec72e3-5968-4088-bea3-cd4785100544",
   "metadata": {},
   "outputs": [
    {
     "name": "stdout",
     "output_type": "stream",
     "text": [
      "Number of Support Vectors (Class, SV) :  [(0, 38), (1, 18)]\n",
      "indices of vectors:  [ 0  2  4  5  6  7 10 13 17 18 20 22 26 29 31 32 34 35 36 39 41 42 43 45\n",
      " 51 55 59 60 64 66 67 73 74 82 87 89 91 94  8  9 11 12 16 23 27 44 54 61\n",
      " 68 71 72 76 79 84 93 96]\n",
      "\n"
     ]
    },
    {
     "data": {
      "image/png": "[encoded data removed]",
      "text/plain": [
       "<Figure size 432x288 with 1 Axes>"
      ]
     },
     "metadata": {
      "needs_background": "light"
     },
     "output_type": "display_data"
    }
   ],
   "source": [
    "# 데이터 분할\n",
    "X_train, X_test, y_train, y_test = train_test_split(X, y, train_size=100, random_state=37)\n",
    "\n",
    "# RBF 커널의 SVM 학습\n",
    "# gamma: 커널의 흩어짐을 세팅하며, 가우시안 분포에서 분산에 해당되는 부분이다. 커질수록 complex한 모델이 된다.\n",
    "rbf_svc = SVC(kernel='rbf', gamma=1, C=1, random_state=123)\n",
    "rbf_svc.fit(X_train, y_train)\n",
    "\n",
    "plot_classifier(rbf_svc, X_train, y_train)\n",
    "plt.xlabel('X0')\n",
    "plt.ylabel('X1')\n",
    "plt.show()"
   ]
  },
  {
   "cell_type": "code",
   "execution_count": 11,
   "id": "d084ada5-2460-40d0-96d4-ec3018a07397",
   "metadata": {},
   "outputs": [
    {
     "data": {
      "image/png": "[encoded data removed]",
      "text/plain": [
       "<Figure size 432x288 with 2 Axes>"
      ]
     },
     "metadata": {
      "needs_background": "light"
     },
     "output_type": "display_data"
    },
    {
     "name": "stdout",
     "output_type": "stream",
     "text": [
      "\n",
      "[Confusion Report]\n",
      "\n",
      "               precision    recall  f1-score   support\n",
      "\n",
      "           0       0.85      1.00      0.92        71\n",
      "           1       1.00      0.55      0.71        29\n",
      "\n",
      "    accuracy                           0.87       100\n",
      "   macro avg       0.92      0.78      0.81       100\n",
      "weighted avg       0.89      0.87      0.86       100\n",
      "\n"
     ]
    }
   ],
   "source": [
    "# Confusion matrix 확인\n",
    "\n",
    "def get_confusion_mt(model, _X_test, _y_test):\n",
    "    y_pred = model.predict(_X_test)\n",
    "    confusion_mt = pd.crosstab(_y_test, y_pred, \n",
    "                               rownames=['Actual'], \n",
    "                               colnames=['Predicted'])\n",
    "    return confusion_mt\n",
    "\n",
    "def get_confusion_report(model, _X_test, _y_test):\n",
    "    y_pred = model.predict(_X_test)\n",
    "    return classification_report(_y_test, y_pred)\n",
    "\n",
    "# confusion matrix 산출 \n",
    "confusion_mt = get_confusion_mt(rbf_svc, X_test, y_test)\n",
    "\n",
    "# confusion matrix 시각화\n",
    "fig = sns.heatmap(confusion_mt, annot=True, fmt='d')\n",
    "fig.set_title('Confusion Matrix')\n",
    "plt.show()\n",
    "\n",
    "# 여러 측정지표 확인\n",
    "print('\\n[Confusion Report]\\n\\n', get_confusion_report(rbf_svc, X_test, y_test))"
   ]
  },
  {
   "cell_type": "code",
   "execution_count": 12,
   "id": "dc94f6ec-1840-4657-967e-9d03663eb812",
   "metadata": {},
   "outputs": [
    {
     "name": "stdout",
     "output_type": "stream",
     "text": [
      "best estimator:  SVC(C=1, gamma=0.1)\n",
      "best score:  0.86\n"
     ]
    }
   ],
   "source": [
    "# 최적의 C, gamma값 탐색\n",
    "parm = [{'gamma': [0.1, 0.5, 1, 2, 3],\n",
    "         'C': [0.01, 0.1, 1, 10, 100]}]\n",
    "\n",
    "# GridSearchCV(): 모델의 하이퍼파라미터를 순차적으로 입력해 학습 및 측정을 하여 가장 좋은 파라미터를 알려준다.\n",
    "svm_grid = GridSearchCV(SVC(kernel='rbf'), param_grid=parm, cv=10, scoring='accuracy')\n",
    "svm_grid.fit(X_train, y_train)\n",
    "print('best estimator: ', svm_grid.best_estimator_)\n",
    "print('best score: ', round(svm_grid.best_score_, 2))"
   ]
  },
  {
   "cell_type": "code",
   "execution_count": 13,
   "id": "313de596-96f3-4180-ac18-4090238c21e2",
   "metadata": {},
   "outputs": [
    {
     "data": {
      "image/png": "[encoded data removed]",
      "text/plain": [
       "<Figure size 432x288 with 2 Axes>"
      ]
     },
     "metadata": {
      "needs_background": "light"
     },
     "output_type": "display_data"
    },
    {
     "name": "stdout",
     "output_type": "stream",
     "text": [
      "\n",
      "[Confusion Report]\n",
      "\n",
      "               precision    recall  f1-score   support\n",
      "\n",
      "           0       0.91      0.96      0.93        71\n",
      "           1       0.88      0.76      0.81        29\n",
      "\n",
      "    accuracy                           0.90       100\n",
      "   macro avg       0.89      0.86      0.87       100\n",
      "weighted avg       0.90      0.90      0.90       100\n",
      "\n"
     ]
    }
   ],
   "source": [
    "# 최적의 파라미터로 학습하여 결과 확인\n",
    "\n",
    "# confusion matrix 산출 \n",
    "confusion_mt = get_confusion_mt(svm_grid, X_test, y_test)\n",
    "\n",
    "# confusion matrix 시각화\n",
    "fig = sns.heatmap(confusion_mt, annot=True, fmt='d')\n",
    "fig.set_title('Confusion Matrix')\n",
    "plt.show()\n",
    "\n",
    "# 여러 측정지표 확인\n",
    "print('\\n[Confusion Report]\\n\\n', get_confusion_report(svm_grid, X_test, y_test))"
   ]
  },
  {
   "cell_type": "markdown",
   "id": "521a1daa-675d-4baa-8588-372d7f42b4e0",
   "metadata": {},
   "source": [
    "## 3. SVM with Toy Data"
   ]
  },
  {
   "cell_type": "code",
   "execution_count": 14,
   "id": "b387e14f-c313-4da6-a436-b21b14384cfa",
   "metadata": {},
   "outputs": [
    {
     "data": {
      "text/html": [
       "<div>\n",
       "<style scoped>\n",
       "    .dataframe tbody tr th:only-of-type {\n",
       "        vertical-align: middle;\n",
       "    }\n",
       "\n",
       "    .dataframe tbody tr th {\n",
       "        vertical-align: top;\n",
       "    }\n",
       "\n",
       "    .dataframe thead th {\n",
       "        text-align: right;\n",
       "    }\n",
       "</style>\n",
       "<table border=\"1\" class=\"dataframe\">\n",
       "  <thead>\n",
       "    <tr style=\"text-align: right;\">\n",
       "      <th></th>\n",
       "      <th>Age</th>\n",
       "      <th>Sex</th>\n",
       "      <th>ChestPain</th>\n",
       "      <th>RestBP</th>\n",
       "      <th>Chol</th>\n",
       "      <th>Fbs</th>\n",
       "      <th>RestECG</th>\n",
       "      <th>MaxHR</th>\n",
       "      <th>ExAng</th>\n",
       "      <th>Oldpeak</th>\n",
       "      <th>Slope</th>\n",
       "      <th>Ca</th>\n",
       "      <th>Thal</th>\n",
       "      <th>AHD</th>\n",
       "    </tr>\n",
       "  </thead>\n",
       "  <tbody>\n",
       "    <tr>\n",
       "      <th>1</th>\n",
       "      <td>63</td>\n",
       "      <td>1</td>\n",
       "      <td>typical</td>\n",
       "      <td>145</td>\n",
       "      <td>233</td>\n",
       "      <td>1</td>\n",
       "      <td>2</td>\n",
       "      <td>150</td>\n",
       "      <td>0</td>\n",
       "      <td>2.3</td>\n",
       "      <td>3</td>\n",
       "      <td>0.0</td>\n",
       "      <td>fixed</td>\n",
       "      <td>No</td>\n",
       "    </tr>\n",
       "    <tr>\n",
       "      <th>2</th>\n",
       "      <td>67</td>\n",
       "      <td>1</td>\n",
       "      <td>asymptomatic</td>\n",
       "      <td>160</td>\n",
       "      <td>286</td>\n",
       "      <td>0</td>\n",
       "      <td>2</td>\n",
       "      <td>108</td>\n",
       "      <td>1</td>\n",
       "      <td>1.5</td>\n",
       "      <td>2</td>\n",
       "      <td>3.0</td>\n",
       "      <td>normal</td>\n",
       "      <td>Yes</td>\n",
       "    </tr>\n",
       "    <tr>\n",
       "      <th>3</th>\n",
       "      <td>67</td>\n",
       "      <td>1</td>\n",
       "      <td>asymptomatic</td>\n",
       "      <td>120</td>\n",
       "      <td>229</td>\n",
       "      <td>0</td>\n",
       "      <td>2</td>\n",
       "      <td>129</td>\n",
       "      <td>1</td>\n",
       "      <td>2.6</td>\n",
       "      <td>2</td>\n",
       "      <td>2.0</td>\n",
       "      <td>reversable</td>\n",
       "      <td>Yes</td>\n",
       "    </tr>\n",
       "  </tbody>\n",
       "</table>\n",
       "</div>"
      ],
      "text/plain": [
       "   Age  Sex     ChestPain  RestBP  Chol  Fbs  RestECG  MaxHR  ExAng  Oldpeak  \\\n",
       "1   63    1       typical     145   233    1        2    150      0      2.3   \n",
       "2   67    1  asymptomatic     160   286    0        2    108      1      1.5   \n",
       "3   67    1  asymptomatic     120   229    0        2    129      1      2.6   \n",
       "\n",
       "   Slope   Ca        Thal  AHD  \n",
       "1      3  0.0       fixed   No  \n",
       "2      2  3.0      normal  Yes  \n",
       "3      2  2.0  reversable  Yes  "
      ]
     },
     "execution_count": 14,
     "metadata": {},
     "output_type": "execute_result"
    }
   ],
   "source": [
    "# Load Data Sets\n",
    "heart_data = pd.read_csv('./data/Heart.csv', index_col=0)\n",
    "heart_data.dropna(inplace=True)\n",
    "heart_data.head(3)"
   ]
  },
  {
   "cell_type": "code",
   "execution_count": 15,
   "id": "1ea6a3e5-f98f-43c4-8ce1-27af3dbd5a5d",
   "metadata": {},
   "outputs": [
    {
     "name": "stdout",
     "output_type": "stream",
     "text": [
      "<class 'pandas.core.frame.DataFrame'>\n",
      "Int64Index: 297 entries, 1 to 302\n",
      "Data columns (total 14 columns):\n",
      " #   Column     Non-Null Count  Dtype  \n",
      "---  ------     --------------  -----  \n",
      " 0   Age        297 non-null    int64  \n",
      " 1   Sex        297 non-null    int64  \n",
      " 2   ChestPain  297 non-null    object \n",
      " 3   RestBP     297 non-null    int64  \n",
      " 4   Chol       297 non-null    int64  \n",
      " 5   Fbs        297 non-null    int64  \n",
      " 6   RestECG    297 non-null    int64  \n",
      " 7   MaxHR      297 non-null    int64  \n",
      " 8   ExAng      297 non-null    int64  \n",
      " 9   Oldpeak    297 non-null    float64\n",
      " 10  Slope      297 non-null    int64  \n",
      " 11  Ca         297 non-null    float64\n",
      " 12  Thal       297 non-null    object \n",
      " 13  AHD        297 non-null    object \n",
      "dtypes: float64(2), int64(9), object(3)\n",
      "memory usage: 34.8+ KB\n"
     ]
    }
   ],
   "source": [
    "# Data 정보확인\n",
    "heart_data.info()"
   ]
  },
  {
   "cell_type": "code",
   "execution_count": 16,
   "id": "35f3158e-83d7-4fd7-a45b-88f713dfe4a1",
   "metadata": {},
   "outputs": [
    {
     "name": "stdout",
     "output_type": "stream",
     "text": [
      "(297, 18) (297,)\n"
     ]
    }
   ],
   "source": [
    "# 데이터 분할\n",
    "X = heart_data[heart_data.columns.difference(['AHD'])]\n",
    "y = heart_data['AHD']\n",
    "\n",
    "# 더미화\n",
    "X = pd.get_dummies(X)\n",
    "y = y.apply(lambda x: 1 if x=='Yes' else 0)\n",
    "\n",
    "print(X.shape, y.shape)"
   ]
  },
  {
   "cell_type": "code",
   "execution_count": null,
   "id": "4e671712-2c29-4345-8c65-b976f03c6fe5",
   "metadata": {},
   "outputs": [],
   "source": [
    "# Randomized Search CV로 최적 모델 탐색\n",
    "# Grid Search CV는 연산 기간이 대폭 늘어나므로, 탐색공간의 일부 부분집합만 무작위 탐색하는 Randomized Search CV를 사용\n",
    "\n",
    "# 모델 생성 및 학습\n",
    "svc = SVC()\n",
    "parm = {'C': [0.01, 0.1, 1, 10, 100], \n",
    "        'kernel': ['linear', 'rbf', 'poly'],     # 선형, 가우시안, 다항\n",
    "        'gamma': [0.1, 0.5, 1, 5, 10]\n",
    "       }\n",
    "# n_iter: 파라미터 검색 횟수, n_jobs: 사용할 CPU 코어 수 (-1: all)\n",
    "svm_randCV_acc = RandomizedSearchCV(svc, param_distributions=parm, cv=7, scoring='accuracy', n_iter=20, n_jobs=-1)\n",
    "svm_randCV_acc.fit(X, y)\n",
    "svm_randCV_auc = RandomizedSearchCV(svc, param_distributions=parm, cv=7, scoring='roc_auc', n_iter=20, n_jobs=-1)\n",
    "svm_randCV_auc.fit(X, y)\n",
    "\n",
    "print('Best Parm (ACC): ', svm_randCV_acc.best_estimator_)\n",
    "print('Best Score (ACC): ', svm_randCV_acc.best_score_)\n",
    "print('Best Parm (AUC): ', svm_randCV_auc.best_estimator_)\n",
    "print('Best Score (AUC): ', svm_randCV_auc.best_score_)"
   ]
  },
  {
   "cell_type": "markdown",
   "id": "ccd0283e-8aea-478e-9973-f452fe0862ff",
   "metadata": {},
   "source": [
    "----"
   ]
  },
  {
   "cell_type": "markdown",
   "id": "d46d24aa-289a-4640-95c7-182bcbc014fb",
   "metadata": {},
   "source": [
    "**TIP)**    \n",
    "*Kernel Trick*\n"
   ]
  },
  {
   "cell_type": "markdown",
   "id": "32a9f4e7-f1dd-43eb-a2f0-d6089f7973e0",
   "metadata": {},
   "source": [
    "<img src='./image/convert_pot.png' width=400>"
   ]
  },
  {
   "cell_type": "markdown",
   "id": "c159389e-089e-4358-8009-3d24b59de06f",
   "metadata": {},
   "source": [
    "0의 정답셋을 가지는 $a_{1}(-1, 1)$, $a_{2}(1, -1)$ 두 변수와 1의 정답셋을 가지는 $b_{1}(1, -1)$, $b_{2}(-1, 1)$ 두 가지를 분류하는 선형적 초평면은 존재하지 않지만 그림과 같이 좌표를 변경시켜주는 kernel $K$가 존재한다면 변경된 좌표에 대해서는 두 가지를 분할하는 선형적 초평면이 존재하게 된다."
   ]
  },
  {
   "cell_type": "markdown",
   "id": "9eb547a6-1fa6-464d-b91a-6debe4faf272",
   "metadata": {},
   "source": [
    "이러한 관점에서 m차원의 좌표를 n차원으로 매핑시켜주는 kernel이 존재한다면 아래와 같이 보다 높은 차원으로 데이터를 변경해줌으로써 기존에는 복잡하고 갖기 어려웠던 초평면을 쉽게 생성해줄 수 있다."
   ]
  },
  {
   "cell_type": "markdown",
   "id": "a8bf588c-e738-4cdd-916c-7a6c3cbc33f1",
   "metadata": {},
   "source": [
    "<img src='./image/svm_kernel.png' width=400>"
   ]
  },
  {
   "cell_type": "markdown",
   "id": "7774c2f7-9f3f-4aed-8753-279c0e61afa0",
   "metadata": {},
   "source": [
    "----"
   ]
  }
 ],
 "metadata": {
  "kernelspec": {
   "display_name": "Python 3 (ipykernel)",
   "language": "python",
   "name": "python3"
  },
  "language_info": {
   "codemirror_mode": {
    "name": "ipython",
    "version": 3
   },
   "file_extension": ".py",
   "mimetype": "text/x-python",
   "name": "python",
   "nbconvert_exporter": "python",
   "pygments_lexer": "ipython3",
   "version": "3.7.4"
  }
 },
 "nbformat": 4,
 "nbformat_minor": 5
}
