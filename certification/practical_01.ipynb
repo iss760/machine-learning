{
 "cells": [
  {
   "cell_type": "code",
   "execution_count": 88,
   "outputs": [],
   "source": [
    "import numpy as np\n",
    "import pandas as pd\n",
    "import re\n",
    "\n",
    "import matplotlib.pyplot as plt\n",
    "import seaborn as sns\n",
    "from sklearn.model_selection import train_test_split\n",
    "from sklearn.metrics import classification_report\n",
    "from sklearn.tree import DecisionTreeClassifier\n",
    "from sklearn.ensemble import RandomForestClassifier\n",
    "from lightgbm import LGBMClassifier"
   ],
   "metadata": {
    "collapsed": false,
    "pycharm": {
     "name": "#%%\n"
    }
   }
  },
  {
   "cell_type": "code",
   "execution_count": 93,
   "outputs": [
    {
     "name": "stdout",
     "output_type": "stream",
     "text": [
      "(43796, 50)\n",
      "(43796,)\n",
      "(10950, 50)\n",
      "(10950,)\n"
     ]
    }
   ],
   "source": [
    "X, y = pd.read_csv('./data/heart_X.csv'), pd.read_csv('./data/heart_y.csv')\n",
    "\n",
    "train_X, test_X, train_y, test_y = train_test_split(X, y, test_size=0.2, random_state=32, shuffle=True)\n",
    "\n",
    "train_X = pd.get_dummies(train_X)\n",
    "test_X = pd.get_dummies(test_X)\n",
    "\n",
    "train_y = train_y['HeartDisease'].apply(lambda x: 1 if x=='Yes' else 0)\n",
    "test_y = test_y['HeartDisease'].apply(lambda x: 1 if x=='Yes' else 0)\n",
    "\n",
    "train_X = train_X.rename(columns=lambda x: re.sub('[^A-Za-z0-9]+', '', x))\n",
    "test_X = test_X.rename(columns=lambda x: re.sub('[^A-Za-z0-9]+', '', x))\n",
    "\n",
    "print(train_X.shape)\n",
    "print(train_y.shape)\n",
    "print(test_X.shape)\n",
    "print(test_y.shape)"
   ],
   "metadata": {
    "collapsed": false,
    "pycharm": {
     "name": "#%%\n"
    }
   }
  },
  {
   "cell_type": "code",
   "execution_count": 94,
   "outputs": [
    {
     "data": {
      "text/plain": "0.6678538812785388"
     },
     "execution_count": 94,
     "metadata": {},
     "output_type": "execute_result"
    }
   ],
   "source": [
    "dtc = DecisionTreeClassifier(random_state=32)\n",
    "dtc.fit(train_X, train_y)\n",
    "dtc.score(test_X, test_y)"
   ],
   "metadata": {
    "collapsed": false,
    "pycharm": {
     "name": "#%%\n"
    }
   }
  },
  {
   "cell_type": "code",
   "execution_count": 95,
   "outputs": [
    {
     "data": {
      "text/plain": "0.7374429223744292"
     },
     "execution_count": 95,
     "metadata": {},
     "output_type": "execute_result"
    }
   ],
   "source": [
    "rfc = RandomForestClassifier(random_state=32)\n",
    "rfc.fit(train_X, train_y)\n",
    "rfc.score(test_X, test_y)"
   ],
   "metadata": {
    "collapsed": false,
    "pycharm": {
     "name": "#%%\n"
    }
   }
  },
  {
   "cell_type": "code",
   "execution_count": 96,
   "outputs": [
    {
     "data": {
      "text/plain": "0.768310502283105"
     },
     "execution_count": 96,
     "metadata": {},
     "output_type": "execute_result"
    }
   ],
   "source": [
    "lgbm = LGBMClassifier(random_state=32)\n",
    "lgbm.fit(train_X, train_y)\n",
    "lgbm.score(test_X, test_y)"
   ],
   "metadata": {
    "collapsed": false,
    "pycharm": {
     "name": "#%%\n"
    }
   }
  },
  {
   "cell_type": "code",
   "execution_count": 107,
   "outputs": [],
   "source": [
    "# Confusion Matrix 반환 함수\n",
    "def _get_confusion_mat(model, _x, _y):\n",
    "    _y_pred = model.predict(_x)\n",
    "    try:\n",
    "        _y = _y if type(_y) == np.ndarray else _y.values.reval()\n",
    "    except AttributeError:\n",
    "        _y = _y.values\n",
    "\n",
    "    confusion_mat = pd.crosstab(_y, _y_pred,\n",
    "                                rownames=['Actual'],\n",
    "                                colnames=['Predicted'])\n",
    "    return confusion_mat\n",
    "\n",
    "# Confusion Report 반환 함수\n",
    "def _get_confusion_report(model, _x, _y):\n",
    "    _y_pred = model.predict(_x)\n",
    "    return classification_report(_y, _y_pred)\n",
    "\n",
    "# Confusion Matrix를 그려주는 함수\n",
    "def print_confusion_mat(model, _x, _y):\n",
    "    # confusion matrix 산출\n",
    "    confusion_mat = _get_confusion_mat(model, _x, _y)\n",
    "\n",
    "    # confusion matrix 시각화\n",
    "    fig = sns.heatmap(confusion_mat,\n",
    "                      annot=True,\n",
    "                      fmt='d',\n",
    "                      cmap=\"YlGnBu\")\n",
    "    fig.set_title('Confusion Matrix')\n",
    "    plt.show()\n",
    "\n",
    "    # 여러 측정지표 확인\n",
    "    print('\\n[Confusion Report]\\n\\n', _get_confusion_report(model, _x, _y))"
   ],
   "metadata": {
    "collapsed": false,
    "pycharm": {
     "name": "#%%\n"
    }
   }
  },
  {
   "cell_type": "code",
   "execution_count": 108,
   "outputs": [
    {
     "data": {
      "text/plain": "<Figure size 432x288 with 2 Axes>",
      "image/png": "[encoded data removed]"
     },
     "metadata": {
      "needs_background": "light"
     },
     "output_type": "display_data"
    },
    {
     "name": "stdout",
     "output_type": "stream",
     "text": [
      "\n",
      "[Confusion Report]\n",
      "\n",
      "               precision    recall  f1-score   support\n",
      "\n",
      "           0       0.67      0.67      0.67      5532\n",
      "           1       0.66      0.67      0.67      5418\n",
      "\n",
      "    accuracy                           0.67     10950\n",
      "   macro avg       0.67      0.67      0.67     10950\n",
      "weighted avg       0.67      0.67      0.67     10950\n",
      "\n"
     ]
    }
   ],
   "source": [
    "# Confusion Matrix 출력\n",
    "print_confusion_mat(dtc, test_X, test_y)"
   ],
   "metadata": {
    "collapsed": false,
    "pycharm": {
     "name": "#%%\n"
    }
   }
  },
  {
   "cell_type": "code",
   "execution_count": 99,
   "outputs": [
    {
     "data": {
      "text/plain": "<Figure size 432x288 with 2 Axes>",
      "image/png": "[encoded data removed]"
     },
     "metadata": {
      "needs_background": "light"
     },
     "output_type": "display_data"
    },
    {
     "name": "stdout",
     "output_type": "stream",
     "text": [
      "\n",
      "[Confusion Report]\n",
      "\n",
      "               precision    recall  f1-score   support\n",
      "\n",
      "           0       0.76      0.71      0.73      5532\n",
      "           1       0.72      0.76      0.74      5418\n",
      "\n",
      "    accuracy                           0.74     10950\n",
      "   macro avg       0.74      0.74      0.74     10950\n",
      "weighted avg       0.74      0.74      0.74     10950\n",
      "\n"
     ]
    }
   ],
   "source": [
    "# Confusion Matrix 출력\n",
    "print_confusion_mat(rfc, test_X, test_y)"
   ],
   "metadata": {
    "collapsed": false,
    "pycharm": {
     "name": "#%%\n"
    }
   }
  },
  {
   "cell_type": "code",
   "execution_count": 100,
   "outputs": [
    {
     "data": {
      "text/plain": "<Figure size 432x288 with 2 Axes>",
      "image/png": "[encoded data removed]"
     },
     "metadata": {
      "needs_background": "light"
     },
     "output_type": "display_data"
    },
    {
     "name": "stdout",
     "output_type": "stream",
     "text": [
      "\n",
      "[Confusion Report]\n",
      "\n",
      "               precision    recall  f1-score   support\n",
      "\n",
      "           0       0.80      0.72      0.76      5532\n",
      "           1       0.74      0.82      0.78      5418\n",
      "\n",
      "    accuracy                           0.77     10950\n",
      "   macro avg       0.77      0.77      0.77     10950\n",
      "weighted avg       0.77      0.77      0.77     10950\n",
      "\n"
     ]
    }
   ],
   "source": [
    "# Confusion Matrix 출력\n",
    "print_confusion_mat(lgbm, test_X, test_y)"
   ],
   "metadata": {
    "collapsed": false,
    "pycharm": {
     "name": "#%%\n"
    }
   }
  },
  {
   "cell_type": "code",
   "execution_count": null,
   "outputs": [],
   "source": [],
   "metadata": {
    "collapsed": false,
    "pycharm": {
     "name": "#%%\n"
    }
   }
  }
 ],
 "metadata": {
  "kernelspec": {
   "display_name": "Python 3",
   "language": "python",
   "name": "python3"
  },
  "language_info": {
   "codemirror_mode": {
    "name": "ipython",
    "version": 2
   },
   "file_extension": ".py",
   "mimetype": "text/x-python",
   "name": "python",
   "nbconvert_exporter": "python",
   "pygments_lexer": "ipython2",
   "version": "2.7.6"
  }
 },
 "nbformat": 4,
 "nbformat_minor": 0
}