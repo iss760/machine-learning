{
 "cells": [
  {
   "cell_type": "code",
   "execution_count": 1,
   "metadata": {},
   "outputs": [],
   "source": [
    "import numpy as np\n",
    "\n",
    "from tensorflow.keras.models import Sequential\n",
    "from tensorflow.keras.layers import Dense\n",
    "from tensorflow.keras import optimizers\n",
    "import matplotlib.pyplot as plt"
   ]
  },
  {
   "cell_type": "code",
   "execution_count": 2,
   "metadata": {},
   "outputs": [],
   "source": [
    "# sample data\n",
    "x = np.array([1, 2, 3, 4, 5, 6, 7, 8, 9])\n",
    "y = np.array([11, 22, 33, 44, 53, 66, 77, 87, 95])"
   ]
  },
  {
   "cell_type": "code",
   "execution_count": 3,
   "metadata": {},
   "outputs": [],
   "source": [
    "model = Sequential()\n",
    "model.add(Dense(1, input_dim=1, activation='linear'))"
   ]
  },
  {
   "cell_type": "code",
   "execution_count": 4,
   "metadata": {},
   "outputs": [],
   "source": [
    "# optimizer SGD 사용\n",
    "# SGD(Stochastic Gradient Descent): 미니배치 사이즈만큼 일부 데이터만 계산해가며, 빠르게 학습\n",
    "sgd = optimizers.SGD(lr=0.01)"
   ]
  },
  {
   "cell_type": "code",
   "execution_count": 5,
   "metadata": {},
   "outputs": [],
   "source": [
    "# model compile\n",
    "model.compile(optimizer=sgd, loss='mse', metrics=['mse'])   # loss function = MSE(Mean Squared Error)"
   ]
  },
  {
   "cell_type": "code",
   "execution_count": 6,
   "metadata": {},
   "outputs": [
    {
     "name": "stdout",
     "output_type": "stream",
     "text": [
      "Train on 9 samples\n",
      "Epoch 1/100\n",
      "9/9 [==============================] - 0s 33ms/sample - loss: 381.8395 - mse: 381.8395\n",
      "Epoch 2/100\n",
      "9/9 [==============================] - 0s 1ms/sample - loss: 2.2997 - mse: 2.2997\n",
      "Epoch 3/100\n",
      "9/9 [==============================] - 0s 1ms/sample - loss: 2.2940 - mse: 2.2940\n",
      "Epoch 4/100\n",
      "9/9 [==============================] - 0s 1ms/sample - loss: 2.2886 - mse: 2.2886\n",
      "Epoch 5/100\n",
      "9/9 [==============================] - 0s 2ms/sample - loss: 2.2834 - mse: 2.2834\n",
      "Epoch 6/100\n",
      "9/9 [==============================] - 0s 1ms/sample - loss: 2.2784 - mse: 2.2784\n",
      "Epoch 7/100\n",
      "9/9 [==============================] - 0s 1ms/sample - loss: 2.2736 - mse: 2.2736\n",
      "Epoch 8/100\n",
      "9/9 [==============================] - 0s 2ms/sample - loss: 2.2689 - mse: 2.2689\n",
      "Epoch 9/100\n",
      "9/9 [==============================] - 0s 2ms/sample - loss: 2.2645 - mse: 2.2645\n",
      "Epoch 10/100\n",
      "9/9 [==============================] - 0s 2ms/sample - loss: 2.2602 - mse: 2.2602\n",
      "Epoch 11/100\n",
      "9/9 [==============================] - 0s 2ms/sample - loss: 2.2561 - mse: 2.2561\n",
      "Epoch 12/100\n",
      "9/9 [==============================] - 0s 1ms/sample - loss: 2.2522 - mse: 2.2522\n",
      "Epoch 13/100\n",
      "9/9 [==============================] - 0s 2ms/sample - loss: 2.2484 - mse: 2.2484\n",
      "Epoch 14/100\n",
      "9/9 [==============================] - 0s 1ms/sample - loss: 2.2447 - mse: 2.2447\n",
      "Epoch 15/100\n",
      "9/9 [==============================] - 0s 1ms/sample - loss: 2.2412 - mse: 2.2412\n",
      "Epoch 16/100\n",
      "9/9 [==============================] - 0s 1ms/sample - loss: 2.2378 - mse: 2.2378\n",
      "Epoch 17/100\n",
      "9/9 [==============================] - 0s 2ms/sample - loss: 2.2346 - mse: 2.2346\n",
      "Epoch 18/100\n",
      "9/9 [==============================] - 0s 2ms/sample - loss: 2.2314 - mse: 2.2314\n",
      "Epoch 19/100\n",
      "9/9 [==============================] - 0s 1ms/sample - loss: 2.2284 - mse: 2.2284\n",
      "Epoch 20/100\n",
      "9/9 [==============================] - 0s 1ms/sample - loss: 2.2255 - mse: 2.2255\n",
      "Epoch 21/100\n",
      "9/9 [==============================] - 0s 1ms/sample - loss: 2.2227 - mse: 2.2227\n",
      "Epoch 22/100\n",
      "9/9 [==============================] - 0s 1ms/sample - loss: 2.2200 - mse: 2.2200\n",
      "Epoch 23/100\n",
      "9/9 [==============================] - 0s 1ms/sample - loss: 2.2174 - mse: 2.2174\n",
      "Epoch 24/100\n",
      "9/9 [==============================] - 0s 2ms/sample - loss: 2.2149 - mse: 2.2149\n",
      "Epoch 25/100\n",
      "9/9 [==============================] - 0s 1ms/sample - loss: 2.2125 - mse: 2.2125\n",
      "Epoch 26/100\n",
      "9/9 [==============================] - 0s 1ms/sample - loss: 2.2102 - mse: 2.2102\n",
      "Epoch 27/100\n",
      "9/9 [==============================] - 0s 1ms/sample - loss: 2.2080 - mse: 2.2080\n",
      "Epoch 28/100\n",
      "9/9 [==============================] - 0s 2ms/sample - loss: 2.2058 - mse: 2.2058\n",
      "Epoch 29/100\n",
      "9/9 [==============================] - 0s 2ms/sample - loss: 2.2038 - mse: 2.2038\n",
      "Epoch 30/100\n",
      "9/9 [==============================] - 0s 2ms/sample - loss: 2.2018 - mse: 2.2018\n",
      "Epoch 31/100\n",
      "9/9 [==============================] - 0s 2ms/sample - loss: 2.1998 - mse: 2.1998\n",
      "Epoch 32/100\n",
      "9/9 [==============================] - 0s 2ms/sample - loss: 2.1980 - mse: 2.1980\n",
      "Epoch 33/100\n",
      "9/9 [==============================] - 0s 2ms/sample - loss: 2.1962 - mse: 2.1962\n",
      "Epoch 34/100\n",
      "9/9 [==============================] - 0s 2ms/sample - loss: 2.1945 - mse: 2.1945\n",
      "Epoch 35/100\n",
      "9/9 [==============================] - 0s 2ms/sample - loss: 2.1928 - mse: 2.1928\n",
      "Epoch 36/100\n",
      "9/9 [==============================] - 0s 2ms/sample - loss: 2.1912 - mse: 2.1912\n",
      "Epoch 37/100\n",
      "9/9 [==============================] - 0s 2ms/sample - loss: 2.1896 - mse: 2.1896\n",
      "Epoch 38/100\n",
      "9/9 [==============================] - 0s 2ms/sample - loss: 2.1881 - mse: 2.1881\n",
      "Epoch 39/100\n",
      "9/9 [==============================] - 0s 1ms/sample - loss: 2.1867 - mse: 2.1867\n",
      "Epoch 40/100\n",
      "9/9 [==============================] - 0s 1ms/sample - loss: 2.1853 - mse: 2.1853\n",
      "Epoch 41/100\n",
      "9/9 [==============================] - 0s 1ms/sample - loss: 2.1840 - mse: 2.1840\n",
      "Epoch 42/100\n",
      "9/9 [==============================] - 0s 1ms/sample - loss: 2.1827 - mse: 2.1827\n",
      "Epoch 43/100\n",
      "9/9 [==============================] - 0s 1ms/sample - loss: 2.1814 - mse: 2.1814\n",
      "Epoch 44/100\n",
      "9/9 [==============================] - 0s 1ms/sample - loss: 2.1802 - mse: 2.1802\n",
      "Epoch 45/100\n",
      "9/9 [==============================] - 0s 1ms/sample - loss: 2.1791 - mse: 2.1791\n",
      "Epoch 46/100\n",
      "9/9 [==============================] - 0s 1ms/sample - loss: 2.1779 - mse: 2.1779\n",
      "Epoch 47/100\n",
      "9/9 [==============================] - 0s 1ms/sample - loss: 2.1769 - mse: 2.1769\n",
      "Epoch 48/100\n",
      "9/9 [==============================] - 0s 2ms/sample - loss: 2.1758 - mse: 2.1758\n",
      "Epoch 49/100\n",
      "9/9 [==============================] - 0s 1ms/sample - loss: 2.1748 - mse: 2.1748\n",
      "Epoch 50/100\n",
      "9/9 [==============================] - 0s 1ms/sample - loss: 2.1738 - mse: 2.1738\n",
      "Epoch 51/100\n",
      "9/9 [==============================] - 0s 2ms/sample - loss: 2.1729 - mse: 2.1729\n",
      "Epoch 52/100\n",
      "9/9 [==============================] - 0s 1ms/sample - loss: 2.1720 - mse: 2.1720\n",
      "Epoch 53/100\n",
      "9/9 [==============================] - 0s 2ms/sample - loss: 2.1711 - mse: 2.1711\n",
      "Epoch 54/100\n",
      "9/9 [==============================] - 0s 2ms/sample - loss: 2.1703 - mse: 2.1703\n",
      "Epoch 55/100\n",
      "9/9 [==============================] - 0s 2ms/sample - loss: 2.1695 - mse: 2.1695\n",
      "Epoch 56/100\n",
      "9/9 [==============================] - 0s 2ms/sample - loss: 2.1687 - mse: 2.1687\n",
      "Epoch 57/100\n",
      "9/9 [==============================] - 0s 2ms/sample - loss: 2.1679 - mse: 2.1679\n",
      "Epoch 58/100\n",
      "9/9 [==============================] - 0s 2ms/sample - loss: 2.1672 - mse: 2.1672\n",
      "Epoch 59/100\n",
      "9/9 [==============================] - 0s 2ms/sample - loss: 2.1665 - mse: 2.1665\n",
      "Epoch 60/100\n",
      "9/9 [==============================] - 0s 2ms/sample - loss: 2.1658 - mse: 2.1658\n",
      "Epoch 61/100\n",
      "9/9 [==============================] - 0s 1ms/sample - loss: 2.1651 - mse: 2.1651\n",
      "Epoch 62/100\n",
      "9/9 [==============================] - 0s 2ms/sample - loss: 2.1645 - mse: 2.1645\n",
      "Epoch 63/100\n",
      "9/9 [==============================] - 0s 2ms/sample - loss: 2.1638 - mse: 2.1638\n",
      "Epoch 64/100\n",
      "9/9 [==============================] - 0s 2ms/sample - loss: 2.1632 - mse: 2.1632\n",
      "Epoch 65/100\n",
      "9/9 [==============================] - 0s 1ms/sample - loss: 2.1627 - mse: 2.1627\n",
      "Epoch 66/100\n",
      "9/9 [==============================] - 0s 2ms/sample - loss: 2.1621 - mse: 2.1621\n",
      "Epoch 67/100\n",
      "9/9 [==============================] - 0s 2ms/sample - loss: 2.1616 - mse: 2.1616\n",
      "Epoch 68/100\n",
      "9/9 [==============================] - 0s 2ms/sample - loss: 2.1611 - mse: 2.1611\n",
      "Epoch 69/100\n",
      "9/9 [==============================] - 0s 2ms/sample - loss: 2.1606 - mse: 2.1606\n",
      "Epoch 70/100\n",
      "9/9 [==============================] - 0s 2ms/sample - loss: 2.1601 - mse: 2.1601\n",
      "Epoch 71/100\n",
      "9/9 [==============================] - 0s 1ms/sample - loss: 2.1596 - mse: 2.1596\n",
      "Epoch 72/100\n",
      "9/9 [==============================] - 0s 1ms/sample - loss: 2.1592 - mse: 2.1592\n",
      "Epoch 73/100\n",
      "9/9 [==============================] - 0s 1ms/sample - loss: 2.1587 - mse: 2.1587\n",
      "Epoch 74/100\n",
      "9/9 [==============================] - 0s 2ms/sample - loss: 2.1583 - mse: 2.1583\n",
      "Epoch 75/100\n",
      "9/9 [==============================] - 0s 2ms/sample - loss: 2.1579 - mse: 2.1579\n",
      "Epoch 76/100\n",
      "9/9 [==============================] - 0s 2ms/sample - loss: 2.1575 - mse: 2.1575\n",
      "Epoch 77/100\n",
      "9/9 [==============================] - 0s 2ms/sample - loss: 2.1571 - mse: 2.1571\n",
      "Epoch 78/100\n",
      "9/9 [==============================] - 0s 2ms/sample - loss: 2.1567 - mse: 2.1567\n",
      "Epoch 79/100\n",
      "9/9 [==============================] - 0s 1ms/sample - loss: 2.1564 - mse: 2.1564\n",
      "Epoch 80/100\n",
      "9/9 [==============================] - 0s 1ms/sample - loss: 2.1560 - mse: 2.1560\n",
      "Epoch 81/100\n",
      "9/9 [==============================] - 0s 2ms/sample - loss: 2.1557 - mse: 2.1557\n",
      "Epoch 82/100\n",
      "9/9 [==============================] - 0s 1ms/sample - loss: 2.1554 - mse: 2.1554\n",
      "Epoch 83/100\n",
      "9/9 [==============================] - 0s 2ms/sample - loss: 2.1551 - mse: 2.1551\n",
      "Epoch 84/100\n",
      "9/9 [==============================] - 0s 2ms/sample - loss: 2.1548 - mse: 2.1548\n",
      "Epoch 85/100\n",
      "9/9 [==============================] - 0s 1ms/sample - loss: 2.1545 - mse: 2.1545\n",
      "Epoch 86/100\n",
      "9/9 [==============================] - 0s 1ms/sample - loss: 2.1542 - mse: 2.1542\n",
      "Epoch 87/100\n",
      "9/9 [==============================] - 0s 2ms/sample - loss: 2.1539 - mse: 2.1539\n",
      "Epoch 88/100\n",
      "9/9 [==============================] - 0s 1ms/sample - loss: 2.1537 - mse: 2.1537\n",
      "Epoch 89/100\n",
      "9/9 [==============================] - 0s 2ms/sample - loss: 2.1534 - mse: 2.1534\n",
      "Epoch 90/100\n",
      "9/9 [==============================] - 0s 2ms/sample - loss: 2.1532 - mse: 2.1532\n",
      "Epoch 91/100\n",
      "9/9 [==============================] - 0s 2ms/sample - loss: 2.1529 - mse: 2.1529\n",
      "Epoch 92/100\n",
      "9/9 [==============================] - 0s 2ms/sample - loss: 2.1527 - mse: 2.1527\n",
      "Epoch 93/100\n",
      "9/9 [==============================] - 0s 2ms/sample - loss: 2.1525 - mse: 2.1525\n",
      "Epoch 94/100\n",
      "9/9 [==============================] - 0s 2ms/sample - loss: 2.1523 - mse: 2.1523\n",
      "Epoch 95/100\n",
      "9/9 [==============================] - 0s 2ms/sample - loss: 2.1521 - mse: 2.1521\n",
      "Epoch 96/100\n",
      "9/9 [==============================] - 0s 1ms/sample - loss: 2.1518 - mse: 2.1518\n",
      "Epoch 97/100\n",
      "9/9 [==============================] - 0s 2ms/sample - loss: 2.1517 - mse: 2.1517\n",
      "Epoch 98/100\n",
      "9/9 [==============================] - 0s 2ms/sample - loss: 2.1515 - mse: 2.1515\n",
      "Epoch 99/100\n",
      "9/9 [==============================] - 0s 2ms/sample - loss: 2.1513 - mse: 2.1513\n",
      "Epoch 100/100\n",
      "9/9 [==============================] - 0s 2ms/sample - loss: 2.1511 - mse: 2.1511\n"
     ]
    },
    {
     "data": {
      "text/plain": [
       "<tensorflow.python.keras.callbacks.History at 0x1b7b5162c48>"
      ]
     },
     "execution_count": 6,
     "metadata": {},
     "output_type": "execute_result"
    }
   ],
   "source": [
    "# model train\n",
    "model.fit(x, y, batch_size=1, epochs=100, shuffle=False)"
   ]
  },
  {
   "cell_type": "code",
   "execution_count": 7,
   "metadata": {},
   "outputs": [
    {
     "data": {
      "image/png": "[encoded data removed]",
      "text/plain": [
       "<Figure size 432x288 with 1 Axes>"
      ]
     },
     "metadata": {
      "needs_background": "light"
     },
     "output_type": "display_data"
    }
   ],
   "source": [
    "# 예측값: 파란색 실선, 실제값: 검정색 점\n",
    "plt.plot(x, model.predict(x), 'b', x, y, 'k.')\n",
    "plt.show()"
   ]
  },
  {
   "cell_type": "code",
   "execution_count": 8,
   "metadata": {},
   "outputs": [
    {
     "name": "stdout",
     "output_type": "stream",
     "text": [
      "[[98.55642]]\n"
     ]
    }
   ],
   "source": [
    "print(model.predict([9.5]))"
   ]
  }
 ],
 "metadata": {
  "kernelspec": {
   "display_name": "Python 3",
   "language": "python",
   "name": "python3"
  },
  "language_info": {
   "codemirror_mode": {
    "name": "ipython",
    "version": 3
   },
   "file_extension": ".py",
   "mimetype": "text/x-python",
   "name": "python",
   "nbconvert_exporter": "python",
   "pygments_lexer": "ipython3",
   "version": "3.7.4"
  }
 },
 "nbformat": 4,
 "nbformat_minor": 4
}
